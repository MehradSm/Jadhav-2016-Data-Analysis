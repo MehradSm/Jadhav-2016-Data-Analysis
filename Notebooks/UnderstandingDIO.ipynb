{
 "cells": [
  {
   "cell_type": "markdown",
   "metadata": {},
   "source": [
    "#### The DIO files\n",
    "The DIO files are digital input-output files from the digital input-output board. The inputs to the DIO board are infrared sensors that detect motion near the reward well and trigger automatic delivery of reward. The DIO files are formatted as {*animal*}DIO{*day*}.mat. This notebook is an attempt to figure out how the data is formatted in the DIO files.\n",
    "\n",
    "##### DIO .mat Variables\n",
    "Each Matlab file has three Matlab-cells: *DIO*, *rawdio*, and *diopulses*. For the *DIO* and *rawdio* Matlab-cells, the data structure is nested in Matlab-cells {*day*}{*epoch*}{*pins*}. For the *diopulses* Matlab-cell, the structure is nested as {*pins*}. Pins are digital pins that can be configured as an input or an output. Inactive pins are empty cells. Active pins contain Matlab-structures.\n",
    "\n"
   ]
  },
  {
   "cell_type": "code",
   "execution_count": 727,
   "metadata": {
    "collapsed": false
   },
   "outputs": [
    {
     "name": "stdout",
     "output_type": "stream",
     "text": [
      "DIO file: /Users/edeno/Documents/GitHub/Jadhav-2016-Data-Analysis/Raw-Data//HPa_direct/HPaDIO08.mat\n",
      "DIO size: (1, 8)\n",
      "rawdio size: (1, 8)\n",
      "diopulses size: (1, 24)\n"
     ]
    }
   ],
   "source": [
    "%matplotlib inline \n",
    "import os\n",
    "import collections\n",
    "import scipy.io\n",
    "import numpy as np\n",
    "import matplotlib.pyplot as plt  \n",
    "import seaborn as sns\n",
    "\n",
    "# Get an example DIO file assuming the data is in the Raw Data folder\n",
    "Animal = collections.namedtuple('Animal', {'directory', 'short_name'})\n",
    "HPa = Animal(directory='HPa_direct', short_name='HPa')\n",
    "day = 8\n",
    "\n",
    "def get_data_filename(animal, day, file_type):\n",
    "    '''\n",
    "    Returns the Matlab file name assuming it is in the Raw Data directory.\n",
    "    File type is a string that refers to the various data structure names (DIO, tasks, linpos)\n",
    "    Animal is a named tuple. Day is an integer giving the recording session day.\n",
    "    '''\n",
    "    data_dir = '{working_dir}/Raw-Data/'.format(working_dir=os.getcwd())\n",
    "    return '{data_dir}/{animal.directory}/{animal.short_name}{file_type}{day:02d}.mat'.format(\n",
    "        data_dir=data_dir,\n",
    "        animal=animal,\n",
    "        file_type=file_type,\n",
    "        day=day)   \n",
    "\n",
    "dio_file = get_data_filename(HPa, day, 'DIO')\n",
    "\n",
    "# Load .mat file\n",
    "print('DIO file: {file}'.format(file=dio_file))\n",
    "DIO = scipy.io.loadmat(dio_file)\n",
    "\n",
    "# Make sure all the Matlab-cells exist and are the right size\n",
    "print('DIO size: {size}'.format(size=DIO['DIO'].shape))\n",
    "assert(DIO['DIO'].shape[1] == day)\n",
    "\n",
    "print('rawdio size: {size}'.format(size=DIO['rawdio'].shape))\n",
    "assert(DIO['rawdio'].shape[1] == day)\n",
    "\n",
    "print('diopulses size: {size}'.format(size=DIO['diopulses'].shape))"
   ]
  },
  {
   "cell_type": "markdown",
   "metadata": {},
   "source": [
    "Define some accessor functions to get the positional data (pos) and the DIO data for a particular animal, day, epoch and environment"
   ]
  },
  {
   "cell_type": "code",
   "execution_count": 737,
   "metadata": {
    "collapsed": false
   },
   "outputs": [
    {
     "name": "stdout",
     "output_type": "stream",
     "text": [
      "[(1, 1), (1, 3), (1, 5), (2, 1), (2, 3)]\n"
     ]
    }
   ],
   "source": [
    "def get_epoch(animal, days, epoch_type='', environment=''):\n",
    "    '''\n",
    "    Returns a list of two-element tuples (day, epoch index) that\n",
    "    can access the data structure within each Matlab file. Epoch type\n",
    "    is the task for that epoch (sleep, run, etc.) and environment is\n",
    "    the type of maze the animal is in (if any). If no epoch type or\n",
    "    environment is given, returns all epoch types and environments\n",
    "    '''\n",
    "    if isinstance(days, int):\n",
    "        days = [days]\n",
    "    epoch_index = list()\n",
    "    for day in days:\n",
    "        try:\n",
    "            task_file = scipy.io.loadmat(get_data_filename(animal, day, 'task'))\n",
    "            filtered_epochs = [(ind, epoch) for ind, epoch in enumerate(task_file['task'][0, day-1][0])\n",
    "                               if epoch['type'] == epoch_type or\n",
    "                               epoch_type == '']\n",
    "            epoch_index += [(day, ind) for ind, epoch in filtered_epochs\n",
    "                    if ('environment' in epoch.dtype.names and\n",
    "                    epoch['environment'] == environment) or\n",
    "                    environment == '']\n",
    "        except IOError as err:\n",
    "            print('I/O error({0}): {1}'.format(err.errno, err.strerror))\n",
    "            sys.exit()\n",
    "\n",
    "    return epoch_index\n",
    "\n",
    "\n",
    "def get_var(animal, day, file_type, variable, epoch_type='', environment=''):\n",
    "    '''\n",
    "    Returns a filtered list containing the data structures corresponding to the \n",
    "    animal, day, file_type, epoch specified.\n",
    "    '''\n",
    "    epoch = get_epoch(animal, day, epoch_type=epoch_type, environment=environment)\n",
    "    file = scipy.io.loadmat(get_data_filename(animal, day, file_type))\n",
    "    return [file[variable][0, day - 1][0, ind] for day, ind in epoch]\n",
    "\n",
    "\n",
    "def get_DIO_var(animal, day, dio_var, epoch_type='', environment=''):\n",
    "    '''\n",
    "    Returns a list of lists given a DIO variable (pulsetimes, timesincelast, pulselength, and pulseind)\n",
    "    with a length corresponding to the number of epochs (first level) and the number of active pins\n",
    "    (second level)\n",
    "    '''\n",
    "    epoch_pins = get_var(animal, day, 'DIO', 'DIO', epoch_type=epoch_type, environment=environment)\n",
    "    return [pin[0][dio_var]\n",
    "            for pins in epoch_pins \n",
    "            for pin in pins.swapaxes(0,1) \n",
    "            if pin[0].dtype.names != None]\n",
    "\n",
    "\n",
    "def get_pos_var(animal, day, pos_var, epoch_type='', environment=''):\n",
    "    '''\n",
    "    Returns a list of lists given a pos variable (time, x, y, dir, vel, x-sm, y-sm, dir-sm, and vel-sm)\n",
    "    with a length corresponding to the number of epochs (first level)\n",
    "    '''\n",
    "    field_names = ['time', 'x', 'y', 'dir', 'vel', 'x-sm', 'y-sm', 'dir-sm', 'vel-sm']\n",
    "    field_ind = [field_names.index(var) for var in pos_var]\n",
    "    epoch_pos = get_var(animal, day, 'pos', 'pos', epoch_type=epoch_type, environment=environment)\n",
    "    return [pos['data'][0, 0][:, field_ind]\n",
    "           for pos in epoch_pos]\n",
    "\n",
    "print(get_epoch(HPa, [1,2], epoch_type='run'))\n",
    "# get_epoch(HPa, day, epoch_type='run', environment='wtr1')\n",
    "# get_epoch(HPa, day, epoch_type='')\n",
    "# get_epoch(HPa, day, epoch_type='sleep')\n",
    "# get_epoch(HPa, day, epoch_type='sleep', environment='presleep')\n",
    "# get_epoch(HPa, day, epoch_type='sleep', environment='wtr1')"
   ]
  },
  {
   "cell_type": "markdown",
   "metadata": {},
   "source": [
    "Let's look at one animal (*HPa*). The animal is running on the first w-track environment (*wtr1*)."
   ]
  },
  {
   "cell_type": "code",
   "execution_count": 729,
   "metadata": {
    "collapsed": false
   },
   "outputs": [
    {
     "ename": "TypeError",
     "evalue": "'int' object is not iterable",
     "output_type": "error",
     "traceback": [
      "\u001b[0;31m---------------------------------------------------------------------------\u001b[0m",
      "\u001b[0;31mTypeError\u001b[0m                                 Traceback (most recent call last)",
      "\u001b[0;32m<ipython-input-729-cbf0f649c342>\u001b[0m in \u001b[0;36m<module>\u001b[0;34m()\u001b[0m\n\u001b[1;32m      7\u001b[0m \u001b[0;34m\u001b[0m\u001b[0m\n\u001b[1;32m      8\u001b[0m \u001b[0;32mfor\u001b[0m \u001b[0mday\u001b[0m \u001b[0;32min\u001b[0m \u001b[0mrange\u001b[0m\u001b[0;34m(\u001b[0m\u001b[0;36m1\u001b[0m\u001b[0;34m,\u001b[0m \u001b[0mnumDays\u001b[0m \u001b[0;34m+\u001b[0m \u001b[0;36m1\u001b[0m\u001b[0;34m)\u001b[0m\u001b[0;34m:\u001b[0m\u001b[0;34m\u001b[0m\u001b[0m\n\u001b[0;32m----> 9\u001b[0;31m     \u001b[0mx\u001b[0m \u001b[0;34m=\u001b[0m \u001b[0mget_pos_var\u001b[0m\u001b[0;34m(\u001b[0m\u001b[0mHPa\u001b[0m\u001b[0;34m,\u001b[0m \u001b[0mday\u001b[0m\u001b[0;34m,\u001b[0m \u001b[0;34m'x'\u001b[0m\u001b[0;34m,\u001b[0m \u001b[0mepoch_type\u001b[0m\u001b[0;34m=\u001b[0m\u001b[0mepoch_type\u001b[0m\u001b[0;34m,\u001b[0m \u001b[0menvironment\u001b[0m\u001b[0;34m=\u001b[0m\u001b[0menvironment\u001b[0m\u001b[0;34m)\u001b[0m\u001b[0;34m\u001b[0m\u001b[0m\n\u001b[0m\u001b[1;32m     10\u001b[0m     \u001b[0my\u001b[0m \u001b[0;34m=\u001b[0m \u001b[0mget_pos_var\u001b[0m\u001b[0;34m(\u001b[0m\u001b[0mHPa\u001b[0m\u001b[0;34m,\u001b[0m \u001b[0mday\u001b[0m\u001b[0;34m,\u001b[0m \u001b[0;34m'y'\u001b[0m\u001b[0;34m,\u001b[0m \u001b[0mepoch_type\u001b[0m\u001b[0;34m=\u001b[0m\u001b[0mepoch_type\u001b[0m\u001b[0;34m,\u001b[0m \u001b[0menvironment\u001b[0m\u001b[0;34m=\u001b[0m\u001b[0menvironment\u001b[0m\u001b[0;34m)\u001b[0m\u001b[0;34m\u001b[0m\u001b[0m\n\u001b[1;32m     11\u001b[0m \u001b[0;34m\u001b[0m\u001b[0m\n",
      "\u001b[0;32m<ipython-input-728-9b786b065f1f>\u001b[0m in \u001b[0;36mget_pos_var\u001b[0;34m(animal, day, pos_var, epoch_type, environment)\u001b[0m\n\u001b[1;32m     61\u001b[0m     \u001b[0mfield_names\u001b[0m \u001b[0;34m=\u001b[0m \u001b[0;34m[\u001b[0m\u001b[0;34m'time'\u001b[0m\u001b[0;34m,\u001b[0m \u001b[0;34m'x'\u001b[0m\u001b[0;34m,\u001b[0m \u001b[0;34m'y'\u001b[0m\u001b[0;34m,\u001b[0m \u001b[0;34m'dir'\u001b[0m\u001b[0;34m,\u001b[0m \u001b[0;34m'vel'\u001b[0m\u001b[0;34m,\u001b[0m \u001b[0;34m'x-sm'\u001b[0m\u001b[0;34m,\u001b[0m \u001b[0;34m'y-sm'\u001b[0m\u001b[0;34m,\u001b[0m \u001b[0;34m'dir-sm'\u001b[0m\u001b[0;34m,\u001b[0m \u001b[0;34m'vel-sm'\u001b[0m\u001b[0;34m]\u001b[0m\u001b[0;34m\u001b[0m\u001b[0m\n\u001b[1;32m     62\u001b[0m     \u001b[0mfield_ind\u001b[0m \u001b[0;34m=\u001b[0m \u001b[0;34m[\u001b[0m\u001b[0mfield_names\u001b[0m\u001b[0;34m.\u001b[0m\u001b[0mindex\u001b[0m\u001b[0;34m(\u001b[0m\u001b[0mvar\u001b[0m\u001b[0;34m)\u001b[0m \u001b[0;32mfor\u001b[0m \u001b[0mvar\u001b[0m \u001b[0;32min\u001b[0m \u001b[0mpos_var\u001b[0m\u001b[0;34m]\u001b[0m\u001b[0;34m\u001b[0m\u001b[0m\n\u001b[0;32m---> 63\u001b[0;31m     \u001b[0mepoch_pos\u001b[0m \u001b[0;34m=\u001b[0m \u001b[0mget_var\u001b[0m\u001b[0;34m(\u001b[0m\u001b[0manimal\u001b[0m\u001b[0;34m,\u001b[0m \u001b[0mday\u001b[0m\u001b[0;34m,\u001b[0m \u001b[0;34m'pos'\u001b[0m\u001b[0;34m,\u001b[0m \u001b[0;34m'pos'\u001b[0m\u001b[0;34m,\u001b[0m \u001b[0mepoch_type\u001b[0m\u001b[0;34m=\u001b[0m\u001b[0mepoch_type\u001b[0m\u001b[0;34m,\u001b[0m \u001b[0menvironment\u001b[0m\u001b[0;34m=\u001b[0m\u001b[0menvironment\u001b[0m\u001b[0;34m)\u001b[0m\u001b[0;34m\u001b[0m\u001b[0m\n\u001b[0m\u001b[1;32m     64\u001b[0m     return [pos['data'][0, 0][:, field_ind]\n\u001b[1;32m     65\u001b[0m            for pos in epoch_pos]\n",
      "\u001b[0;32m<ipython-input-728-9b786b065f1f>\u001b[0m in \u001b[0;36mget_var\u001b[0;34m(animal, day, file_type, variable, epoch_type, environment)\u001b[0m\n\u001b[1;32m     36\u001b[0m     \u001b[0manimal\u001b[0m\u001b[0;34m,\u001b[0m \u001b[0mday\u001b[0m\u001b[0;34m,\u001b[0m \u001b[0mfile_type\u001b[0m\u001b[0;34m,\u001b[0m \u001b[0mepoch\u001b[0m \u001b[0mspecified\u001b[0m\u001b[0;34m.\u001b[0m\u001b[0;34m\u001b[0m\u001b[0m\n\u001b[1;32m     37\u001b[0m     '''\n\u001b[0;32m---> 38\u001b[0;31m     \u001b[0mepoch\u001b[0m \u001b[0;34m=\u001b[0m \u001b[0mget_epoch\u001b[0m\u001b[0;34m(\u001b[0m\u001b[0manimal\u001b[0m\u001b[0;34m,\u001b[0m \u001b[0mday\u001b[0m\u001b[0;34m,\u001b[0m \u001b[0mepoch_type\u001b[0m\u001b[0;34m=\u001b[0m\u001b[0mepoch_type\u001b[0m\u001b[0;34m,\u001b[0m \u001b[0menvironment\u001b[0m\u001b[0;34m=\u001b[0m\u001b[0menvironment\u001b[0m\u001b[0;34m)\u001b[0m\u001b[0;34m\u001b[0m\u001b[0m\n\u001b[0m\u001b[1;32m     39\u001b[0m     \u001b[0mfile\u001b[0m \u001b[0;34m=\u001b[0m \u001b[0mscipy\u001b[0m\u001b[0;34m.\u001b[0m\u001b[0mio\u001b[0m\u001b[0;34m.\u001b[0m\u001b[0mloadmat\u001b[0m\u001b[0;34m(\u001b[0m\u001b[0mget_data_filename\u001b[0m\u001b[0;34m(\u001b[0m\u001b[0manimal\u001b[0m\u001b[0;34m,\u001b[0m \u001b[0mday\u001b[0m\u001b[0;34m,\u001b[0m \u001b[0mfile_type\u001b[0m\u001b[0;34m)\u001b[0m\u001b[0;34m)\u001b[0m\u001b[0;34m\u001b[0m\u001b[0m\n\u001b[1;32m     40\u001b[0m     \u001b[0;32mreturn\u001b[0m \u001b[0;34m[\u001b[0m\u001b[0mfile\u001b[0m\u001b[0;34m[\u001b[0m\u001b[0mvariable\u001b[0m\u001b[0;34m]\u001b[0m\u001b[0;34m[\u001b[0m\u001b[0;36m0\u001b[0m\u001b[0;34m,\u001b[0m \u001b[0mday\u001b[0m \u001b[0;34m-\u001b[0m \u001b[0;36m1\u001b[0m\u001b[0;34m]\u001b[0m\u001b[0;34m[\u001b[0m\u001b[0;36m0\u001b[0m\u001b[0;34m,\u001b[0m \u001b[0mind\u001b[0m\u001b[0;34m]\u001b[0m \u001b[0;32mfor\u001b[0m \u001b[0mday\u001b[0m\u001b[0;34m,\u001b[0m \u001b[0mind\u001b[0m \u001b[0;32min\u001b[0m \u001b[0mepoch\u001b[0m\u001b[0;34m]\u001b[0m\u001b[0;34m\u001b[0m\u001b[0m\n",
      "\u001b[0;32m<ipython-input-728-9b786b065f1f>\u001b[0m in \u001b[0;36mget_epoch\u001b[0;34m(animal, days, epoch_type, environment)\u001b[0m\n\u001b[1;32m      8\u001b[0m     '''\n\u001b[1;32m      9\u001b[0m     \u001b[0mepoch_index\u001b[0m \u001b[0;34m=\u001b[0m \u001b[0mlist\u001b[0m\u001b[0;34m(\u001b[0m\u001b[0;34m)\u001b[0m\u001b[0;34m\u001b[0m\u001b[0m\n\u001b[0;32m---> 10\u001b[0;31m     \u001b[0;32mfor\u001b[0m \u001b[0mday\u001b[0m \u001b[0;32min\u001b[0m \u001b[0mdays\u001b[0m\u001b[0;34m:\u001b[0m\u001b[0;34m\u001b[0m\u001b[0m\n\u001b[0m\u001b[1;32m     11\u001b[0m         \u001b[0;32mtry\u001b[0m\u001b[0;34m:\u001b[0m\u001b[0;34m\u001b[0m\u001b[0m\n\u001b[1;32m     12\u001b[0m             \u001b[0mtask_file\u001b[0m \u001b[0;34m=\u001b[0m \u001b[0mscipy\u001b[0m\u001b[0;34m.\u001b[0m\u001b[0mio\u001b[0m\u001b[0;34m.\u001b[0m\u001b[0mloadmat\u001b[0m\u001b[0;34m(\u001b[0m\u001b[0mget_data_filename\u001b[0m\u001b[0;34m(\u001b[0m\u001b[0manimal\u001b[0m\u001b[0;34m,\u001b[0m \u001b[0mday\u001b[0m\u001b[0;34m,\u001b[0m \u001b[0;34m'task'\u001b[0m\u001b[0;34m)\u001b[0m\u001b[0;34m)\u001b[0m\u001b[0;34m\u001b[0m\u001b[0m\n",
      "\u001b[0;31mTypeError\u001b[0m: 'int' object is not iterable"
     ]
    },
    {
     "data": {
      "text/plain": [
       "<matplotlib.figure.Figure at 0x284b56e10>"
      ]
     },
     "metadata": {},
     "output_type": "display_data"
    }
   ],
   "source": [
    "HPa = Animal(directory='HPa_direct', short_name='HPa')\n",
    "epoch_type = 'run'\n",
    "environment = 'wtr1'\n",
    "numDays = 8\n",
    "\n",
    "plt.figure(figsize=(12, 9))\n",
    "\n",
    "for day in range(1, numDays + 1):\n",
    "    x = get_pos_var(HPa, day, 'x', epoch_type=epoch_type, environment=environment)\n",
    "    y = get_pos_var(HPa, day, 'y', epoch_type=epoch_type, environment=environment)\n",
    "\n",
    "    ax = plt.subplot(4, 4, day)\n",
    "    plt.plot(x[0], y[0])\n",
    "    plt.title('Day {day}'.format(day=day))\n",
    "    plt.xlim([0, 150])\n",
    "    plt.ylim([0, 150])\n",
    "    ax.xaxis.set_visible(False)\n",
    "    ax.yaxis.set_visible(False)\n",
    "    \n",
    "plt.tight_layout()\n",
    "plt.subplots_adjust(top=0.90)\n",
    "plt.suptitle(\"Rat '{animal}' position by day\".format(animal=HPa.short_name), fontsize=24)\n",
    "sns.set_style(\"dark\")"
   ]
  },
  {
   "cell_type": "markdown",
   "metadata": {},
   "source": [
    "Now let's match the pulse times from the DIO inputs to the rat's position. The positions should correspond to the ends of the three arms -- the position of the food wells."
   ]
  },
  {
   "cell_type": "code",
   "execution_count": 721,
   "metadata": {
    "collapsed": false
   },
   "outputs": [
    {
     "name": "stdout",
     "output_type": "stream",
     "text": [
      "1\n",
      "run\n",
      "wtr1\n",
      "[(1, 1), (1, 3), (1, 5)]\n"
     ]
    }
   ],
   "source": [
    "day = 1\n",
    "print(day)\n",
    "print(epoch_type)\n",
    "print(environment)\n",
    "print(get_epoch(HPa, day, epoch_type=epoch_type, environment=''))\n",
    "# pulse_times = get_DIO_var(HPa, day, 'pulsetimes', epoch_type=epoch_type, environment=environment)\n",
    "# time = get_pos_var(HPa, day, ['time', 'x', 'y'], epoch_type=epoch_type, environment=environment)\n",
    "#     for epochs in pulse_times:\n",
    "#         for pin in epochs:\n",
    "#             for times in pin[0]:\n",
    "#                 print(min(abs((times[0] / 1E5) - time)))"
   ]
  },
  {
   "cell_type": "code",
   "execution_count": null,
   "metadata": {
    "collapsed": true
   },
   "outputs": [],
   "source": []
  }
 ],
 "metadata": {
  "anaconda-cloud": {},
  "kernelspec": {
   "display_name": "Python [Rothschild-Data-Analysis]",
   "language": "python",
   "name": "Python [Rothschild-Data-Analysis]"
  },
  "language_info": {
   "codemirror_mode": {
    "name": "ipython",
    "version": 3
   },
   "file_extension": ".py",
   "mimetype": "text/x-python",
   "name": "python",
   "nbconvert_exporter": "python",
   "pygments_lexer": "ipython3",
   "version": "3.5.2"
  }
 },
 "nbformat": 4,
 "nbformat_minor": 0
}
