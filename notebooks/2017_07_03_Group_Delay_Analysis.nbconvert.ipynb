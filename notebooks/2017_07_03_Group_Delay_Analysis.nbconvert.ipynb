{
 "cells": [
  {
   "cell_type": "code",
   "execution_count": null,
   "metadata": {
    "collapsed": true
   },
   "outputs": [],
   "source": [
    "%matplotlib inline\n",
    "%reload_ext autoreload\n",
    "%autoreload 2"
   ]
  },
  {
   "cell_type": "code",
   "execution_count": null,
   "metadata": {},
   "outputs": [],
   "source": [
    "from IPython.display import HTML\n",
    "\n",
    "HTML('''<script>\n",
    "code_show=true; \n",
    "function code_toggle() {\n",
    " if (code_show){\n",
    " $('div.input').hide();\n",
    " $('div.output_stderr').hide();\n",
    " } else {\n",
    " $('div.input').show();\n",
    " $('div.output_stderr').show();\n",
    " }\n",
    " code_show = !code_show\n",
    "} \n",
    "$( document ).ready(code_toggle);\n",
    "</script>\n",
    "<form action='javascript:code_toggle()'><input STYLE='color: #4286f4' type='submit' value='Click here to toggle on/off the raw code.'></form>''')"
   ]
  },
  {
   "cell_type": "markdown",
   "metadata": {},
   "source": [
    "# Purpose\n",
    "This notebook is for the spectral analysis with our confidence of the ripple state classification >= 0.7."
   ]
  },
  {
   "cell_type": "code",
   "execution_count": null,
   "metadata": {
    "collapsed": true
   },
   "outputs": [],
   "source": [
    "from itertools import combinations\n",
    "import numpy as np\n",
    "import matplotlib.pyplot as plt\n",
    "import seaborn as sns\n",
    "import pandas as pd\n",
    "import xarray as xr\n",
    "\n",
    "from src.data_processing import read_netcdfs\n",
    "\n",
    "import warnings\n",
    "warnings.filterwarnings('ignore', 'numpy equal will not check object identity in the future')"
   ]
  },
  {
   "cell_type": "code",
   "execution_count": null,
   "metadata": {
    "collapsed": true
   },
   "outputs": [],
   "source": [
    "def plot_ci(ds, **ax_kwargs):\n",
    "    mean_dims = ['session', 'tetrode1', 'tetrode2']\n",
    "    ci = 1.96 * ds.std(mean_dims)\n",
    "    mean = ds.mean(mean_dims)\n",
    "    (mean + ci).plot(**ax_kwargs, linestyle='--')\n",
    "    mean.plot(**ax_kwargs, linestyle='-', linewidth=3)\n",
    "    (mean - ci).plot(**ax_kwargs, linestyle='--')\n",
    "\n",
    "def plot_delay(path, group, brain_area1, brain_area2, frequency_band, figsize=(15, 5)):\n",
    "    transform_func = lambda ds: ds.sel(\n",
    "        tetrode1=ds.tetrode1[ds.brain_area1==brain_area1],\n",
    "        tetrode2=ds.tetrode2[ds.brain_area2==brain_area2],\n",
    "        frequency_band=frequency_band\n",
    "    )\n",
    "    ds = read_netcdfs(\n",
    "        path, dim='session', group=group,\n",
    "        transform_func=transform_func).delay\n",
    "\n",
    "    fig, axes = plt.subplots(1, 2, figsize=figsize)\n",
    "    \n",
    "    plot_ci(ds, ax=axes[0], color='blue')\n",
    "    axes[0].set_title('Raw delay')\n",
    "    \n",
    "    plot_ci(ds - ds.isel(time=0), ax=axes[1], color='blue')\n",
    "    axes[1].set_title('Difference from baseline delay')\n",
    "    \n",
    "    for ax in axes:\n",
    "        ax.axvline(0, color='black', linestyle='-')\n",
    "        ax.axhline(0, color='black', linestyle='-')\n",
    "    \n",
    "    plt.tight_layout()\n",
    "    plt.suptitle(\n",
    "        '{brain_area1} - {brain_area2}'.format(\n",
    "            brain_area1=brain_area1, brain_area2=brain_area2),\n",
    "        fontsize=18, fontweight='bold')\n",
    "    plt.subplots_adjust(top=0.85)"
   ]
  },
  {
   "cell_type": "code",
   "execution_count": null,
   "metadata": {
    "collapsed": true
   },
   "outputs": [],
   "source": [
    "def plot_delay_by_ripple_type(path, brain_area1, brain_area2, frequency_band,\n",
    "                              resolution, covariate, level1, level2,\n",
    "                              figsize=(15, 5)):\n",
    "    def get_data(level):\n",
    "        group = '{resolution}/{covariate}/{level}/group_delay'.format(\n",
    "            resolution=resolution, covariate=covariate, level=level)\n",
    "        transform_func = lambda ds: ds.sel(\n",
    "            tetrode1=ds.tetrode1[ds.brain_area1==brain_area1],\n",
    "            tetrode2=ds.tetrode2[ds.brain_area2==brain_area2],\n",
    "            frequency_band=frequency_band\n",
    "        )\n",
    "        return read_netcdfs(\n",
    "            path, dim='session', group=group,\n",
    "            transform_func=transform_func).delay\n",
    "    \n",
    "    ds1 = get_data(level1)\n",
    "    ds2 = get_data(level2)\n",
    "\n",
    "    fig, axes = plt.subplots(1, 3, figsize=figsize)\n",
    "    \n",
    "    plot_ci(ds1, ax=axes[0], color='purple');\n",
    "    axes[0].set_title(level1)\n",
    "    \n",
    "    plot_ci(ds2, ax=axes[1], color='green');\n",
    "    axes[1].set_title(level2)\n",
    "    \n",
    "    plot_ci(ds2 - ds1, ax=axes[2], color='black');\n",
    "    axes[2].set_title(\n",
    "        '{covariate}: {level2} - {level1}'.format(\n",
    "            level1=level1,\n",
    "            level2=level2,\n",
    "            covariate=covariate\n",
    "        )\n",
    "    )\n",
    "    \n",
    "    for ax in axes:\n",
    "        ax.axvline(0, color='black', linestyle='-')\n",
    "        ax.axhline(0, color='black', linestyle='-')\n",
    "    \n",
    "    plt.tight_layout()\n",
    "    plt.suptitle(\n",
    "        '{brain_area1} - {brain_area2}'.format(\n",
    "            brain_area1=brain_area1, brain_area2=brain_area2),\n",
    "        fontsize=18, fontweight='bold')\n",
    "    plt.subplots_adjust(top=0.85)"
   ]
  },
  {
   "cell_type": "markdown",
   "metadata": {},
   "source": [
    "## All Ripples\n",
    "\n",
    "### Theta"
   ]
  },
  {
   "cell_type": "code",
   "execution_count": null,
   "metadata": {},
   "outputs": [],
   "source": [
    "path = '../Processed-Data/*.nc'\n",
    "group = '2Hz_Resolution/all_ripples/group_delay'\n",
    "frequency_band = 'theta'\n",
    "\n",
    "brain_areas = ['CA1', 'iCA1', 'PFC']\n",
    "for brain_area1, brain_area2 in combinations(brain_areas, 2):\n",
    "    plot_delay(path, group, brain_area1, brain_area2, frequency_band)"
   ]
  },
  {
   "cell_type": "markdown",
   "metadata": {},
   "source": [
    "### Beta"
   ]
  },
  {
   "cell_type": "code",
   "execution_count": null,
   "metadata": {},
   "outputs": [],
   "source": [
    "path = '../Processed-Data/*.nc'\n",
    "group = '4Hz_Resolution/all_ripples/group_delay'\n",
    "frequency_band = 'beta'\n",
    "\n",
    "brain_areas = ['CA1', 'iCA1', 'PFC']\n",
    "for brain_area1, brain_area2 in combinations(brain_areas, 2):\n",
    "    plot_delay(path, group, brain_area1, brain_area2, frequency_band)"
   ]
  },
  {
   "cell_type": "markdown",
   "metadata": {},
   "source": [
    "### Slow Gamma"
   ]
  },
  {
   "cell_type": "code",
   "execution_count": null,
   "metadata": {},
   "outputs": [],
   "source": [
    "path = '../Processed-Data/*.nc'\n",
    "group = '4Hz_Resolution/all_ripples/group_delay'\n",
    "frequency_band = 'slow_gamma'\n",
    "\n",
    "brain_areas = ['CA1', 'iCA1', 'PFC']\n",
    "for brain_area1, brain_area2 in combinations(brain_areas, 2):\n",
    "    plot_delay(path, group, brain_area1, brain_area2, frequency_band)"
   ]
  },
  {
   "cell_type": "markdown",
   "metadata": {},
   "source": [
    "### Ripple Band"
   ]
  },
  {
   "cell_type": "code",
   "execution_count": null,
   "metadata": {},
   "outputs": [],
   "source": [
    "path = '../Processed-Data/*.nc'\n",
    "group = '20Hz_Resolution/all_ripples/group_delay'\n",
    "frequency_band = 'ripple'\n",
    "\n",
    "brain_areas = ['CA1', 'iCA1', 'PFC']\n",
    "for brain_area1, brain_area2 in combinations(brain_areas, 2):\n",
    "    plot_delay(path, group, brain_area1, brain_area2, frequency_band)"
   ]
  },
  {
   "cell_type": "markdown",
   "metadata": {},
   "source": [
    "## Ripple Direction: Forward vs. Reverse\n",
    "\n",
    "### Theta"
   ]
  },
  {
   "cell_type": "code",
   "execution_count": null,
   "metadata": {},
   "outputs": [],
   "source": [
    "path = '../Processed-Data/*.nc'\n",
    "covariate = 'ripple_direction'\n",
    "level1 = 'forward'\n",
    "level2 = 'reverse'\n",
    "resolution = '2Hz_Resolution'\n",
    "frequency_band = 'theta'\n",
    "\n",
    "brain_areas = ['CA1', 'iCA1', 'PFC']\n",
    "for brain_area1, brain_area2 in combinations(brain_areas, 2):\n",
    "    plot_delay_by_ripple_type(path, brain_area1, brain_area2, frequency_band,\n",
    "                              resolution, covariate, level1, level2)"
   ]
  },
  {
   "cell_type": "markdown",
   "metadata": {},
   "source": [
    "### Beta"
   ]
  },
  {
   "cell_type": "code",
   "execution_count": null,
   "metadata": {},
   "outputs": [],
   "source": [
    "path = '../Processed-Data/*.nc'\n",
    "covariate = 'ripple_direction'\n",
    "level1 = 'forward'\n",
    "level2 = 'reverse'\n",
    "resolution = '2Hz_Resolution'\n",
    "frequency_band = 'beta'\n",
    "\n",
    "brain_areas = ['CA1', 'iCA1', 'PFC']\n",
    "for brain_area1, brain_area2 in combinations(brain_areas, 2):\n",
    "    plot_delay_by_ripple_type(path, brain_area1, brain_area2, frequency_band,\n",
    "                              resolution, covariate, level1, level2)"
   ]
  },
  {
   "cell_type": "markdown",
   "metadata": {},
   "source": [
    "### Slow Gamma"
   ]
  },
  {
   "cell_type": "code",
   "execution_count": null,
   "metadata": {},
   "outputs": [],
   "source": [
    "path = '../Processed-Data/*.nc'\n",
    "covariate = 'ripple_direction'\n",
    "level1 = 'forward'\n",
    "level2 = 'reverse'\n",
    "resolution = '4Hz_Resolution'\n",
    "frequency_band = 'slow_gamma'\n",
    "\n",
    "brain_areas = ['CA1', 'iCA1', 'PFC']\n",
    "for brain_area1, brain_area2 in combinations(brain_areas, 2):\n",
    "    plot_delay_by_ripple_type(path, brain_area1, brain_area2, frequency_band,\n",
    "                              resolution, covariate, level1, level2)"
   ]
  },
  {
   "cell_type": "markdown",
   "metadata": {},
   "source": [
    "### Ripple"
   ]
  },
  {
   "cell_type": "code",
   "execution_count": null,
   "metadata": {},
   "outputs": [],
   "source": [
    "path = '../Processed-Data/*.nc'\n",
    "covariate = 'ripple_direction'\n",
    "level1 = 'forward'\n",
    "level2 = 'reverse'\n",
    "resolution = '20Hz_Resolution'\n",
    "frequency_band = 'ripple'\n",
    "\n",
    "brain_areas = ['CA1', 'iCA1', 'PFC']\n",
    "for brain_area1, brain_area2 in combinations(brain_areas, 2):\n",
    "    plot_delay_by_ripple_type(path, brain_area1, brain_area2, frequency_band,\n",
    "                              resolution, covariate, level1, level2)"
   ]
  },
  {
   "cell_type": "markdown",
   "metadata": {},
   "source": [
    "## Ripple Trajectory: Inbound vs. Outbound\n",
    "\n",
    "### Theta"
   ]
  },
  {
   "cell_type": "code",
   "execution_count": null,
   "metadata": {},
   "outputs": [],
   "source": [
    "path = '../Processed-Data/*.nc'\n",
    "covariate = 'ripple_trajectory'\n",
    "level1 = 'inbound'\n",
    "level2 = 'outbound'\n",
    "resolution = '2Hz_Resolution'\n",
    "frequency_band = 'theta'\n",
    "\n",
    "brain_areas = ['CA1', 'iCA1', 'PFC']\n",
    "for brain_area1, brain_area2 in combinations(brain_areas, 2):\n",
    "    plot_delay_by_ripple_type(path, brain_area1, brain_area2, frequency_band,\n",
    "                              resolution, covariate, level1, level2)"
   ]
  },
  {
   "cell_type": "markdown",
   "metadata": {},
   "source": [
    "### Beta"
   ]
  },
  {
   "cell_type": "code",
   "execution_count": null,
   "metadata": {},
   "outputs": [],
   "source": [
    "path = '../Processed-Data/*.nc'\n",
    "covariate = 'ripple_trajectory'\n",
    "level1 = 'inbound'\n",
    "level2 = 'outbound'\n",
    "resolution = '2Hz_Resolution'\n",
    "frequency_band = 'beta'\n",
    "\n",
    "brain_areas = ['CA1', 'iCA1', 'PFC']\n",
    "for brain_area1, brain_area2 in combinations(brain_areas, 2):\n",
    "    plot_delay_by_ripple_type(path, brain_area1, brain_area2, frequency_band,\n",
    "                              resolution, covariate, level1, level2)"
   ]
  },
  {
   "cell_type": "markdown",
   "metadata": {},
   "source": [
    "### Slow Gamma"
   ]
  },
  {
   "cell_type": "code",
   "execution_count": null,
   "metadata": {},
   "outputs": [],
   "source": [
    "path = '../Processed-Data/*.nc'\n",
    "covariate = 'ripple_trajectory'\n",
    "level1 = 'inbound'\n",
    "level2 = 'outbound'\n",
    "resolution = '4Hz_Resolution'\n",
    "frequency_band = 'slow_gamma'\n",
    "\n",
    "brain_areas = ['CA1', 'iCA1', 'PFC']\n",
    "for brain_area1, brain_area2 in combinations(brain_areas, 2):\n",
    "    plot_delay_by_ripple_type(path, brain_area1, brain_area2, frequency_band,\n",
    "                              resolution, covariate, level1, level2)"
   ]
  },
  {
   "cell_type": "markdown",
   "metadata": {},
   "source": [
    "### Ripple "
   ]
  },
  {
   "cell_type": "code",
   "execution_count": null,
   "metadata": {},
   "outputs": [],
   "source": [
    "path = '../Processed-Data/*.nc'\n",
    "covariate = 'ripple_trajectory'\n",
    "level1 = 'inbound'\n",
    "level2 = 'outbound'\n",
    "resolution = '20Hz_Resolution'\n",
    "frequency_band = 'ripple'\n",
    "\n",
    "brain_areas = ['CA1', 'iCA1', 'PFC']\n",
    "for brain_area1, brain_area2 in combinations(brain_areas, 2):\n",
    "    plot_delay_by_ripple_type(path, brain_area1, brain_area2, frequency_band,\n",
    "                              resolution, covariate, level1, level2)"
   ]
  },
  {
   "cell_type": "code",
   "execution_count": null,
   "metadata": {
    "collapsed": true
   },
   "outputs": [],
   "source": []
  }
 ],
 "metadata": {
  "kernelspec": {
   "display_name": "Python [default]",
   "language": "python",
   "name": "python3"
  },
  "language_info": {
   "codemirror_mode": {
    "name": "ipython",
    "version": 3
   },
   "file_extension": ".py",
   "mimetype": "text/x-python",
   "name": "python",
   "nbconvert_exporter": "python",
   "pygments_lexer": "ipython3",
   "version": "3.5.3"
  }
 },
 "nbformat": 4,
 "nbformat_minor": 2
}
