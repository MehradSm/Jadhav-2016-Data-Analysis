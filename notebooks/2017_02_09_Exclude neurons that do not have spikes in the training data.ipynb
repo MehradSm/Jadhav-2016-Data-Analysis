{
 "cells": [
  {
   "cell_type": "code",
   "execution_count": 2,
   "metadata": {
    "collapsed": true
   },
   "outputs": [],
   "source": [
    "%matplotlib inline\n",
    "%reload_ext autoreload\n",
    "%autoreload 2\n",
    "%qtconsole\n",
    "import sys\n",
    "import collections\n",
    "import numpy as np\n",
    "import matplotlib.pyplot as plt\n",
    "import seaborn as sns\n",
    "import pandas as pd\n",
    "import tqdm\n",
    "import patsy\n",
    "import statsmodels.api as sm\n",
    "import statsmodels.formula.api as smf\n",
    "import scipy.stats\n",
    "\n",
    "sys.path.append('../src/')\n",
    "import data_processing\n",
    "import ripple_decoding\n",
    "import ripple_detection\n",
    "\n",
    "Animal = collections.namedtuple('Animal', {'directory', 'short_name'})\n",
    "animals = {'HPa': Animal(directory='HPa_direct', short_name='HPa')}\n",
    "epoch_index = ('HPa', 8, 4)\n",
    "sampling_frequency = 1500"
   ]
  },
  {
   "cell_type": "code",
   "execution_count": 3,
   "metadata": {
    "collapsed": false
   },
   "outputs": [
    {
     "name": "stdout",
     "output_type": "stream",
     "text": [
      "\n",
      "Decoding ripples for Animal HPa, Day 8, Epoch #4:\n"
     ]
    }
   ],
   "source": [
    "print('\\nDecoding ripples for Animal {0}, Day {1}, Epoch #{2}:'.format(*epoch_index))\n",
    "# Include only CA1 neurons with spikes\n",
    "neuron_info = data_processing.make_neuron_dataframe(animals)[epoch_index].dropna()\n",
    "tetrode_info = data_processing.make_tetrode_dataframe(animals)[epoch_index]\n",
    "neuron_info = pd.merge(tetrode_info, neuron_info,\n",
    "                       on=['animal', 'day', 'epoch_ind', 'tetrode_number', 'area'],\n",
    "                       how='right', right_index=True).set_index(neuron_info.index)\n",
    "neuron_info = neuron_info[neuron_info.area.isin(['CA1', 'iCA1']) &\n",
    "                          (neuron_info.numspikes > 0) &\n",
    "                          ~neuron_info.descrip.str.endswith('Ref').fillna(False)]\n",
    "\n",
    "# Train on when the rat is moving\n",
    "position_info = data_processing.get_interpolated_position_dataframe(\n",
    "    epoch_index, animals)\n",
    "spikes_data = [data_processing.get_spike_indicator_dataframe(neuron_index, animals)\n",
    "               for neuron_index in neuron_info.index]\n",
    "\n",
    "train_position_info = position_info.query('speed > 4')\n",
    "train_spikes_data = [spikes_datum[position_info.speed > 4]\n",
    "                     for spikes_datum in spikes_data]"
   ]
  },
  {
   "cell_type": "code",
   "execution_count": 9,
   "metadata": {
    "collapsed": false
   },
   "outputs": [
    {
     "name": "stdout",
     "output_type": "stream",
     "text": [
      "0\n"
     ]
    },
    {
     "name": "stderr",
     "output_type": "stream",
     "text": [
      "/Users/edeno/anaconda3/envs/Jadhav-2016-Data-Analysis/lib/python3.5/site-packages/statsmodels/genmod/families/family.py:347: RuntimeWarning: invalid value encountered in true_divide\n",
      "  endog_mu = self._clean(endog/mu)\n"
     ]
    },
    {
     "ename": "ValueError",
     "evalue": "The first guess on the deviance function returned a nan.  This could be a boundary  problem and should be reported.",
     "output_type": "error",
     "traceback": [
      "\u001b[0;31m---------------------------------------------------------------------------\u001b[0m",
      "\u001b[0;31mValueError\u001b[0m                                Traceback (most recent call last)",
      "\u001b[0;32m<ipython-input-9-9057eeef194c>\u001b[0m in \u001b[0;36m<module>\u001b[0;34m()\u001b[0m\n\u001b[1;32m     13\u001b[0m \u001b[0;32mfor\u001b[0m \u001b[0mind\u001b[0m\u001b[0;34m,\u001b[0m \u001b[0mspikes\u001b[0m \u001b[0;32min\u001b[0m \u001b[0menumerate\u001b[0m\u001b[0;34m(\u001b[0m\u001b[0mtrain_spikes_data\u001b[0m\u001b[0;34m)\u001b[0m\u001b[0;34m:\u001b[0m\u001b[0;34m\u001b[0m\u001b[0m\n\u001b[1;32m     14\u001b[0m     \u001b[0mprint\u001b[0m\u001b[0;34m(\u001b[0m\u001b[0mind\u001b[0m\u001b[0;34m)\u001b[0m\u001b[0;34m\u001b[0m\u001b[0m\n\u001b[0;32m---> 15\u001b[0;31m     \u001b[0mprint\u001b[0m\u001b[0;34m(\u001b[0m\u001b[0mglmfit\u001b[0m\u001b[0;34m(\u001b[0m\u001b[0mspikes\u001b[0m\u001b[0;34m,\u001b[0m \u001b[0mdesign_matrix\u001b[0m\u001b[0;34m,\u001b[0m \u001b[0mind\u001b[0m\u001b[0;34m)\u001b[0m\u001b[0;34m.\u001b[0m\u001b[0msummary\u001b[0m\u001b[0;34m(\u001b[0m\u001b[0;34m)\u001b[0m\u001b[0;34m)\u001b[0m\u001b[0;34m\u001b[0m\u001b[0m\n\u001b[0m",
      "\u001b[0;32m<ipython-input-9-9057eeef194c>\u001b[0m in \u001b[0;36mglmfit\u001b[0;34m(spikes, design_matrix, ind)\u001b[0m\n\u001b[1;32m      3\u001b[0m         return sm.GLM(spikes.reindex(design_matrix.index), design_matrix,\n\u001b[1;32m      4\u001b[0m                       \u001b[0mfamily\u001b[0m\u001b[0;34m=\u001b[0m\u001b[0msm\u001b[0m\u001b[0;34m.\u001b[0m\u001b[0mfamilies\u001b[0m\u001b[0;34m.\u001b[0m\u001b[0mPoisson\u001b[0m\u001b[0;34m(\u001b[0m\u001b[0;34m)\u001b[0m\u001b[0;34m,\u001b[0m\u001b[0;34m\u001b[0m\u001b[0m\n\u001b[0;32m----> 5\u001b[0;31m                       drop='missing').fit(maxiter=30)\n\u001b[0m\u001b[1;32m      6\u001b[0m     \u001b[0;32mexcept\u001b[0m \u001b[0mnp\u001b[0m\u001b[0;34m.\u001b[0m\u001b[0mlinalg\u001b[0m\u001b[0;34m.\u001b[0m\u001b[0mlinalg\u001b[0m\u001b[0;34m.\u001b[0m\u001b[0mLinAlgError\u001b[0m\u001b[0;34m:\u001b[0m\u001b[0;34m\u001b[0m\u001b[0m\n\u001b[1;32m      7\u001b[0m         \u001b[0mwarnings\u001b[0m\u001b[0;34m.\u001b[0m\u001b[0mwarn\u001b[0m\u001b[0;34m(\u001b[0m\u001b[0;34m'Data is poorly scaled for neuron #{}'\u001b[0m\u001b[0;34m.\u001b[0m\u001b[0mformat\u001b[0m\u001b[0;34m(\u001b[0m\u001b[0mind\u001b[0m\u001b[0;34m+\u001b[0m\u001b[0;36m1\u001b[0m\u001b[0;34m)\u001b[0m\u001b[0;34m)\u001b[0m\u001b[0;34m\u001b[0m\u001b[0m\n",
      "\u001b[0;32m/Users/edeno/anaconda3/envs/Jadhav-2016-Data-Analysis/lib/python3.5/site-packages/statsmodels/genmod/generalized_linear_model.py\u001b[0m in \u001b[0;36mfit\u001b[0;34m(self, start_params, maxiter, method, tol, scale, cov_type, cov_kwds, use_t, **kwargs)\u001b[0m\n\u001b[1;32m    690\u001b[0m         \u001b[0mdev\u001b[0m \u001b[0;34m=\u001b[0m \u001b[0mself\u001b[0m\u001b[0;34m.\u001b[0m\u001b[0mfamily\u001b[0m\u001b[0;34m.\u001b[0m\u001b[0mdeviance\u001b[0m\u001b[0;34m(\u001b[0m\u001b[0mself\u001b[0m\u001b[0;34m.\u001b[0m\u001b[0mendog\u001b[0m\u001b[0;34m,\u001b[0m \u001b[0mmu\u001b[0m\u001b[0;34m)\u001b[0m\u001b[0;34m\u001b[0m\u001b[0m\n\u001b[1;32m    691\u001b[0m         \u001b[0;32mif\u001b[0m \u001b[0mnp\u001b[0m\u001b[0;34m.\u001b[0m\u001b[0misnan\u001b[0m\u001b[0;34m(\u001b[0m\u001b[0mdev\u001b[0m\u001b[0;34m)\u001b[0m\u001b[0;34m:\u001b[0m\u001b[0;34m\u001b[0m\u001b[0m\n\u001b[0;32m--> 692\u001b[0;31m             raise ValueError(\"The first guess on the deviance function \"\n\u001b[0m\u001b[1;32m    693\u001b[0m                              \u001b[0;34m\"returned a nan.  This could be a boundary \"\u001b[0m\u001b[0;34m\u001b[0m\u001b[0m\n\u001b[1;32m    694\u001b[0m                              \" problem and should be reported.\")\n",
      "\u001b[0;31mValueError\u001b[0m: The first guess on the deviance function returned a nan.  This could be a boundary  problem and should be reported."
     ]
    }
   ],
   "source": [
    "def glmfit(spikes, design_matrix, ind):\n",
    "    try:\n",
    "        return sm.GLM(spikes.reindex(design_matrix.index), design_matrix,\n",
    "                      family=sm.families.Poisson(),\n",
    "                      drop='missing').fit(maxiter=30)\n",
    "    except np.linalg.linalg.LinAlgError:\n",
    "        warnings.warn('Data is poorly scaled for neuron #{}'.format(ind+1))\n",
    "        return np.nan\n",
    "    \n",
    "formula = '1 + trajectory_direction * bs(linear_distance, df=10, degree=3)'\n",
    "design_matrix = patsy.dmatrix(\n",
    "    formula, train_position_info, return_type='dataframe')\n",
    "for ind, spikes in enumerate(train_spikes_data):\n",
    "    print(ind)\n",
    "    print(glmfit(spikes, design_matrix, ind).summary())"
   ]
  },
  {
   "cell_type": "code",
   "execution_count": 11,
   "metadata": {
    "collapsed": false
   },
   "outputs": [
    {
     "name": "stdout",
     "output_type": "stream",
     "text": [
      "0\n"
     ]
    },
    {
     "name": "stderr",
     "output_type": "stream",
     "text": [
      "/Users/edeno/anaconda3/envs/Jadhav-2016-Data-Analysis/lib/python3.5/site-packages/statsmodels/genmod/families/family.py:347: RuntimeWarning: invalid value encountered in true_divide\n",
      "  endog_mu = self._clean(endog/mu)\n"
     ]
    },
    {
     "ename": "ValueError",
     "evalue": "The first guess on the deviance function returned a nan.  This could be a boundary  problem and should be reported.",
     "output_type": "error",
     "traceback": [
      "\u001b[0;31m---------------------------------------------------------------------------\u001b[0m",
      "\u001b[0;31mValueError\u001b[0m                                Traceback (most recent call last)",
      "\u001b[0;32m<ipython-input-11-790340c0b19e>\u001b[0m in \u001b[0;36m<module>\u001b[0;34m()\u001b[0m\n\u001b[1;32m     13\u001b[0m \u001b[0;32mfor\u001b[0m \u001b[0mind\u001b[0m\u001b[0;34m,\u001b[0m \u001b[0mspikes\u001b[0m \u001b[0;32min\u001b[0m \u001b[0menumerate\u001b[0m\u001b[0;34m(\u001b[0m\u001b[0mtrain_spikes_data\u001b[0m\u001b[0;34m)\u001b[0m\u001b[0;34m:\u001b[0m\u001b[0;34m\u001b[0m\u001b[0m\n\u001b[1;32m     14\u001b[0m     \u001b[0mprint\u001b[0m\u001b[0;34m(\u001b[0m\u001b[0mind\u001b[0m\u001b[0;34m)\u001b[0m\u001b[0;34m\u001b[0m\u001b[0m\n\u001b[0;32m---> 15\u001b[0;31m     \u001b[0mprint\u001b[0m\u001b[0;34m(\u001b[0m\u001b[0mglmfit\u001b[0m\u001b[0;34m(\u001b[0m\u001b[0mspikes\u001b[0m\u001b[0;34m,\u001b[0m \u001b[0mdesign_matrix\u001b[0m\u001b[0;34m,\u001b[0m \u001b[0mind\u001b[0m\u001b[0;34m)\u001b[0m\u001b[0;34m.\u001b[0m\u001b[0msummary\u001b[0m\u001b[0;34m(\u001b[0m\u001b[0;34m)\u001b[0m\u001b[0;34m)\u001b[0m\u001b[0;34m\u001b[0m\u001b[0m\n\u001b[0m",
      "\u001b[0;32m<ipython-input-11-790340c0b19e>\u001b[0m in \u001b[0;36mglmfit\u001b[0;34m(spikes, design_matrix, ind)\u001b[0m\n\u001b[1;32m      3\u001b[0m         return sm.GLM(spikes.reindex(design_matrix.index), design_matrix,\n\u001b[1;32m      4\u001b[0m                       \u001b[0mfamily\u001b[0m\u001b[0;34m=\u001b[0m\u001b[0msm\u001b[0m\u001b[0;34m.\u001b[0m\u001b[0mfamilies\u001b[0m\u001b[0;34m.\u001b[0m\u001b[0mPoisson\u001b[0m\u001b[0;34m(\u001b[0m\u001b[0;34m)\u001b[0m\u001b[0;34m,\u001b[0m\u001b[0;34m\u001b[0m\u001b[0m\n\u001b[0;32m----> 5\u001b[0;31m                       drop='missing').fit(maxiter=30)\n\u001b[0m\u001b[1;32m      6\u001b[0m     \u001b[0;32mexcept\u001b[0m \u001b[0mnp\u001b[0m\u001b[0;34m.\u001b[0m\u001b[0mlinalg\u001b[0m\u001b[0;34m.\u001b[0m\u001b[0mlinalg\u001b[0m\u001b[0;34m.\u001b[0m\u001b[0mLinAlgError\u001b[0m\u001b[0;34m:\u001b[0m\u001b[0;34m\u001b[0m\u001b[0m\n\u001b[1;32m      7\u001b[0m         \u001b[0mwarnings\u001b[0m\u001b[0;34m.\u001b[0m\u001b[0mwarn\u001b[0m\u001b[0;34m(\u001b[0m\u001b[0;34m'Data is poorly scaled for neuron #{}'\u001b[0m\u001b[0;34m.\u001b[0m\u001b[0mformat\u001b[0m\u001b[0;34m(\u001b[0m\u001b[0mind\u001b[0m\u001b[0;34m+\u001b[0m\u001b[0;36m1\u001b[0m\u001b[0;34m)\u001b[0m\u001b[0;34m)\u001b[0m\u001b[0;34m\u001b[0m\u001b[0m\n",
      "\u001b[0;32m/Users/edeno/anaconda3/envs/Jadhav-2016-Data-Analysis/lib/python3.5/site-packages/statsmodels/genmod/generalized_linear_model.py\u001b[0m in \u001b[0;36mfit\u001b[0;34m(self, start_params, maxiter, method, tol, scale, cov_type, cov_kwds, use_t, **kwargs)\u001b[0m\n\u001b[1;32m    690\u001b[0m         \u001b[0mdev\u001b[0m \u001b[0;34m=\u001b[0m \u001b[0mself\u001b[0m\u001b[0;34m.\u001b[0m\u001b[0mfamily\u001b[0m\u001b[0;34m.\u001b[0m\u001b[0mdeviance\u001b[0m\u001b[0;34m(\u001b[0m\u001b[0mself\u001b[0m\u001b[0;34m.\u001b[0m\u001b[0mendog\u001b[0m\u001b[0;34m,\u001b[0m \u001b[0mmu\u001b[0m\u001b[0;34m)\u001b[0m\u001b[0;34m\u001b[0m\u001b[0m\n\u001b[1;32m    691\u001b[0m         \u001b[0;32mif\u001b[0m \u001b[0mnp\u001b[0m\u001b[0;34m.\u001b[0m\u001b[0misnan\u001b[0m\u001b[0;34m(\u001b[0m\u001b[0mdev\u001b[0m\u001b[0;34m)\u001b[0m\u001b[0;34m:\u001b[0m\u001b[0;34m\u001b[0m\u001b[0m\n\u001b[0;32m--> 692\u001b[0;31m             raise ValueError(\"The first guess on the deviance function \"\n\u001b[0m\u001b[1;32m    693\u001b[0m                              \u001b[0;34m\"returned a nan.  This could be a boundary \"\u001b[0m\u001b[0;34m\u001b[0m\u001b[0m\n\u001b[1;32m    694\u001b[0m                              \" problem and should be reported.\")\n",
      "\u001b[0;31mValueError\u001b[0m: The first guess on the deviance function returned a nan.  This could be a boundary  problem and should be reported."
     ]
    }
   ],
   "source": [
    "def glmfit(spikes, design_matrix, ind):\n",
    "    try:\n",
    "        return sm.GLM(spikes.reindex(design_matrix.index), design_matrix,\n",
    "                      family=sm.families.Poisson(),\n",
    "                      drop='missing').fit(maxiter=30)\n",
    "    except np.linalg.linalg.LinAlgError:\n",
    "        warnings.warn('Data is poorly scaled for neuron #{}'.format(ind+1))\n",
    "        return np.nan\n",
    "    \n",
    "formula = '1 + trajectory_direction'\n",
    "design_matrix = patsy.dmatrix(\n",
    "    formula, train_position_info, return_type='dataframe')\n",
    "for ind, spikes in enumerate(train_spikes_data):\n",
    "    print(ind)\n",
    "    print(glmfit(spikes, design_matrix, ind).summary())"
   ]
  },
  {
   "cell_type": "code",
   "execution_count": 12,
   "metadata": {
    "collapsed": false
   },
   "outputs": [
    {
     "name": "stdout",
     "output_type": "stream",
     "text": [
      "0\n"
     ]
    },
    {
     "name": "stderr",
     "output_type": "stream",
     "text": [
      "/Users/edeno/anaconda3/envs/Jadhav-2016-Data-Analysis/lib/python3.5/site-packages/statsmodels/genmod/families/family.py:347: RuntimeWarning: invalid value encountered in true_divide\n",
      "  endog_mu = self._clean(endog/mu)\n"
     ]
    },
    {
     "ename": "ValueError",
     "evalue": "The first guess on the deviance function returned a nan.  This could be a boundary  problem and should be reported.",
     "output_type": "error",
     "traceback": [
      "\u001b[0;31m---------------------------------------------------------------------------\u001b[0m",
      "\u001b[0;31mValueError\u001b[0m                                Traceback (most recent call last)",
      "\u001b[0;32m<ipython-input-12-941d2a30e06b>\u001b[0m in \u001b[0;36m<module>\u001b[0;34m()\u001b[0m\n\u001b[1;32m     13\u001b[0m \u001b[0;32mfor\u001b[0m \u001b[0mind\u001b[0m\u001b[0;34m,\u001b[0m \u001b[0mspikes\u001b[0m \u001b[0;32min\u001b[0m \u001b[0menumerate\u001b[0m\u001b[0;34m(\u001b[0m\u001b[0mtrain_spikes_data\u001b[0m\u001b[0;34m)\u001b[0m\u001b[0;34m:\u001b[0m\u001b[0;34m\u001b[0m\u001b[0m\n\u001b[1;32m     14\u001b[0m     \u001b[0mprint\u001b[0m\u001b[0;34m(\u001b[0m\u001b[0mind\u001b[0m\u001b[0;34m)\u001b[0m\u001b[0;34m\u001b[0m\u001b[0m\n\u001b[0;32m---> 15\u001b[0;31m     \u001b[0mprint\u001b[0m\u001b[0;34m(\u001b[0m\u001b[0mglmfit\u001b[0m\u001b[0;34m(\u001b[0m\u001b[0mspikes\u001b[0m\u001b[0;34m,\u001b[0m \u001b[0mdesign_matrix\u001b[0m\u001b[0;34m,\u001b[0m \u001b[0mind\u001b[0m\u001b[0;34m)\u001b[0m\u001b[0;34m.\u001b[0m\u001b[0msummary\u001b[0m\u001b[0;34m(\u001b[0m\u001b[0;34m)\u001b[0m\u001b[0;34m)\u001b[0m\u001b[0;34m\u001b[0m\u001b[0m\n\u001b[0m",
      "\u001b[0;32m<ipython-input-12-941d2a30e06b>\u001b[0m in \u001b[0;36mglmfit\u001b[0;34m(spikes, design_matrix, ind)\u001b[0m\n\u001b[1;32m      3\u001b[0m         return sm.GLM(spikes.reindex(design_matrix.index), design_matrix,\n\u001b[1;32m      4\u001b[0m                       \u001b[0mfamily\u001b[0m\u001b[0;34m=\u001b[0m\u001b[0msm\u001b[0m\u001b[0;34m.\u001b[0m\u001b[0mfamilies\u001b[0m\u001b[0;34m.\u001b[0m\u001b[0mPoisson\u001b[0m\u001b[0;34m(\u001b[0m\u001b[0;34m)\u001b[0m\u001b[0;34m,\u001b[0m\u001b[0;34m\u001b[0m\u001b[0m\n\u001b[0;32m----> 5\u001b[0;31m                       drop='missing').fit(maxiter=30)\n\u001b[0m\u001b[1;32m      6\u001b[0m     \u001b[0;32mexcept\u001b[0m \u001b[0mnp\u001b[0m\u001b[0;34m.\u001b[0m\u001b[0mlinalg\u001b[0m\u001b[0;34m.\u001b[0m\u001b[0mlinalg\u001b[0m\u001b[0;34m.\u001b[0m\u001b[0mLinAlgError\u001b[0m\u001b[0;34m:\u001b[0m\u001b[0;34m\u001b[0m\u001b[0m\n\u001b[1;32m      7\u001b[0m         \u001b[0mwarnings\u001b[0m\u001b[0;34m.\u001b[0m\u001b[0mwarn\u001b[0m\u001b[0;34m(\u001b[0m\u001b[0;34m'Data is poorly scaled for neuron #{}'\u001b[0m\u001b[0;34m.\u001b[0m\u001b[0mformat\u001b[0m\u001b[0;34m(\u001b[0m\u001b[0mind\u001b[0m\u001b[0;34m+\u001b[0m\u001b[0;36m1\u001b[0m\u001b[0;34m)\u001b[0m\u001b[0;34m)\u001b[0m\u001b[0;34m\u001b[0m\u001b[0m\n",
      "\u001b[0;32m/Users/edeno/anaconda3/envs/Jadhav-2016-Data-Analysis/lib/python3.5/site-packages/statsmodels/genmod/generalized_linear_model.py\u001b[0m in \u001b[0;36mfit\u001b[0;34m(self, start_params, maxiter, method, tol, scale, cov_type, cov_kwds, use_t, **kwargs)\u001b[0m\n\u001b[1;32m    690\u001b[0m         \u001b[0mdev\u001b[0m \u001b[0;34m=\u001b[0m \u001b[0mself\u001b[0m\u001b[0;34m.\u001b[0m\u001b[0mfamily\u001b[0m\u001b[0;34m.\u001b[0m\u001b[0mdeviance\u001b[0m\u001b[0;34m(\u001b[0m\u001b[0mself\u001b[0m\u001b[0;34m.\u001b[0m\u001b[0mendog\u001b[0m\u001b[0;34m,\u001b[0m \u001b[0mmu\u001b[0m\u001b[0;34m)\u001b[0m\u001b[0;34m\u001b[0m\u001b[0m\n\u001b[1;32m    691\u001b[0m         \u001b[0;32mif\u001b[0m \u001b[0mnp\u001b[0m\u001b[0;34m.\u001b[0m\u001b[0misnan\u001b[0m\u001b[0;34m(\u001b[0m\u001b[0mdev\u001b[0m\u001b[0;34m)\u001b[0m\u001b[0;34m:\u001b[0m\u001b[0;34m\u001b[0m\u001b[0m\n\u001b[0;32m--> 692\u001b[0;31m             raise ValueError(\"The first guess on the deviance function \"\n\u001b[0m\u001b[1;32m    693\u001b[0m                              \u001b[0;34m\"returned a nan.  This could be a boundary \"\u001b[0m\u001b[0;34m\u001b[0m\u001b[0m\n\u001b[1;32m    694\u001b[0m                              \" problem and should be reported.\")\n",
      "\u001b[0;31mValueError\u001b[0m: The first guess on the deviance function returned a nan.  This could be a boundary  problem and should be reported."
     ]
    }
   ],
   "source": [
    "formula = '1 + bs(linear_distance, df=10, degree=3)'\n",
    "design_matrix = patsy.dmatrix(\n",
    "    formula, train_position_info, return_type='dataframe')\n",
    "for ind, spikes in enumerate(train_spikes_data):\n",
    "    print(ind)\n",
    "    print(glmfit(spikes, design_matrix, ind).summary())"
   ]
  },
  {
   "cell_type": "code",
   "execution_count": 13,
   "metadata": {
    "collapsed": false
   },
   "outputs": [
    {
     "name": "stdout",
     "output_type": "stream",
     "text": [
      "0\n"
     ]
    },
    {
     "name": "stderr",
     "output_type": "stream",
     "text": [
      "/Users/edeno/anaconda3/envs/Jadhav-2016-Data-Analysis/lib/python3.5/site-packages/statsmodels/genmod/families/family.py:347: RuntimeWarning: invalid value encountered in true_divide\n",
      "  endog_mu = self._clean(endog/mu)\n"
     ]
    },
    {
     "ename": "ValueError",
     "evalue": "The first guess on the deviance function returned a nan.  This could be a boundary  problem and should be reported.",
     "output_type": "error",
     "traceback": [
      "\u001b[0;31m---------------------------------------------------------------------------\u001b[0m",
      "\u001b[0;31mValueError\u001b[0m                                Traceback (most recent call last)",
      "\u001b[0;32m<ipython-input-13-5f0f218ef69d>\u001b[0m in \u001b[0;36m<module>\u001b[0;34m()\u001b[0m\n\u001b[1;32m      4\u001b[0m \u001b[0;32mfor\u001b[0m \u001b[0mind\u001b[0m\u001b[0;34m,\u001b[0m \u001b[0mspikes\u001b[0m \u001b[0;32min\u001b[0m \u001b[0menumerate\u001b[0m\u001b[0;34m(\u001b[0m\u001b[0mtrain_spikes_data\u001b[0m\u001b[0;34m)\u001b[0m\u001b[0;34m:\u001b[0m\u001b[0;34m\u001b[0m\u001b[0m\n\u001b[1;32m      5\u001b[0m     \u001b[0mprint\u001b[0m\u001b[0;34m(\u001b[0m\u001b[0mind\u001b[0m\u001b[0;34m)\u001b[0m\u001b[0;34m\u001b[0m\u001b[0m\n\u001b[0;32m----> 6\u001b[0;31m     \u001b[0mprint\u001b[0m\u001b[0;34m(\u001b[0m\u001b[0mglmfit\u001b[0m\u001b[0;34m(\u001b[0m\u001b[0mspikes\u001b[0m\u001b[0;34m,\u001b[0m \u001b[0mdesign_matrix\u001b[0m\u001b[0;34m,\u001b[0m \u001b[0mind\u001b[0m\u001b[0;34m)\u001b[0m\u001b[0;34m.\u001b[0m\u001b[0msummary\u001b[0m\u001b[0;34m(\u001b[0m\u001b[0;34m)\u001b[0m\u001b[0;34m)\u001b[0m\u001b[0;34m\u001b[0m\u001b[0m\n\u001b[0m",
      "\u001b[0;32m<ipython-input-12-941d2a30e06b>\u001b[0m in \u001b[0;36mglmfit\u001b[0;34m(spikes, design_matrix, ind)\u001b[0m\n\u001b[1;32m      3\u001b[0m         return sm.GLM(spikes.reindex(design_matrix.index), design_matrix,\n\u001b[1;32m      4\u001b[0m                       \u001b[0mfamily\u001b[0m\u001b[0;34m=\u001b[0m\u001b[0msm\u001b[0m\u001b[0;34m.\u001b[0m\u001b[0mfamilies\u001b[0m\u001b[0;34m.\u001b[0m\u001b[0mPoisson\u001b[0m\u001b[0;34m(\u001b[0m\u001b[0;34m)\u001b[0m\u001b[0;34m,\u001b[0m\u001b[0;34m\u001b[0m\u001b[0m\n\u001b[0;32m----> 5\u001b[0;31m                       drop='missing').fit(maxiter=30)\n\u001b[0m\u001b[1;32m      6\u001b[0m     \u001b[0;32mexcept\u001b[0m \u001b[0mnp\u001b[0m\u001b[0;34m.\u001b[0m\u001b[0mlinalg\u001b[0m\u001b[0;34m.\u001b[0m\u001b[0mlinalg\u001b[0m\u001b[0;34m.\u001b[0m\u001b[0mLinAlgError\u001b[0m\u001b[0;34m:\u001b[0m\u001b[0;34m\u001b[0m\u001b[0m\n\u001b[1;32m      7\u001b[0m         \u001b[0mwarnings\u001b[0m\u001b[0;34m.\u001b[0m\u001b[0mwarn\u001b[0m\u001b[0;34m(\u001b[0m\u001b[0;34m'Data is poorly scaled for neuron #{}'\u001b[0m\u001b[0;34m.\u001b[0m\u001b[0mformat\u001b[0m\u001b[0;34m(\u001b[0m\u001b[0mind\u001b[0m\u001b[0;34m+\u001b[0m\u001b[0;36m1\u001b[0m\u001b[0;34m)\u001b[0m\u001b[0;34m)\u001b[0m\u001b[0;34m\u001b[0m\u001b[0m\n",
      "\u001b[0;32m/Users/edeno/anaconda3/envs/Jadhav-2016-Data-Analysis/lib/python3.5/site-packages/statsmodels/genmod/generalized_linear_model.py\u001b[0m in \u001b[0;36mfit\u001b[0;34m(self, start_params, maxiter, method, tol, scale, cov_type, cov_kwds, use_t, **kwargs)\u001b[0m\n\u001b[1;32m    690\u001b[0m         \u001b[0mdev\u001b[0m \u001b[0;34m=\u001b[0m \u001b[0mself\u001b[0m\u001b[0;34m.\u001b[0m\u001b[0mfamily\u001b[0m\u001b[0;34m.\u001b[0m\u001b[0mdeviance\u001b[0m\u001b[0;34m(\u001b[0m\u001b[0mself\u001b[0m\u001b[0;34m.\u001b[0m\u001b[0mendog\u001b[0m\u001b[0;34m,\u001b[0m \u001b[0mmu\u001b[0m\u001b[0;34m)\u001b[0m\u001b[0;34m\u001b[0m\u001b[0m\n\u001b[1;32m    691\u001b[0m         \u001b[0;32mif\u001b[0m \u001b[0mnp\u001b[0m\u001b[0;34m.\u001b[0m\u001b[0misnan\u001b[0m\u001b[0;34m(\u001b[0m\u001b[0mdev\u001b[0m\u001b[0;34m)\u001b[0m\u001b[0;34m:\u001b[0m\u001b[0;34m\u001b[0m\u001b[0m\n\u001b[0;32m--> 692\u001b[0;31m             raise ValueError(\"The first guess on the deviance function \"\n\u001b[0m\u001b[1;32m    693\u001b[0m                              \u001b[0;34m\"returned a nan.  This could be a boundary \"\u001b[0m\u001b[0;34m\u001b[0m\u001b[0m\n\u001b[1;32m    694\u001b[0m                              \" problem and should be reported.\")\n",
      "\u001b[0;31mValueError\u001b[0m: The first guess on the deviance function returned a nan.  This could be a boundary  problem and should be reported."
     ]
    }
   ],
   "source": [
    "formula = '1'\n",
    "design_matrix = patsy.dmatrix(\n",
    "    formula, train_position_info, return_type='dataframe')\n",
    "for ind, spikes in enumerate(train_spikes_data):\n",
    "    print(ind)\n",
    "    print(glmfit(spikes, design_matrix, ind).summary())"
   ]
  },
  {
   "cell_type": "code",
   "execution_count": 24,
   "metadata": {
    "collapsed": false
   },
   "outputs": [
    {
     "name": "stdout",
     "output_type": "stream",
     "text": [
      "is_spike    0\n",
      "dtype: int64\n",
      "is_spike    137\n",
      "dtype: int64\n",
      "is_spike    616\n",
      "dtype: int64\n",
      "is_spike    159\n",
      "dtype: int64\n",
      "is_spike    881\n",
      "dtype: int64\n",
      "is_spike    101\n",
      "dtype: int64\n",
      "is_spike    246\n",
      "dtype: int64\n",
      "is_spike    823\n",
      "dtype: int64\n",
      "is_spike    261\n",
      "dtype: int64\n",
      "is_spike    319\n",
      "dtype: int64\n",
      "is_spike    796\n",
      "dtype: int64\n",
      "is_spike    98\n",
      "dtype: int64\n",
      "is_spike    808\n",
      "dtype: int64\n",
      "is_spike    109\n",
      "dtype: int64\n",
      "is_spike    283\n",
      "dtype: int64\n",
      "is_spike    136\n",
      "dtype: int64\n",
      "is_spike    490\n",
      "dtype: int64\n",
      "is_spike    4528\n",
      "dtype: int64\n",
      "is_spike    769\n",
      "dtype: int64\n",
      "is_spike    2078\n",
      "dtype: int64\n",
      "is_spike    420\n",
      "dtype: int64\n"
     ]
    }
   ],
   "source": [
    "for spikes in train_spikes_data:\n",
    "    print(spikes.sum())"
   ]
  },
  {
   "cell_type": "code",
   "execution_count": 25,
   "metadata": {
    "collapsed": false
   },
   "outputs": [
    {
     "name": "stdout",
     "output_type": "stream",
     "text": [
      "is_spike    2\n",
      "dtype: int64\n",
      "is_spike    210\n",
      "dtype: int64\n",
      "is_spike    1372\n",
      "dtype: int64\n",
      "is_spike    299\n",
      "dtype: int64\n",
      "is_spike    1244\n",
      "dtype: int64\n",
      "is_spike    181\n",
      "dtype: int64\n",
      "is_spike    350\n",
      "dtype: int64\n",
      "is_spike    1469\n",
      "dtype: int64\n",
      "is_spike    455\n",
      "dtype: int64\n",
      "is_spike    562\n",
      "dtype: int64\n",
      "is_spike    1671\n",
      "dtype: int64\n",
      "is_spike    184\n",
      "dtype: int64\n",
      "is_spike    1118\n",
      "dtype: int64\n",
      "is_spike    126\n",
      "dtype: int64\n",
      "is_spike    416\n",
      "dtype: int64\n",
      "is_spike    206\n",
      "dtype: int64\n",
      "is_spike    711\n",
      "dtype: int64\n",
      "is_spike    6521\n",
      "dtype: int64\n",
      "is_spike    1395\n",
      "dtype: int64\n",
      "is_spike    3504\n",
      "dtype: int64\n",
      "is_spike    773\n",
      "dtype: int64\n"
     ]
    }
   ],
   "source": [
    "for spikes in spikes_data:\n",
    "    print(spikes.sum())"
   ]
  },
  {
   "cell_type": "code",
   "execution_count": 26,
   "metadata": {
    "collapsed": false
   },
   "outputs": [
    {
     "data": {
      "text/plain": [
       "animal  day  epoch_ind  tetrode_number  neuron_number\n",
       "HPa     8    4          1               1                   2\n",
       "                                        2                 210\n",
       "                                        3                1372\n",
       "                                        4                 299\n",
       "                                        5                1244\n",
       "                                        6                 181\n",
       "                                        8                 350\n",
       "                                        9                1469\n",
       "                        4               1                 455\n",
       "                                        2                 562\n",
       "                                        3                1671\n",
       "                                        7                 184\n",
       "                                        9                1118\n",
       "                                        10                126\n",
       "                                        11                416\n",
       "                        12              1                 206\n",
       "                                        2                 711\n",
       "                                        3                6521\n",
       "                        14              1                1395\n",
       "                                        2                3504\n",
       "                                        5                 773\n",
       "Name: numspikes, dtype: object"
      ]
     },
     "execution_count": 26,
     "metadata": {},
     "output_type": "execute_result"
    }
   ],
   "source": [
    "neuron_info.numspikes"
   ]
  },
  {
   "cell_type": "code",
   "execution_count": null,
   "metadata": {
    "collapsed": true
   },
   "outputs": [],
   "source": []
  }
 ],
 "metadata": {
  "anaconda-cloud": {},
  "kernelspec": {
   "display_name": "Python [Jadhav-2016-Data-Analysis]",
   "language": "python",
   "name": "Python [Jadhav-2016-Data-Analysis]"
  },
  "language_info": {
   "codemirror_mode": {
    "name": "ipython",
    "version": 3
   },
   "file_extension": ".py",
   "mimetype": "text/x-python",
   "name": "python",
   "nbconvert_exporter": "python",
   "pygments_lexer": "ipython3",
   "version": "3.5.2"
  }
 },
 "nbformat": 4,
 "nbformat_minor": 0
}
