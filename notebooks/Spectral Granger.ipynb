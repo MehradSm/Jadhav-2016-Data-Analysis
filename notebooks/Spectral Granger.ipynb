{
 "cells": [
  {
   "cell_type": "code",
   "execution_count": 153,
   "metadata": {
    "collapsed": true
   },
   "outputs": [],
   "source": [
    "%matplotlib inline\n",
    "%reload_ext autoreload\n",
    "%autoreload 2\n",
    "%qtconsole\n",
    "import os\n",
    "import sys\n",
    "import collections\n",
    "import random\n",
    "import itertools\n",
    "import scipy.signal\n",
    "import scipy.stats\n",
    "import numpy as np\n",
    "import matplotlib.pyplot as plt\n",
    "import seaborn as sns\n",
    "import pandas as pd\n",
    "import statsmodels.tsa.arima_model as arima_model\n",
    "import nitime.algorithms as alg\n",
    "\n",
    "sys.path.append('../src/')\n",
    "import spectral"
   ]
  },
  {
   "cell_type": "markdown",
   "metadata": {},
   "source": [
    "### Simulated Network\n",
    "\n",
    "Network from: https://www.ncbi.nlm.nih.gov/pmc/articles/PMC3971884/#RSTA20110610M2x27\n",
    "\n",
    "$x1 \\rightarrow x2$:\n",
    "\n",
    "$x_1(t) = 0.55x_1(t-1) - 0.70x_1(t-2) + \\epsilon_1(t)$,\n",
    "\n",
    "$x_2(t) = 0.56x_2(t-1) - 0.75x_2(t-2) + 0.60x_1(t-1) + \\epsilon_2(t)$\n",
    "\n",
    "where $\\sigma_1^2=1.00$ for $\\epsilon_1$ and $\\sigma_2^2=2.00$ for $\\epsilon_2$, both with mean zero"
   ]
  },
  {
   "cell_type": "code",
   "execution_count": 2,
   "metadata": {
    "collapsed": false
   },
   "outputs": [
    {
     "data": {
      "text/html": [
       "<table class=\"simpletable\">\n",
       "<caption>ARMA Model Results</caption>\n",
       "<tr>\n",
       "  <th>Dep. Variable:</th>         <td>y</td>        <th>  No. Observations:  </th>   <td>51</td>   \n",
       "</tr>\n",
       "<tr>\n",
       "  <th>Model:</th>            <td>ARMA(2, 0)</td>    <th>  Log Likelihood     </th> <td>-86.743</td>\n",
       "</tr>\n",
       "<tr>\n",
       "  <th>Method:</th>             <td>css-mle</td>     <th>  S.D. of innovations</th>  <td>1.317</td> \n",
       "</tr>\n",
       "<tr>\n",
       "  <th>Date:</th>          <td>Thu, 01 Dec 2016</td> <th>  AIC                </th> <td>179.487</td>\n",
       "</tr>\n",
       "<tr>\n",
       "  <th>Time:</th>              <td>08:58:11</td>     <th>  BIC                </th> <td>185.282</td>\n",
       "</tr>\n",
       "<tr>\n",
       "  <th>Sample:</th>                <td>0</td>        <th>  HQIC               </th> <td>181.701</td>\n",
       "</tr>\n",
       "<tr>\n",
       "  <th></th>                       <td> </td>        <th>                     </th>    <td> </td>   \n",
       "</tr>\n",
       "</table>\n",
       "<table class=\"simpletable\">\n",
       "<tr>\n",
       "     <td></td>        <th>coef</th>     <th>std err</th>      <th>z</th>      <th>P>|z|</th> <th>[95.0% Conf. Int.]</th> \n",
       "</tr>\n",
       "<tr>\n",
       "  <th>ar.L1.y</th> <td>    0.4894</td> <td>    0.126</td> <td>    3.875</td> <td> 0.000</td> <td>    0.242     0.737</td>\n",
       "</tr>\n",
       "<tr>\n",
       "  <th>ar.L2.y</th> <td>   -0.4797</td> <td>    0.127</td> <td>   -3.767</td> <td> 0.000</td> <td>   -0.729    -0.230</td>\n",
       "</tr>\n",
       "</table>\n",
       "<table class=\"simpletable\">\n",
       "<caption>Roots</caption>\n",
       "<tr>\n",
       "    <td></td>   <th>           Real</th> <th>         Imaginary</th> <th>         Modulus</th> <th>        Frequency</th>\n",
       "</tr>\n",
       "<tr>\n",
       "  <th>AR.1</th>               0.5102                    -1.3507j                    1.4439                   -0.1925     \n",
       "</tr>\n",
       "<tr>\n",
       "  <th>AR.2</th>               0.5102                    +1.3507j                    1.4439                    0.1925     \n",
       "</tr>\n",
       "</table>"
      ],
      "text/plain": [
       "<class 'statsmodels.iolib.summary.Summary'>\n",
       "\"\"\"\n",
       "                              ARMA Model Results                              \n",
       "==============================================================================\n",
       "Dep. Variable:                      y   No. Observations:                   51\n",
       "Model:                     ARMA(2, 0)   Log Likelihood                 -86.743\n",
       "Method:                       css-mle   S.D. of innovations              1.317\n",
       "Date:                Thu, 01 Dec 2016   AIC                            179.487\n",
       "Time:                        08:58:11   BIC                            185.282\n",
       "Sample:                             0   HQIC                           181.701\n",
       "                                                                              \n",
       "==============================================================================\n",
       "                 coef    std err          z      P>|z|      [95.0% Conf. Int.]\n",
       "------------------------------------------------------------------------------\n",
       "ar.L1.y        0.4894      0.126      3.875      0.000         0.242     0.737\n",
       "ar.L2.y       -0.4797      0.127     -3.767      0.000        -0.729    -0.230\n",
       "                                    Roots                                    \n",
       "=============================================================================\n",
       "                 Real           Imaginary           Modulus         Frequency\n",
       "-----------------------------------------------------------------------------\n",
       "AR.1            0.5102           -1.3507j            1.4439           -0.1925\n",
       "AR.2            0.5102           +1.3507j            1.4439            0.1925\n",
       "-----------------------------------------------------------------------------\n",
       "\"\"\""
      ]
     },
     "execution_count": 2,
     "metadata": {},
     "output_type": "execute_result"
    }
   ],
   "source": [
    "time_extent = (0, .250)\n",
    "num_trials = 500\n",
    "sampling_frequency = 200\n",
    "num_time_points = ((time_extent[1] - time_extent[0]) * sampling_frequency) + 1\n",
    "time = np.linspace(time_extent[0], time_extent[1], num=num_time_points, endpoint=True)\n",
    "signal_shape = (len(time), num_trials)\n",
    "np.random.seed(2)\n",
    "\n",
    "def simulate_arma_model(ar_coefficients, ma_coefficients=None,\n",
    "                        signal_shape=(100,1), sigma=1, axis=0, num_burnin_samples=10):\n",
    "    ar = np.r_[1, -ar_coefficients] # add zero-lag and negate\n",
    "    if ma_coefficients is None:\n",
    "        ma = np.asarray([1])\n",
    "    else:\n",
    "        ma = np.r_[1, ma_coefficients] # add zero-lag\n",
    "    \n",
    "    # Add burnin samples to shape\n",
    "    signal_shape = list(signal_shape)\n",
    "    signal_shape[axis] += num_burnin_samples\n",
    "    \n",
    "    # Get arma process\n",
    "    white_noise = np.random.normal(0, sigma, size=signal_shape)\n",
    "    signal = scipy.signal.lfilter(ma, ar, white_noise, axis=axis)\n",
    "    \n",
    "    # Return non-burnin samples\n",
    "    slc = [slice(None)] * len(signal_shape)\n",
    "    slc[axis] = slice(num_burnin_samples, signal_shape[axis], 1)\n",
    "    return signal[slc]\n",
    "\n",
    "ar1 = np.array([.55, -0.70])\n",
    "x1 = simulate_arma_model(ar1, signal_shape=signal_shape, sigma=1, num_burnin_samples=sampling_frequency)\n",
    "arima_model.ARMA(x1[:, 0], (2,0)).fit(trend='nc', disp=0).summary()"
   ]
  },
  {
   "cell_type": "code",
   "execution_count": 3,
   "metadata": {
    "collapsed": false
   },
   "outputs": [
    {
     "data": {
      "text/html": [
       "<table class=\"simpletable\">\n",
       "<caption>ARMA Model Results</caption>\n",
       "<tr>\n",
       "  <th>Dep. Variable:</th>         <td>y</td>        <th>  No. Observations:  </th>    <td>51</td>   \n",
       "</tr>\n",
       "<tr>\n",
       "  <th>Model:</th>            <td>ARMA(2, 0)</td>    <th>  Log Likelihood     </th> <td>-106.246</td>\n",
       "</tr>\n",
       "<tr>\n",
       "  <th>Method:</th>             <td>css-mle</td>     <th>  S.D. of innovations</th>   <td>1.904</td> \n",
       "</tr>\n",
       "<tr>\n",
       "  <th>Date:</th>          <td>Thu, 01 Dec 2016</td> <th>  AIC                </th>  <td>218.491</td>\n",
       "</tr>\n",
       "<tr>\n",
       "  <th>Time:</th>              <td>08:58:11</td>     <th>  BIC                </th>  <td>224.287</td>\n",
       "</tr>\n",
       "<tr>\n",
       "  <th>Sample:</th>                <td>0</td>        <th>  HQIC               </th>  <td>220.706</td>\n",
       "</tr>\n",
       "<tr>\n",
       "  <th></th>                       <td> </td>        <th>                     </th>     <td> </td>   \n",
       "</tr>\n",
       "</table>\n",
       "<table class=\"simpletable\">\n",
       "<tr>\n",
       "     <td></td>        <th>coef</th>     <th>std err</th>      <th>z</th>      <th>P>|z|</th> <th>[95.0% Conf. Int.]</th> \n",
       "</tr>\n",
       "<tr>\n",
       "  <th>ar.L1.y</th> <td>    0.6583</td> <td>    0.085</td> <td>    7.782</td> <td> 0.000</td> <td>    0.492     0.824</td>\n",
       "</tr>\n",
       "<tr>\n",
       "  <th>ar.L2.y</th> <td>   -0.7873</td> <td>    0.081</td> <td>   -9.693</td> <td> 0.000</td> <td>   -0.946    -0.628</td>\n",
       "</tr>\n",
       "</table>\n",
       "<table class=\"simpletable\">\n",
       "<caption>Roots</caption>\n",
       "<tr>\n",
       "    <td></td>   <th>           Real</th> <th>         Imaginary</th> <th>         Modulus</th> <th>        Frequency</th>\n",
       "</tr>\n",
       "<tr>\n",
       "  <th>AR.1</th>               0.4181                    -1.0466j                    1.1270                   -0.1895     \n",
       "</tr>\n",
       "<tr>\n",
       "  <th>AR.2</th>               0.4181                    +1.0466j                    1.1270                    0.1895     \n",
       "</tr>\n",
       "</table>"
      ],
      "text/plain": [
       "<class 'statsmodels.iolib.summary.Summary'>\n",
       "\"\"\"\n",
       "                              ARMA Model Results                              \n",
       "==============================================================================\n",
       "Dep. Variable:                      y   No. Observations:                   51\n",
       "Model:                     ARMA(2, 0)   Log Likelihood                -106.246\n",
       "Method:                       css-mle   S.D. of innovations              1.904\n",
       "Date:                Thu, 01 Dec 2016   AIC                            218.491\n",
       "Time:                        08:58:11   BIC                            224.287\n",
       "Sample:                             0   HQIC                           220.706\n",
       "                                                                              \n",
       "==============================================================================\n",
       "                 coef    std err          z      P>|z|      [95.0% Conf. Int.]\n",
       "------------------------------------------------------------------------------\n",
       "ar.L1.y        0.6583      0.085      7.782      0.000         0.492     0.824\n",
       "ar.L2.y       -0.7873      0.081     -9.693      0.000        -0.946    -0.628\n",
       "                                    Roots                                    \n",
       "=============================================================================\n",
       "                 Real           Imaginary           Modulus         Frequency\n",
       "-----------------------------------------------------------------------------\n",
       "AR.1            0.4181           -1.0466j            1.1270           -0.1895\n",
       "AR.2            0.4181           +1.0466j            1.1270            0.1895\n",
       "-----------------------------------------------------------------------------\n",
       "\"\"\""
      ]
     },
     "execution_count": 3,
     "metadata": {},
     "output_type": "execute_result"
    }
   ],
   "source": [
    "ar2 = np.array([.56, -0.75])\n",
    "x2 = simulate_arma_model(ar2, signal_shape=signal_shape, sigma=2, num_burnin_samples=sampling_frequency)\n",
    "arima_model.ARMA(x2[:, 0], (2,0)).fit(trend='nc', disp=0).summary()"
   ]
  },
  {
   "cell_type": "code",
   "execution_count": 4,
   "metadata": {
    "collapsed": true
   },
   "outputs": [],
   "source": [
    "x2[1:, :] = 0.60 * x1[:-1, :]"
   ]
  },
  {
   "cell_type": "markdown",
   "metadata": {},
   "source": [
    "#### x1 and x2 have spectral peaks at 40 Hz"
   ]
  },
  {
   "cell_type": "code",
   "execution_count": 5,
   "metadata": {
    "collapsed": false
   },
   "outputs": [
    {
     "data": {
      "image/png": "[encoded data removed]",
      "text/plain": [
       "<matplotlib.figure.Figure at 0x11d890588>"
      ]
     },
     "metadata": {},
     "output_type": "display_data"
    }
   ],
   "source": [
    "psd1 = spectral.multitaper_power_spectral_density(x1,\n",
    "                                                  sampling_frequency=sampling_frequency,\n",
    "                                                  time_halfbandwidth_product=1,\n",
    "                                                  desired_frequencies=[0, 100])\n",
    "\n",
    "psd2 = spectral.multitaper_power_spectral_density(x2,\n",
    "                                                  sampling_frequency=sampling_frequency,\n",
    "                                                  time_halfbandwidth_product=1,\n",
    "                                                  desired_frequencies=[0, 100])\n",
    "\n",
    "fig, axes = plt.subplots(1,2, figsize=(4,3), sharex=True, sharey=True)\n",
    "psd1.plot(ax=axes[0], legend=False)\n",
    "axes[0].set_ylabel('Power')\n",
    "axes[0].set_title('x1')\n",
    "axes[0].axvline(40, color='black', linestyle=':')\n",
    "psd2.plot(ax=axes[1], legend=False)\n",
    "axes[1].axvline(40, color='black', linestyle=':')\n",
    "axes[1].set_title('x2')\n",
    "plt.tight_layout()"
   ]
  },
  {
   "cell_type": "markdown",
   "metadata": {},
   "source": [
    "## Spectral Granger Causality\n",
    "\n",
    "### Parametric version"
   ]
  },
  {
   "cell_type": "markdown",
   "metadata": {
    "collapsed": true
   },
   "source": [
    "Steps:\n",
    "1. Make LFPs zero mean (possibly also divide by standard deviation as in Gregoriou et al. 2009)\n",
    "2. For each trial, estimate the multivariate autoregressive model:\n",
    "$$ \\Sigma_{k=0}^{m} A_k X_{t-k} = E_t $$\n",
    "where $m$ is the order of the model, $A_k$ is the coefficient matrix and $E_t$ is the residual error with covariance matrix $\\Sigma$\n",
    "3. Average covariance matrix $\\Sigma$ of the noise term $E_t$ of the multivariate autoregressive model over trials\n",
    "4. Average estimated coefficients $A_k$ of the multivariate autoregressive model over trials\n",
    "5. Calculate transfer function $H$ from the estimated coefficients of the multivariate autoregressive model\n",
    "$$ H(f) = \\left(\\Sigma_{k=0}^{m} A_k e^{-2\\pi ikf} \\right)^{-1}\n",
    "$$\n",
    "6. Calculate the spectral matrix $S$ from the transfer function and the covariance matrix\n",
    "$$ S(f) = H(f)\\Sigma H(f)^*\n",
    "$$\n",
    "7. Compute the spectral granger using the covariance matrix, transfer function, and spectral matrix:\n",
    "$$ I_{1 \\rightarrow 2} = \n",
    "-ln\\left\\{1 -\n",
    "\\frac{\\left(\\Sigma_{11} - \\frac{\\Sigma_{12}^2}{\\Sigma_{22}}\\right)\n",
    "\\left|H_{21}\\right|^2}\n",
    "{S_{22}(f)}\\right\\}\n",
    "$$\n",
    "\n",
    "$$ I_{2 \\rightarrow 1} = \n",
    "-ln\\left\\{1 -\n",
    "\\frac{\\left(\\Sigma_{22} - \\frac{\\Sigma_{12}^2}{\\Sigma_{11}}\\right)\n",
    "\\left|H_{12}\\right|^2}\n",
    "{S_{11}(f)}\\right\\}\n",
    "$$\n",
    "\n"
   ]
  },
  {
   "cell_type": "code",
   "execution_count": 6,
   "metadata": {
    "collapsed": true
   },
   "outputs": [],
   "source": [
    "# Step 1\n",
    "centered_x1 = spectral._center_data(x1)\n",
    "centered_x2 = spectral._center_data(x2)\n",
    "\n",
    "x = np.concatenate((centered_x1[..., np.newaxis],\n",
    "                    centered_x2[..., np.newaxis]),\n",
    "                   axis=-1)\n",
    "\n",
    "num_lfps = x.shape[-1]"
   ]
  },
  {
   "cell_type": "code",
   "execution_count": 7,
   "metadata": {
    "collapsed": true
   },
   "outputs": [],
   "source": [
    "# Step 2\n",
    "order = 3\n",
    "fit = [alg.MAR_est_LWR(x[:, trial, :].T, order)\n",
    "       for trial in np.arange(x1.shape[1])]\n",
    "\n",
    "# A shape: order-1 x num_lfps x num_lfps\n",
    "# cov shape: num_lfps x num_lfps\n",
    "\n",
    "# Step 3\n",
    "Sigma = np.mean([trial_fit[1] for trial_fit in fit], axis=0)\n",
    "\n",
    "# Step 4\n",
    "A = np.mean([trial_fit[0] for trial_fit in fit], axis=0)"
   ]
  },
  {
   "cell_type": "code",
   "execution_count": 8,
   "metadata": {
    "collapsed": false
   },
   "outputs": [],
   "source": [
    "# Step 5\n",
    "pad = 0\n",
    "number_of_time_samples = int(num_time_points)\n",
    "next_exponent = spectral._nextpower2(number_of_time_samples)\n",
    "number_of_fft_samples = max(\n",
    "    2 ** (next_exponent + pad), number_of_time_samples)\n",
    "half_of_fft_samples = number_of_fft_samples//2 - 1\n",
    "\n",
    "A_0 = np.concatenate((np.eye(num_lfps)[np.newaxis, :, :], A)).reshape((order, -1))\n",
    "B = np.zeros((A_0.shape[-1], half_of_fft_samples), dtype='complex')\n",
    "for coef_ind in np.arange(A_0.shape[-1]):\n",
    "    normalized_freq, B[coef_ind, :] = scipy.signal.freqz(A_0[:, coef_ind],\n",
    "                                                         worN=half_of_fft_samples)\n",
    "B = B.reshape((num_lfps, num_lfps, half_of_fft_samples))\n",
    "H = np.zeros_like(B)\n",
    "for freq_ind in np.arange(half_of_fft_samples):\n",
    "    H[:, :, freq_ind] = np.linalg.inv(B[:, :, freq_ind])\n",
    "freq = (normalized_freq * sampling_frequency) / (2 * np.pi)"
   ]
  },
  {
   "cell_type": "code",
   "execution_count": 9,
   "metadata": {
    "collapsed": false
   },
   "outputs": [],
   "source": [
    "# Step 6\n",
    "S = np.zeros_like(H)\n",
    "for freq_ind in np.arange(H.shape[-1]):\n",
    "    S[:, :, freq_ind] = np.linalg.multi_dot(\n",
    "        [H[:, :, freq_ind],\n",
    "         Sigma,\n",
    "         H[:, :, freq_ind].conj().transpose()])\n",
    "S = np.abs(S)"
   ]
  },
  {
   "cell_type": "code",
   "execution_count": 10,
   "metadata": {
    "collapsed": false
   },
   "outputs": [],
   "source": [
    "I12 = -np.log(1 - ((Sigma[0, 0] - Sigma[0, 1]**2 / Sigma[1, 1]) * np.abs(H[1, 0])**2) / S[1, 1])\n",
    "\n",
    "# I12 = np.log( S[1, 1] / (S[1,1] - (Sigma[0, 0] - Sigma[0, 1]**2 / Sigma[1, 1]) * np.abs(H[1, 0])**2))"
   ]
  },
  {
   "cell_type": "code",
   "execution_count": 11,
   "metadata": {
    "collapsed": true
   },
   "outputs": [],
   "source": [
    "I21 = -np.log(1 - ((Sigma[1, 1] - Sigma[0, 1]**2 / Sigma[0, 0]) * np.abs(H[0, 1])**2) / S[0, 0])"
   ]
  },
  {
   "cell_type": "code",
   "execution_count": 12,
   "metadata": {
    "collapsed": false
   },
   "outputs": [
    {
     "data": {
      "image/png": "[encoded data removed]",
      "text/plain": [
       "<matplotlib.figure.Figure at 0x11d8902b0>"
      ]
     },
     "metadata": {},
     "output_type": "display_data"
    }
   ],
   "source": [
    "plt.plot(freq, I12, label='x1 → x2')\n",
    "plt.plot(freq, I21, label='x2 → x1')\n",
    "plt.xlabel('Frequencies (Hz)')\n",
    "plt.ylabel('Granger Causality')\n",
    "plt.legend();"
   ]
  },
  {
   "cell_type": "markdown",
   "metadata": {},
   "source": [
    "#### Compare with nitime version"
   ]
  },
  {
   "cell_type": "code",
   "execution_count": 13,
   "metadata": {
    "collapsed": false
   },
   "outputs": [],
   "source": [
    "order = 3\n",
    "fit = [alg.MAR_est_LWR(x[:, trial, :].T, order)\n",
    "       for trial in np.arange(x1.shape[1])]\n",
    "Sigma = np.mean([trial_fit[1] for trial_fit in fit], axis=0)\n",
    "A = np.mean([trial_fit[0] for trial_fit in fit], axis=0)\n",
    "normalized_freq, f_x2y, f_y2x, f_xy, Sw = alg.granger_causality_xy(A, Sigma, n_freqs=number_of_fft_samples)\n",
    "freq = (normalized_freq * sampling_frequency) / (2 * np.pi)"
   ]
  },
  {
   "cell_type": "code",
   "execution_count": 14,
   "metadata": {
    "collapsed": false
   },
   "outputs": [
    {
     "data": {
      "image/png": "[encoded data removed]",
      "text/plain": [
       "<matplotlib.figure.Figure at 0x11daac550>"
      ]
     },
     "metadata": {},
     "output_type": "display_data"
    }
   ],
   "source": [
    "plt.plot(freq, f_x2y, label='x1 → x2')\n",
    "plt.plot(freq, f_y2x, label='x2 → x1')\n",
    "plt.xlabel('Frequencies (Hz)')\n",
    "plt.ylabel('Granger Causality')\n",
    "plt.legend();"
   ]
  },
  {
   "cell_type": "markdown",
   "metadata": {},
   "source": [
    "### Non-parametric version\n",
    "\n",
    "Steps:\n",
    "  1. Construct the complex spectral density matrix $S$ from the multitaper fft of all signals\n",
    "  2. Factorize the spectral density matrix $S = \\Psi \\Psi^{*}$ where $\\Psi$ is the minimum phase factor\n",
    "  3. Get $A_0$ where $A_0$ is a coefficient of the Z expansion of $\\Psi(z) = \\Sigma_{k=0}^{\\inf} A_k z^k$ where $z=e^{i2\\pi f}$. $\\Psi(0) = A_0$\n",
    "  4. Compute the noise covariance $\\Sigma = A_0 A_0^T$\n",
    "  5. Compute the transfer function $H = \\Psi A_0^{-1}$\n",
    "  6. Compute the granger causality with $\\Sigma$, $S$, and $H$"
   ]
  },
  {
   "cell_type": "code",
   "execution_count": 87,
   "metadata": {
    "collapsed": false
   },
   "outputs": [],
   "source": [
    "# Step 1\n",
    "def get_complex_spectrum(data,\n",
    "                        sampling_frequency=1000,\n",
    "                        time_halfbandwidth_product=3,\n",
    "                        pad=0,\n",
    "                        tapers=None,\n",
    "                        frequencies=None,\n",
    "                        freq_ind=None,\n",
    "                        number_of_fft_samples=None,\n",
    "                        number_of_tapers=None,\n",
    "                        desired_frequencies=None):\n",
    "    complex_spectrum = spectral._multitaper_fft(\n",
    "        tapers, spectral._center_data(data), number_of_fft_samples, sampling_frequency)\n",
    "    return np.nanmean(complex_spectrum[freq_ind, :, :], axis=(1, 2)).squeeze()\n",
    "\n",
    "\n",
    "data = [x1, x2]\n",
    "num_signals = len(data)\n",
    "time_halfbandwidth_product = 1\n",
    "\n",
    "tapers, number_of_fft_samples, frequencies, freq_ind = spectral._set_default_multitaper_parameters(\n",
    "    number_of_time_samples=data[0].shape[0],\n",
    "    sampling_frequency=sampling_frequency,\n",
    "    time_halfbandwidth_product=time_halfbandwidth_product)\n",
    "\n",
    "complex_spectra = [get_complex_spectrum(\n",
    "    signal,\n",
    "    sampling_frequency=sampling_frequency,\n",
    "    time_halfbandwidth_product=time_halfbandwidth_product,\n",
    "    tapers=tapers,\n",
    "    frequencies=frequencies,\n",
    "    freq_ind=freq_ind,\n",
    "    number_of_fft_samples=number_of_fft_samples) for signal in data]\n",
    "\n",
    "S = np.stack([np.conj(complex_spectrum1) * complex_spectrum2\n",
    "              for complex_spectrum1, complex_spectrum2\n",
    "              in itertools.product(complex_spectra, repeat=2)])\n",
    "S = S.reshape((num_signals, num_signals, num_frequencies))"
   ]
  },
  {
   "cell_type": "markdown",
   "metadata": {},
   "source": [
    "#### Wilson spectral matrix factorizaion\n",
    "Iterative algorithm based on Newton-Raphson. Want to solve: $S - \\Psi \\Psi^{*} = 0$\n",
    "\n",
    "Steps:\n",
    "  1. Initialize A0 as a random upper triangular matrix\n",
    "  2. \n"
   ]
  },
  {
   "cell_type": "code",
   "execution_count": 100,
   "metadata": {
    "collapsed": false
   },
   "outputs": [],
   "source": [
    "A0 = np.random.normal(size=(num_signals, 1000))\n",
    "A0 = np.dot(A0, A0.T) / 1000;\n",
    "A0 = np.linalg.cholesky(A0).T\n",
    "\n",
    "num_two_sided_frequencies = 2 * num_frequencies - 1\n",
    "\n",
    "Psi = np.zeros((num_signals, num_signals, num_two_sided_frequencies), dtype=complex)"
   ]
  },
  {
   "cell_type": "code",
   "execution_count": null,
   "metadata": {
    "collapsed": true
   },
   "outputs": [],
   "source": []
  }
 ],
 "metadata": {
  "anaconda-cloud": {},
  "kernelspec": {
   "display_name": "Python [Jadhav-2016-Data-Analysis]",
   "language": "python",
   "name": "Python [Jadhav-2016-Data-Analysis]"
  },
  "language_info": {
   "codemirror_mode": {
    "name": "ipython",
    "version": 3
   },
   "file_extension": ".py",
   "mimetype": "text/x-python",
   "name": "python",
   "nbconvert_exporter": "python",
   "pygments_lexer": "ipython3",
   "version": "3.5.2"
  }
 },
 "nbformat": 4,
 "nbformat_minor": 0
}
