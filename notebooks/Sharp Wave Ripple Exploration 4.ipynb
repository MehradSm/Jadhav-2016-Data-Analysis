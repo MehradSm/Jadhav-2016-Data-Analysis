{
 "cells": [
  {
   "cell_type": "markdown",
   "metadata": {},
   "source": [
    "Date: 2016-10-06"
   ]
  },
  {
   "cell_type": "code",
   "execution_count": 1,
   "metadata": {
    "collapsed": false
   },
   "outputs": [],
   "source": [
    "%matplotlib inline\n",
    "%reload_ext autoreload\n",
    "%autoreload 2\n",
    "%qtconsole\n",
    "import os\n",
    "import sys\n",
    "import collections\n",
    "import random\n",
    "import itertools\n",
    "import functools\n",
    "import scipy.fftpack\n",
    "import scipy.signal\n",
    "import numpy as np\n",
    "import matplotlib.pyplot as plt\n",
    "import matplotlib.colors as clr\n",
    "import matplotlib.patches as patches\n",
    "import seaborn as sns\n",
    "import pandas as pd\n",
    "import tqdm\n",
    "import dask\n",
    "import dask.multiprocessing\n",
    "\n",
    "sys.path.append('../src/')\n",
    "import data_filter\n",
    "import ripples\n",
    "import spectral"
   ]
  },
  {
   "cell_type": "code",
   "execution_count": 2,
   "metadata": {
    "collapsed": false
   },
   "outputs": [
    {
     "name": "stdout",
     "output_type": "stream",
     "text": [
      "[                                    area  depth descrip  numcells tetrode_id\n",
      "animal day epoch_ind tetrode_number                                         \n",
      "HPa    8   2         1               CA1    113  riptet        12     HPa821\n",
      "                     2               CA1    121     NaN         0     HPa822\n",
      "                     3               CA1     90  CA1Ref         0     HPa823\n",
      "                     4               CA1    116  riptet        15     HPa824\n",
      "                     5               CA1    116  riptet         0     HPa825\n",
      "                     6               CA1    110  riptet         0     HPa826\n",
      "                     7               CA1    114  riptet         0     HPa827\n",
      "                     15              PFC     93     NaN         0    HPa8215\n",
      "                     16              PFC     90     NaN         0    HPa8216\n",
      "                     17              PFC     90     NaN         6    HPa8217\n",
      "                     18              PFC     90     NaN         0    HPa8218\n",
      "                     19              PFC    130     NaN         0    HPa8219\n",
      "                     20              PFC    109     NaN         0    HPa8220,                                     area  depth descrip  numcells tetrode_id\n",
      "animal day epoch_ind tetrode_number                                         \n",
      "HPc    8   2         1               CA1    108  riptet         0     HPc821\n",
      "                     2               CA1    100  riptet         1     HPc822\n",
      "                     3               CA1     91  riptet         5     HPc823\n",
      "                     4               CA1    104  riptet         0     HPc824\n",
      "                     5               CA1     96  riptet         0     HPc825\n",
      "                     6               CA1    106  riptet         3     HPc826\n",
      "                     7               CA1     84  CA1Ref         0     HPc827\n",
      "                     8               PFC     65     NaN         0     HPc828\n",
      "                     9               PFC     60     NaN         0     HPc829\n",
      "                     10              PFC     57     NaN         0    HPc8210\n",
      "                     11              PFC     98     NaN         0    HPc8211\n",
      "                     12              PFC    102     NaN         0    HPc8212\n",
      "                     13              PFC     45  PFCRef         0    HPc8213\n",
      "                     14              PFC     66     NaN         0    HPc8214\n",
      "                     15              PFC     71     NaN         7    HPc8215\n",
      "                     16              PFC    104     NaN         1    HPc8216]\n"
     ]
    }
   ],
   "source": [
    "Animal = collections.namedtuple('Animal', {'directory', 'short_name'})\n",
    "num_days = 8\n",
    "days = range(1, num_days + 1)\n",
    "animals = {'HPa': Animal(directory='HPa_direct', short_name='HPa'),\n",
    "           'HPc': Animal(directory='HPc_direct', short_name='HPc')}\n",
    "\n",
    "epoch_info = data_filter.make_epochs_dataframe(animals, days)\n",
    "tetrode_info = data_filter.make_tetrode_dataframe(animals)\n",
    "epoch_keys = data_filter.get_dataframe_index(epoch_info\n",
    "    .loc[(['HPa', 'HPc'], [8]), :]\n",
    "    .loc[epoch_info.environment == 'wtr1'])\n",
    "\n",
    "cur_tetrode_info = [tetrode_info[key][tetrode_info[key].area.isin(['PFC', 'CA1'])]\n",
    "                    for key in epoch_keys]\n",
    "print(cur_tetrode_info)\n",
    "\n",
    "tetrode_index = [data_filter.get_dataframe_index(info) for info in cur_tetrode_info]\n",
    "lfp_data = [data_filter.get_LFP_data(index, animals) for index in tetrode_index]\n",
    "ripple_times = [ripples._get_computed_consensus_ripple_times(key, animals) for key in epoch_keys]"
   ]
  },
  {
   "cell_type": "code",
   "execution_count": 3,
   "metadata": {
    "collapsed": false,
    "scrolled": true
   },
   "outputs": [],
   "source": [
    "params = dict(\n",
    "    baseline_window=(-0.250, 0),\n",
    "    window_of_interest=(-0.250, .250),\n",
    "    sampling_frequency=1500,\n",
    "    time_window_duration=0.040,\n",
    "    time_window_step=0.010,\n",
    "    desired_frequencies=[100, 300],\n",
    "    time_halfbandwidth_product=1\n",
    ")\n",
    "    \n",
    "coh = [[spectral.difference_from_baseline_coherence([lfp1, lfp2], epoch_ripple_times, **params)\n",
    "        for lfp1, lfp2 in itertools.combinations(epoch_lfps, 2)]\n",
    "       for epoch_lfps, epoch_ripple_times\n",
    "       in zip(lfp_data, ripple_times)]"
   ]
  },
  {
   "cell_type": "code",
   "execution_count": null,
   "metadata": {
    "collapsed": true
   },
   "outputs": [],
   "source": []
  },
  {
   "cell_type": "markdown",
   "metadata": {},
   "source": [
    "## Ripple Times Spectrum"
   ]
  },
  {
   "cell_type": "code",
   "execution_count": 4,
   "metadata": {
    "collapsed": false
   },
   "outputs": [
    {
     "name": "stdout",
     "output_type": "stream",
     "text": [
      "[                   power\n",
      "frequency               \n",
      "0.000000    2.352191e-07\n",
      "0.000715    2.325216e-07\n",
      "0.001431    2.278406e-07\n",
      "0.002146    2.292224e-07\n",
      "0.002861    2.198750e-07\n",
      "0.003576    2.145584e-07\n",
      "0.004292    2.147742e-07\n",
      "0.005007    2.126602e-07\n",
      "0.005722    2.011928e-07\n",
      "0.006437    1.997727e-07\n",
      "0.007153    1.922062e-07\n",
      "0.007868    1.912100e-07\n",
      "0.008583    1.372965e-07\n",
      "0.009298    1.277081e-07\n",
      "0.010014    1.270567e-07\n",
      "0.010729    1.262861e-07\n",
      "0.011444    7.367097e-08\n",
      "0.012159    6.094440e-08\n",
      "0.012875    5.744894e-08\n",
      "0.013590    5.558377e-08\n",
      "0.014305    4.381204e-08\n",
      "0.015020    4.263989e-08\n",
      "0.015736    3.935854e-08\n",
      "0.016451    3.931224e-08\n",
      "0.017166    2.649375e-08\n",
      "0.017881    2.788710e-08\n",
      "0.018597    2.503469e-08\n",
      "0.019312    2.598572e-08\n",
      "0.020027    2.306702e-08\n",
      "0.020742    2.411544e-08\n",
      "...                  ...\n",
      "749.979258  3.494920e-08\n",
      "749.979973  3.877868e-08\n",
      "749.980688  3.819245e-08\n",
      "749.981403  4.104216e-08\n",
      "749.982119  4.201218e-08\n",
      "749.982834  4.452750e-08\n",
      "749.983549  4.224576e-08\n",
      "749.984264  4.376202e-08\n",
      "749.984980  4.323202e-08\n",
      "749.985695  4.931239e-08\n",
      "749.986410  4.931890e-08\n",
      "749.987125  5.438778e-08\n",
      "749.987841  5.226618e-08\n",
      "749.988556  5.284801e-08\n",
      "749.989271  5.016998e-08\n",
      "749.989986  5.413007e-08\n",
      "749.990702  5.604374e-08\n",
      "749.991417  5.587019e-08\n",
      "749.992132  5.614401e-08\n",
      "749.992847  5.558371e-08\n",
      "749.993563  5.588416e-08\n",
      "749.994278  5.622730e-08\n",
      "749.994993  5.491037e-08\n",
      "749.995708  5.973863e-08\n",
      "749.996424  5.896332e-08\n",
      "749.997139  6.192042e-08\n",
      "749.997854  6.234271e-08\n",
      "749.998569  6.618667e-08\n",
      "749.999285  6.778569e-08\n",
      "750.000000  5.844621e-08\n",
      "\n",
      "[1048577 rows x 1 columns],                    power\n",
      "frequency               \n",
      "0.000000    9.723045e-08\n",
      "0.000715    9.767366e-08\n",
      "0.001431    9.828347e-08\n",
      "0.002146    9.736805e-08\n",
      "0.002861    9.714646e-08\n",
      "0.003576    9.485884e-08\n",
      "0.004292    9.393868e-08\n",
      "0.005007    9.256146e-08\n",
      "0.005722    9.341786e-08\n",
      "0.006437    9.544041e-08\n",
      "0.007153    9.187494e-08\n",
      "0.007868    9.086832e-08\n",
      "0.008583    6.397367e-08\n",
      "0.009298    6.174263e-08\n",
      "0.010014    6.330389e-08\n",
      "0.010729    6.546378e-08\n",
      "0.011444    5.620295e-08\n",
      "0.012159    2.854127e-08\n",
      "0.012875    2.718236e-08\n",
      "0.013590    3.495852e-08\n",
      "0.014305    3.483217e-08\n",
      "0.015020    3.365480e-08\n",
      "0.015736    3.628855e-08\n",
      "0.016451    3.614441e-08\n",
      "0.017166    3.458650e-08\n",
      "0.017881    3.588985e-08\n",
      "0.018597    3.518241e-08\n",
      "0.019312    3.539305e-08\n",
      "0.020027    3.356124e-08\n",
      "0.020742    3.336127e-08\n",
      "...                  ...\n",
      "749.979258  3.287345e-08\n",
      "749.979973  3.573104e-08\n",
      "749.980688  3.489819e-08\n",
      "749.981403  3.487679e-08\n",
      "749.982119  3.510766e-08\n",
      "749.982834  3.373508e-08\n",
      "749.983549  3.308064e-08\n",
      "749.984264  3.232000e-08\n",
      "749.984980  3.200263e-08\n",
      "749.985695  3.211100e-08\n",
      "749.986410  2.943246e-08\n",
      "749.987125  3.023918e-08\n",
      "749.987841  2.853976e-08\n",
      "749.988556  3.022210e-08\n",
      "749.989271  2.681505e-08\n",
      "749.989986  2.888105e-08\n",
      "749.990702  2.929869e-08\n",
      "749.991417  2.886940e-08\n",
      "749.992132  2.701968e-08\n",
      "749.992847  2.918731e-08\n",
      "749.993563  2.503842e-08\n",
      "749.994278  2.571488e-08\n",
      "749.994993  2.485407e-08\n",
      "749.995708  2.560771e-08\n",
      "749.996424  2.006447e-08\n",
      "749.997139  1.996241e-08\n",
      "749.997854  1.888078e-08\n",
      "749.998569  1.928316e-08\n",
      "749.999285  1.520563e-08\n",
      "750.000000  1.611843e-08\n",
      "\n",
      "[1048577 rows x 1 columns]]\n"
     ]
    }
   ],
   "source": [
    "params = dict(\n",
    "    sampling_frequency=1500,\n",
    "    time_halfbandwidth_product=12,\n",
    ")\n",
    "\n",
    "def convert_ripple_times_to_dataframe(ripple_times, index):\n",
    "    return (pd.DataFrame({'time': np.array(ripple_times)[:, 0], 'is_ripple': 1})\n",
    "              .set_index('time')\n",
    "              .reindex(index=index.values,\n",
    "                       tolerance=1E-4,\n",
    "                       method='nearest',\n",
    "                       fill_value=0))\n",
    "\n",
    "ripple_psd = [spectral.multitaper_power_spectral_density(\n",
    "                convert_ripple_times_to_dataframe(epoch_ripple_times, epoch_lfps[0].index), **params)\n",
    "              for epoch_lfps, epoch_ripple_times\n",
    "              in zip(lfp_data, ripple_times)]\n",
    "\n",
    "print(ripple_psd)"
   ]
  },
  {
   "cell_type": "code",
   "execution_count": 5,
   "metadata": {
    "collapsed": false
   },
   "outputs": [
    {
     "data": {
      "text/plain": [
       "<matplotlib.axes._subplots.AxesSubplot at 0x114ef23c8>"
      ]
     },
     "execution_count": 5,
     "metadata": {},
     "output_type": "execute_result"
    },
    {
     "data": {
      "image/png": "[encoded data removed]",
      "text/plain": [
       "<matplotlib.figure.Figure at 0x114ed3e80>"
      ]
     },
     "metadata": {},
     "output_type": "display_data"
    },
    {
     "data": {
      "image/png": "[encoded data removed]",
      "text/plain": [
       "<matplotlib.figure.Figure at 0x114f27cc0>"
      ]
     },
     "metadata": {},
     "output_type": "display_data"
    }
   ],
   "source": [
    "ripple_psd[0].plot()\n",
    "ripple_psd[1].plot()"
   ]
  },
  {
   "cell_type": "code",
   "execution_count": null,
   "metadata": {
    "collapsed": true
   },
   "outputs": [],
   "source": []
  }
 ],
 "metadata": {
  "anaconda-cloud": {},
  "kernelspec": {
   "display_name": "Python [Jadhav-2016-Data-Analysis]",
   "language": "python",
   "name": "Python [Jadhav-2016-Data-Analysis]"
  },
  "language_info": {
   "codemirror_mode": {
    "name": "ipython",
    "version": 3
   },
   "file_extension": ".py",
   "mimetype": "text/x-python",
   "name": "python",
   "nbconvert_exporter": "python",
   "pygments_lexer": "ipython3",
   "version": "3.5.2"
  }
 },
 "nbformat": 4,
 "nbformat_minor": 0
}
