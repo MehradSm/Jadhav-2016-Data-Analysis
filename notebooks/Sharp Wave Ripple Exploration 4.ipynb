{
 "cells": [
  {
   "cell_type": "markdown",
   "metadata": {},
   "source": [
    "Date: 2016-10-06"
   ]
  },
  {
   "cell_type": "code",
   "execution_count": null,
   "metadata": {
    "collapsed": false
   },
   "outputs": [],
   "source": [
    "%matplotlib inline\n",
    "%reload_ext autoreload\n",
    "%autoreload 2\n",
    "%qtconsole\n",
    "import os\n",
    "import sys\n",
    "import collections\n",
    "import random\n",
    "import itertools\n",
    "import functools\n",
    "import scipy.fftpack\n",
    "import scipy.signal\n",
    "import numpy as np\n",
    "import matplotlib.pyplot as plt\n",
    "import matplotlib.colors as clr\n",
    "import matplotlib.patches as patches\n",
    "import seaborn as sns\n",
    "import pandas as pd\n",
    "import tqdm\n",
    "import dask\n",
    "import dask.multiprocessing\n",
    "\n",
    "sys.path.append('../src/')\n",
    "import data_filter\n",
    "import ripples\n",
    "import spectral"
   ]
  },
  {
   "cell_type": "code",
   "execution_count": null,
   "metadata": {
    "collapsed": false
   },
   "outputs": [],
   "source": [
    "Animal = collections.namedtuple('Animal', {'directory', 'short_name'})\n",
    "num_days = 8\n",
    "days = range(1, num_days + 1)\n",
    "animals = {'HPa': Animal(directory='HPa_direct', short_name='HPa'),\n",
    "           'HPc': Animal(directory='HPc_direct', short_name='HPc')}\n",
    "\n",
    "epoch_info = data_filter.make_epochs_dataframe(animals, days)\n",
    "tetrode_info = data_filter.make_tetrode_dataframe(animals)\n",
    "epoch_keys = data_filter.get_dataframe_index(epoch_info\n",
    "    .loc[(['HPa', 'HPc'], [8]), :]\n",
    "    .loc[epoch_info.environment == 'wtr1'])\n",
    "\n",
    "cur_tetrode_info = [tetrode_info[key][tetrode_info[key].area.isin(['PFC', 'CA1'])]\n",
    "                    for key in epoch_keys]\n",
    "print(cur_tetrode_info)\n",
    "\n",
    "tetrode_index = [data_filter.get_dataframe_index(info) for info in cur_tetrode_info]\n",
    "lfp_data = [data_filter.get_LFP_data(index, animals) for index in tetrode_index]\n",
    "ripple_times = [ripples._get_computed_consensus_ripple_times(key, animals) for key in epoch_keys]"
   ]
  },
  {
   "cell_type": "code",
   "execution_count": null,
   "metadata": {
    "collapsed": false,
    "scrolled": true
   },
   "outputs": [],
   "source": [
    "params = dict(\n",
    "    baseline_window=(-0.250, 0),\n",
    "    window_of_interest=(-0.250, .250),\n",
    "    sampling_frequency=1500,\n",
    "    time_window_duration=0.040,\n",
    "    time_window_step=0.010,\n",
    "    desired_frequencies=[100, 300],\n",
    "    time_halfbandwidth_product=1\n",
    ")\n",
    "    \n",
    "coh = [[spectral.difference_from_baseline_coherence([lfp1, lfp2], epoch_ripple_times, **params)\n",
    "        for lfp1, lfp2 in itertools.combinations(epoch_lfps, 2)]\n",
    "       for epoch_lfps, epoch_ripple_times\n",
    "       in zip(lfp_data, ripple_times)]"
   ]
  },
  {
   "cell_type": "markdown",
   "metadata": {},
   "source": [
    "## Ripple Times Spectrum"
   ]
  },
  {
   "cell_type": "code",
   "execution_count": null,
   "metadata": {
    "collapsed": false
   },
   "outputs": [],
   "source": [
    "params = dict(\n",
    "    sampling_frequency=1500,\n",
    "    time_halfbandwidth_product=12,\n",
    ")\n",
    "\n",
    "def convert_ripple_times_to_dataframe(ripple_times, index):\n",
    "    return (pd.DataFrame({'time': np.array(ripple_times)[:, 0], 'is_ripple': 1})\n",
    "              .set_index('time')\n",
    "              .reindex(index=index.values,\n",
    "                       tolerance=1E-4,\n",
    "                       method='nearest',\n",
    "                       fill_value=0))\n",
    "\n",
    "ripple_psd = [spectral.multitaper_power_spectral_density(\n",
    "                convert_ripple_times_to_dataframe(epoch_ripple_times, epoch_lfps[0].index), **params)\n",
    "              for epoch_lfps, epoch_ripple_times\n",
    "              in zip(lfp_data, ripple_times)]\n",
    "\n",
    "print(ripple_psd)"
   ]
  },
  {
   "cell_type": "code",
   "execution_count": null,
   "metadata": {
    "collapsed": false
   },
   "outputs": [],
   "source": [
    "ripple_psd[0].plot()\n",
    "ripple_psd[1].plot()"
   ]
  },
  {
   "cell_type": "code",
   "execution_count": null,
   "metadata": {
    "collapsed": true
   },
   "outputs": [],
   "source": []
  }
 ],
 "metadata": {
  "anaconda-cloud": {},
  "kernelspec": {
   "display_name": "Python [Jadhav-2016-Data-Analysis]",
   "language": "python",
   "name": "Python [Jadhav-2016-Data-Analysis]"
  },
  "language_info": {
   "codemirror_mode": {
    "name": "ipython",
    "version": 3
   },
   "file_extension": ".py",
   "mimetype": "text/x-python",
   "name": "python",
   "nbconvert_exporter": "python",
   "pygments_lexer": "ipython3",
   "version": "3.5.2"
  }
 },
 "nbformat": 4,
 "nbformat_minor": 0
}
