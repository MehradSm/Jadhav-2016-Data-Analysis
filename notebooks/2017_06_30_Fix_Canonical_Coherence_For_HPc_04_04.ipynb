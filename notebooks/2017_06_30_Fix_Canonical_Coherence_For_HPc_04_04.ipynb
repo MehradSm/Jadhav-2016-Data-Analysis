{
 "cells": [
  {
   "cell_type": "markdown",
   "metadata": {
    "collapsed": true
   },
   "source": [
    "# Purpose\n",
    "\n",
    "The following error occurs when fitting canonical coherence for animal HPc, day 4, epoch 4:\n",
    "\n",
    "> 2017-06-27 20:12:11,078 - src.analysis - INFO - ...saving canonical_coherence\n",
    "  File \"run_by_epoch.py\", line 104, in main\n",
    "    estimate_ripple_coherence(epoch_key)\n",
    "  File \"run_by_epoch.py\", line 40, in estimate_ripple_coherence\n",
    "    FREQUENCY_BANDS, multitaper_parameter_name=parameters_name)\n",
    "  File \"/projectnb/braincom/Jadhav-2016-Data-Analysis/src/analysis.py\", line 130, in ripple_triggered_connectivity\n",
    "    group_name)\n",
    "  File \"/projectnb/braincom/Jadhav-2016-Data-Analysis/src/analysis.py\", line 199, in save_canonical_coherence\n",
    "    tetrode_info.area.tolist())\n",
    "  File \"/projectnb/braincom/Jadhav-2016-Data-Analysis/src/spectral/connectivity.py\", line 314, in canonical_coherence\n",
    "    for label in labels]\n",
    "  File \"/projectnb/braincom/Jadhav-2016-Data-Analysis/src/spectral/connectivity.py\", line 314, in <listcomp>\n",
    "    for label in labels]\n",
    "  File \"/projectnb/braincom/Jadhav-2016-Data-Analysis/src/spectral/connectivity.py\", line 941, in _normalize_fourier_coefficients\n",
    "    _reshape(fourier_coefficients), full_matrices=False)\n",
    "  File \"/usr3/graduate/edeno/.conda/envs/Jadhav-2016-Data-Analysis/lib/python3.5/site-packages/numpy/linalg/linalg.py\", line 1359, in svd\n",
    "    u, s, vt = gufunc(a, signature=signature, extobj=extobj)\n",
    "  File \"/usr3/graduate/edeno/.conda/envs/Jadhav-2016-Data-Analysis/lib/python3.5/site-packages/numpy/linalg/linalg.py\", line 99, in _raise_linalgerror_svd_nonconvergence\n",
    "    raise LinAlgError(\"SVD did not converge\")\n",
    "numpy.linalg.linalg.LinAlgError: SVD did not converge\n",
    "\n",
    "\n",
    "The purpose of this notebook is to figure out why the svd did not converge."
   ]
  },
  {
   "cell_type": "code",
   "execution_count": 1,
   "metadata": {
    "collapsed": true
   },
   "outputs": [],
   "source": [
    "from copy import deepcopy\n",
    "from functools import partial, wraps\n",
    "\n",
    "import numpy as np\n",
    "import pandas as pd\n",
    "import xarray as xr\n",
    "\n",
    "from src.parameters import MULTITAPER_PARAMETERS, SAMPLING_FREQUENCY, ANIMALS\n",
    "from src.analysis import detect_epoch_ripples, _subtract_event_related_potential\n",
    "from src.spectral.connectivity import Connectivity\n",
    "from src.spectral.transforms import Multitaper\n",
    "from src.data_processing import (get_LFP_dataframe, make_tetrode_dataframe, reshape_to_segments)"
   ]
  },
  {
   "cell_type": "markdown",
   "metadata": {},
   "source": [
    "Let's run the code up to the point of failure"
   ]
  },
  {
   "cell_type": "code",
   "execution_count": 2,
   "metadata": {
    "collapsed": true
   },
   "outputs": [],
   "source": [
    "epoch_key = ('HPc', 4, 4)\n",
    "multitaper_params = MULTITAPER_PARAMETERS['2Hz_Resolution']"
   ]
  },
  {
   "cell_type": "code",
   "execution_count": 3,
   "metadata": {
    "collapsed": true
   },
   "outputs": [],
   "source": [
    "ripple_times = detect_epoch_ripples(\n",
    "    epoch_key, ANIMALS, sampling_frequency=SAMPLING_FREQUENCY)\n",
    "\n",
    "tetrode_info = make_tetrode_dataframe(ANIMALS)[epoch_key]\n",
    "tetrode_info = tetrode_info[\n",
    "    ~tetrode_info.descrip.str.endswith('Ref').fillna(False)]\n",
    "\n",
    "lfps = {tetrode_key: get_LFP_dataframe(tetrode_key, ANIMALS)\n",
    "        for tetrode_key in tetrode_info.index}\n",
    "\n",
    "n_lfps = len(lfps)\n",
    "n_pairs = int(n_lfps * (n_lfps - 1) / 2)\n",
    "params = deepcopy(multitaper_params)\n",
    "window_of_interest = params.pop('window_of_interest')\n",
    "reshape_to_trials = partial(\n",
    "    reshape_to_segments,\n",
    "    sampling_frequency=params['sampling_frequency'],\n",
    "    window_offset=window_of_interest, concat_axis=1)\n",
    "\n",
    "ripple_locked_lfps = pd.Panel({\n",
    "    lfp_name: _subtract_event_related_potential(\n",
    "        reshape_to_trials(lfps[lfp_name], ripple_times))\n",
    "    for lfp_name in lfps})\n",
    "\n",
    "m = Multitaper(\n",
    "    np.rollaxis(ripple_locked_lfps.values, 0, 3),\n",
    "    **params,\n",
    "    start_time=ripple_locked_lfps.major_axis.min())\n",
    "c = Connectivity.from_multitaper(m)"
   ]
  },
  {
   "cell_type": "markdown",
   "metadata": {},
   "source": [
    "Check the tetrodes to make sure there isn't any thing funny"
   ]
  },
  {
   "cell_type": "code",
   "execution_count": 5,
   "metadata": {},
   "outputs": [
    {
     "data": {
      "text/html": [
       "<div>\n",
       "<style>\n",
       "    .dataframe thead tr:only-child th {\n",
       "        text-align: right;\n",
       "    }\n",
       "\n",
       "    .dataframe thead th {\n",
       "        text-align: left;\n",
       "    }\n",
       "\n",
       "    .dataframe tbody tr th {\n",
       "        vertical-align: top;\n",
       "    }\n",
       "</style>\n",
       "<table border=\"1\" class=\"dataframe\">\n",
       "  <thead>\n",
       "    <tr style=\"text-align: right;\">\n",
       "      <th></th>\n",
       "      <th></th>\n",
       "      <th></th>\n",
       "      <th></th>\n",
       "      <th>area</th>\n",
       "      <th>depth</th>\n",
       "      <th>descrip</th>\n",
       "      <th>numcells</th>\n",
       "      <th>animal</th>\n",
       "      <th>day</th>\n",
       "      <th>epoch</th>\n",
       "      <th>tetrode_number</th>\n",
       "      <th>tetrode_id</th>\n",
       "    </tr>\n",
       "    <tr>\n",
       "      <th>animal</th>\n",
       "      <th>day</th>\n",
       "      <th>epoch</th>\n",
       "      <th>tetrode_number</th>\n",
       "      <th></th>\n",
       "      <th></th>\n",
       "      <th></th>\n",
       "      <th></th>\n",
       "      <th></th>\n",
       "      <th></th>\n",
       "      <th></th>\n",
       "      <th></th>\n",
       "      <th></th>\n",
       "    </tr>\n",
       "  </thead>\n",
       "  <tbody>\n",
       "    <tr>\n",
       "      <th rowspan=\"20\" valign=\"top\">HPc</th>\n",
       "      <th rowspan=\"20\" valign=\"top\">4</th>\n",
       "      <th rowspan=\"20\" valign=\"top\">4</th>\n",
       "      <th>1</th>\n",
       "      <td>CA1</td>\n",
       "      <td>111</td>\n",
       "      <td>riptet</td>\n",
       "      <td>0</td>\n",
       "      <td>HPc</td>\n",
       "      <td>4</td>\n",
       "      <td>4</td>\n",
       "      <td>1</td>\n",
       "      <td>HPc441</td>\n",
       "    </tr>\n",
       "    <tr>\n",
       "      <th>2</th>\n",
       "      <td>CA1</td>\n",
       "      <td>103</td>\n",
       "      <td>riptet</td>\n",
       "      <td>5</td>\n",
       "      <td>HPc</td>\n",
       "      <td>4</td>\n",
       "      <td>4</td>\n",
       "      <td>2</td>\n",
       "      <td>HPc442</td>\n",
       "    </tr>\n",
       "    <tr>\n",
       "      <th>3</th>\n",
       "      <td>CA1</td>\n",
       "      <td>95</td>\n",
       "      <td>riptet</td>\n",
       "      <td>0</td>\n",
       "      <td>HPc</td>\n",
       "      <td>4</td>\n",
       "      <td>4</td>\n",
       "      <td>3</td>\n",
       "      <td>HPc443</td>\n",
       "    </tr>\n",
       "    <tr>\n",
       "      <th>4</th>\n",
       "      <td>CA1</td>\n",
       "      <td>109</td>\n",
       "      <td>riptet</td>\n",
       "      <td>2</td>\n",
       "      <td>HPc</td>\n",
       "      <td>4</td>\n",
       "      <td>4</td>\n",
       "      <td>4</td>\n",
       "      <td>HPc444</td>\n",
       "    </tr>\n",
       "    <tr>\n",
       "      <th>5</th>\n",
       "      <td>CA1</td>\n",
       "      <td>98</td>\n",
       "      <td>riptet</td>\n",
       "      <td>0</td>\n",
       "      <td>HPc</td>\n",
       "      <td>4</td>\n",
       "      <td>4</td>\n",
       "      <td>5</td>\n",
       "      <td>HPc445</td>\n",
       "    </tr>\n",
       "    <tr>\n",
       "      <th>6</th>\n",
       "      <td>CA1</td>\n",
       "      <td>110</td>\n",
       "      <td>riptet</td>\n",
       "      <td>7</td>\n",
       "      <td>HPc</td>\n",
       "      <td>4</td>\n",
       "      <td>4</td>\n",
       "      <td>6</td>\n",
       "      <td>HPc446</td>\n",
       "    </tr>\n",
       "    <tr>\n",
       "      <th>8</th>\n",
       "      <td>PFC</td>\n",
       "      <td>65</td>\n",
       "      <td>NaN</td>\n",
       "      <td>0</td>\n",
       "      <td>HPc</td>\n",
       "      <td>4</td>\n",
       "      <td>4</td>\n",
       "      <td>8</td>\n",
       "      <td>HPc448</td>\n",
       "    </tr>\n",
       "    <tr>\n",
       "      <th>9</th>\n",
       "      <td>PFC</td>\n",
       "      <td>60</td>\n",
       "      <td>NaN</td>\n",
       "      <td>0</td>\n",
       "      <td>HPc</td>\n",
       "      <td>4</td>\n",
       "      <td>4</td>\n",
       "      <td>9</td>\n",
       "      <td>HPc449</td>\n",
       "    </tr>\n",
       "    <tr>\n",
       "      <th>10</th>\n",
       "      <td>PFC</td>\n",
       "      <td>57</td>\n",
       "      <td>NaN</td>\n",
       "      <td>0</td>\n",
       "      <td>HPc</td>\n",
       "      <td>4</td>\n",
       "      <td>4</td>\n",
       "      <td>10</td>\n",
       "      <td>HPc4410</td>\n",
       "    </tr>\n",
       "    <tr>\n",
       "      <th>11</th>\n",
       "      <td>PFC</td>\n",
       "      <td>81</td>\n",
       "      <td>NaN</td>\n",
       "      <td>0</td>\n",
       "      <td>HPc</td>\n",
       "      <td>4</td>\n",
       "      <td>4</td>\n",
       "      <td>11</td>\n",
       "      <td>HPc4411</td>\n",
       "    </tr>\n",
       "    <tr>\n",
       "      <th>12</th>\n",
       "      <td>PFC</td>\n",
       "      <td>74</td>\n",
       "      <td>NaN</td>\n",
       "      <td>0</td>\n",
       "      <td>HPc</td>\n",
       "      <td>4</td>\n",
       "      <td>4</td>\n",
       "      <td>12</td>\n",
       "      <td>HPc4412</td>\n",
       "    </tr>\n",
       "    <tr>\n",
       "      <th>13</th>\n",
       "      <td>PFC</td>\n",
       "      <td>99</td>\n",
       "      <td>NaN</td>\n",
       "      <td>0</td>\n",
       "      <td>HPc</td>\n",
       "      <td>4</td>\n",
       "      <td>4</td>\n",
       "      <td>13</td>\n",
       "      <td>HPc4413</td>\n",
       "    </tr>\n",
       "    <tr>\n",
       "      <th>14</th>\n",
       "      <td>PFC</td>\n",
       "      <td>66</td>\n",
       "      <td>NaN</td>\n",
       "      <td>0</td>\n",
       "      <td>HPc</td>\n",
       "      <td>4</td>\n",
       "      <td>4</td>\n",
       "      <td>14</td>\n",
       "      <td>HPc4414</td>\n",
       "    </tr>\n",
       "    <tr>\n",
       "      <th>15</th>\n",
       "      <td>PFC</td>\n",
       "      <td>71</td>\n",
       "      <td>NaN</td>\n",
       "      <td>7</td>\n",
       "      <td>HPc</td>\n",
       "      <td>4</td>\n",
       "      <td>4</td>\n",
       "      <td>15</td>\n",
       "      <td>HPc4415</td>\n",
       "    </tr>\n",
       "    <tr>\n",
       "      <th>16</th>\n",
       "      <td>PFC</td>\n",
       "      <td>90</td>\n",
       "      <td>NaN</td>\n",
       "      <td>0</td>\n",
       "      <td>HPc</td>\n",
       "      <td>4</td>\n",
       "      <td>4</td>\n",
       "      <td>16</td>\n",
       "      <td>HPc4416</td>\n",
       "    </tr>\n",
       "    <tr>\n",
       "      <th>18</th>\n",
       "      <td>Ctx</td>\n",
       "      <td>315</td>\n",
       "      <td>NaN</td>\n",
       "      <td>0</td>\n",
       "      <td>HPc</td>\n",
       "      <td>4</td>\n",
       "      <td>4</td>\n",
       "      <td>18</td>\n",
       "      <td>HPc4418</td>\n",
       "    </tr>\n",
       "    <tr>\n",
       "      <th>19</th>\n",
       "      <td>Ctx</td>\n",
       "      <td>318</td>\n",
       "      <td>NaN</td>\n",
       "      <td>0</td>\n",
       "      <td>HPc</td>\n",
       "      <td>4</td>\n",
       "      <td>4</td>\n",
       "      <td>19</td>\n",
       "      <td>HPc4419</td>\n",
       "    </tr>\n",
       "    <tr>\n",
       "      <th>20</th>\n",
       "      <td>Ctx</td>\n",
       "      <td>300</td>\n",
       "      <td>NaN</td>\n",
       "      <td>2</td>\n",
       "      <td>HPc</td>\n",
       "      <td>4</td>\n",
       "      <td>4</td>\n",
       "      <td>20</td>\n",
       "      <td>HPc4420</td>\n",
       "    </tr>\n",
       "    <tr>\n",
       "      <th>21</th>\n",
       "      <td>Ctx</td>\n",
       "      <td>196</td>\n",
       "      <td>NaN</td>\n",
       "      <td>0</td>\n",
       "      <td>HPc</td>\n",
       "      <td>4</td>\n",
       "      <td>4</td>\n",
       "      <td>21</td>\n",
       "      <td>HPc4421</td>\n",
       "    </tr>\n",
       "    <tr>\n",
       "      <th>22</th>\n",
       "      <td>Ctx</td>\n",
       "      <td>0</td>\n",
       "      <td>NaN</td>\n",
       "      <td>0</td>\n",
       "      <td>HPc</td>\n",
       "      <td>4</td>\n",
       "      <td>4</td>\n",
       "      <td>22</td>\n",
       "      <td>HPc4422</td>\n",
       "    </tr>\n",
       "  </tbody>\n",
       "</table>\n",
       "</div>"
      ],
      "text/plain": [
       "                                area  depth descrip  numcells animal  day  \\\n",
       "animal day epoch tetrode_number                                             \n",
       "HPc    4   4     1               CA1    111  riptet         0    HPc    4   \n",
       "                 2               CA1    103  riptet         5    HPc    4   \n",
       "                 3               CA1     95  riptet         0    HPc    4   \n",
       "                 4               CA1    109  riptet         2    HPc    4   \n",
       "                 5               CA1     98  riptet         0    HPc    4   \n",
       "                 6               CA1    110  riptet         7    HPc    4   \n",
       "                 8               PFC     65     NaN         0    HPc    4   \n",
       "                 9               PFC     60     NaN         0    HPc    4   \n",
       "                 10              PFC     57     NaN         0    HPc    4   \n",
       "                 11              PFC     81     NaN         0    HPc    4   \n",
       "                 12              PFC     74     NaN         0    HPc    4   \n",
       "                 13              PFC     99     NaN         0    HPc    4   \n",
       "                 14              PFC     66     NaN         0    HPc    4   \n",
       "                 15              PFC     71     NaN         7    HPc    4   \n",
       "                 16              PFC     90     NaN         0    HPc    4   \n",
       "                 18              Ctx    315     NaN         0    HPc    4   \n",
       "                 19              Ctx    318     NaN         0    HPc    4   \n",
       "                 20              Ctx    300     NaN         2    HPc    4   \n",
       "                 21              Ctx    196     NaN         0    HPc    4   \n",
       "                 22              Ctx      0     NaN         0    HPc    4   \n",
       "\n",
       "                                 epoch  tetrode_number tetrode_id  \n",
       "animal day epoch tetrode_number                                    \n",
       "HPc    4   4     1                   4               1     HPc441  \n",
       "                 2                   4               2     HPc442  \n",
       "                 3                   4               3     HPc443  \n",
       "                 4                   4               4     HPc444  \n",
       "                 5                   4               5     HPc445  \n",
       "                 6                   4               6     HPc446  \n",
       "                 8                   4               8     HPc448  \n",
       "                 9                   4               9     HPc449  \n",
       "                 10                  4              10    HPc4410  \n",
       "                 11                  4              11    HPc4411  \n",
       "                 12                  4              12    HPc4412  \n",
       "                 13                  4              13    HPc4413  \n",
       "                 14                  4              14    HPc4414  \n",
       "                 15                  4              15    HPc4415  \n",
       "                 16                  4              16    HPc4416  \n",
       "                 18                  4              18    HPc4418  \n",
       "                 19                  4              19    HPc4419  \n",
       "                 20                  4              20    HPc4420  \n",
       "                 21                  4              21    HPc4421  \n",
       "                 22                  4              22    HPc4422  "
      ]
     },
     "execution_count": 5,
     "metadata": {},
     "output_type": "execute_result"
    }
   ],
   "source": [
    "tetrode_info"
   ]
  },
  {
   "cell_type": "code",
   "execution_count": 6,
   "metadata": {},
   "outputs": [
    {
     "data": {
      "text/plain": [
       "(20, 2251, 219)"
      ]
     },
     "execution_count": 6,
     "metadata": {},
     "output_type": "execute_result"
    }
   ],
   "source": [
    "ripple_locked_lfps.shape"
   ]
  },
  {
   "cell_type": "code",
   "execution_count": 7,
   "metadata": {},
   "outputs": [
    {
     "data": {
      "text/plain": [
       "219"
      ]
     },
     "execution_count": 7,
     "metadata": {},
     "output_type": "execute_result"
    }
   ],
   "source": [
    "len(ripple_times)"
   ]
  },
  {
   "cell_type": "code",
   "execution_count": 8,
   "metadata": {},
   "outputs": [
    {
     "data": {
      "text/plain": [
       "['CA1',\n",
       " 'CA1',\n",
       " 'CA1',\n",
       " 'CA1',\n",
       " 'CA1',\n",
       " 'CA1',\n",
       " 'PFC',\n",
       " 'PFC',\n",
       " 'PFC',\n",
       " 'PFC',\n",
       " 'PFC',\n",
       " 'PFC',\n",
       " 'PFC',\n",
       " 'PFC',\n",
       " 'PFC',\n",
       " 'Ctx',\n",
       " 'Ctx',\n",
       " 'Ctx',\n",
       " 'Ctx',\n",
       " 'Ctx']"
      ]
     },
     "execution_count": 8,
     "metadata": {},
     "output_type": "execute_result"
    }
   ],
   "source": [
    "tetrode_info.area.tolist()"
   ]
  },
  {
   "cell_type": "markdown",
   "metadata": {},
   "source": [
    "Check the rest of the initial calculations before the SVD"
   ]
  },
  {
   "cell_type": "code",
   "execution_count": 9,
   "metadata": {
    "collapsed": true
   },
   "outputs": [],
   "source": [
    "group_labels = tetrode_info.area.tolist()\n",
    "labels = np.unique(group_labels)\n",
    "n_frequencies = c.fourier_coefficients.shape[-2]\n",
    "non_negative_frequencies = np.arange(0, (n_frequencies + 1) // 2)\n",
    "fourier_coefficients = c.fourier_coefficients[\n",
    "            ..., non_negative_frequencies, :]"
   ]
  },
  {
   "cell_type": "code",
   "execution_count": 10,
   "metadata": {},
   "outputs": [
    {
     "data": {
      "text/plain": [
       "array(['CA1', 'Ctx', 'PFC'], \n",
       "      dtype='<U3')"
      ]
     },
     "execution_count": 10,
     "metadata": {},
     "output_type": "execute_result"
    }
   ],
   "source": [
    "labels"
   ]
  },
  {
   "cell_type": "code",
   "execution_count": 11,
   "metadata": {},
   "outputs": [
    {
     "data": {
      "text/plain": [
       "750"
      ]
     },
     "execution_count": 11,
     "metadata": {},
     "output_type": "execute_result"
    }
   ],
   "source": [
    "n_frequencies"
   ]
  },
  {
   "cell_type": "code",
   "execution_count": 12,
   "metadata": {},
   "outputs": [
    {
     "data": {
      "text/plain": [
       "array([  0,   1,   2,   3,   4,   5,   6,   7,   8,   9,  10,  11,  12,\n",
       "        13,  14,  15,  16,  17,  18,  19,  20,  21,  22,  23,  24,  25,\n",
       "        26,  27,  28,  29,  30,  31,  32,  33,  34,  35,  36,  37,  38,\n",
       "        39,  40,  41,  42,  43,  44,  45,  46,  47,  48,  49,  50,  51,\n",
       "        52,  53,  54,  55,  56,  57,  58,  59,  60,  61,  62,  63,  64,\n",
       "        65,  66,  67,  68,  69,  70,  71,  72,  73,  74,  75,  76,  77,\n",
       "        78,  79,  80,  81,  82,  83,  84,  85,  86,  87,  88,  89,  90,\n",
       "        91,  92,  93,  94,  95,  96,  97,  98,  99, 100, 101, 102, 103,\n",
       "       104, 105, 106, 107, 108, 109, 110, 111, 112, 113, 114, 115, 116,\n",
       "       117, 118, 119, 120, 121, 122, 123, 124, 125, 126, 127, 128, 129,\n",
       "       130, 131, 132, 133, 134, 135, 136, 137, 138, 139, 140, 141, 142,\n",
       "       143, 144, 145, 146, 147, 148, 149, 150, 151, 152, 153, 154, 155,\n",
       "       156, 157, 158, 159, 160, 161, 162, 163, 164, 165, 166, 167, 168,\n",
       "       169, 170, 171, 172, 173, 174, 175, 176, 177, 178, 179, 180, 181,\n",
       "       182, 183, 184, 185, 186, 187, 188, 189, 190, 191, 192, 193, 194,\n",
       "       195, 196, 197, 198, 199, 200, 201, 202, 203, 204, 205, 206, 207,\n",
       "       208, 209, 210, 211, 212, 213, 214, 215, 216, 217, 218, 219, 220,\n",
       "       221, 222, 223, 224, 225, 226, 227, 228, 229, 230, 231, 232, 233,\n",
       "       234, 235, 236, 237, 238, 239, 240, 241, 242, 243, 244, 245, 246,\n",
       "       247, 248, 249, 250, 251, 252, 253, 254, 255, 256, 257, 258, 259,\n",
       "       260, 261, 262, 263, 264, 265, 266, 267, 268, 269, 270, 271, 272,\n",
       "       273, 274, 275, 276, 277, 278, 279, 280, 281, 282, 283, 284, 285,\n",
       "       286, 287, 288, 289, 290, 291, 292, 293, 294, 295, 296, 297, 298,\n",
       "       299, 300, 301, 302, 303, 304, 305, 306, 307, 308, 309, 310, 311,\n",
       "       312, 313, 314, 315, 316, 317, 318, 319, 320, 321, 322, 323, 324,\n",
       "       325, 326, 327, 328, 329, 330, 331, 332, 333, 334, 335, 336, 337,\n",
       "       338, 339, 340, 341, 342, 343, 344, 345, 346, 347, 348, 349, 350,\n",
       "       351, 352, 353, 354, 355, 356, 357, 358, 359, 360, 361, 362, 363,\n",
       "       364, 365, 366, 367, 368, 369, 370, 371, 372, 373, 374])"
      ]
     },
     "execution_count": 12,
     "metadata": {},
     "output_type": "execute_result"
    }
   ],
   "source": [
    "non_negative_frequencies"
   ]
  },
  {
   "cell_type": "markdown",
   "metadata": {},
   "source": [
    "Check the fourier coefficients size and the indexing to find the non-negative frequencies"
   ]
  },
  {
   "cell_type": "code",
   "execution_count": 13,
   "metadata": {},
   "outputs": [
    {
     "data": {
      "text/plain": [
       "(3, 219, 1, 375, 20)"
      ]
     },
     "execution_count": 13,
     "metadata": {},
     "output_type": "execute_result"
    }
   ],
   "source": [
    "fourier_coefficients.shape"
   ]
  },
  {
   "cell_type": "code",
   "execution_count": 14,
   "metadata": {},
   "outputs": [
    {
     "data": {
      "text/plain": [
       "(3, 219, 1, 750, 20)"
      ]
     },
     "execution_count": 14,
     "metadata": {},
     "output_type": "execute_result"
    }
   ],
   "source": [
    "c.fourier_coefficients.shape"
   ]
  },
  {
   "cell_type": "markdown",
   "metadata": {},
   "source": [
    "Everything seems fine. Now double check the function where the error is occuring."
   ]
  },
  {
   "cell_type": "code",
   "execution_count": 16,
   "metadata": {},
   "outputs": [
    {
     "ename": "LinAlgError",
     "evalue": "SVD did not converge",
     "output_type": "error",
     "traceback": [
      "\u001b[0;31m---------------------------------------------------------------------------\u001b[0m",
      "\u001b[0;31mLinAlgError\u001b[0m                               Traceback (most recent call last)",
      "\u001b[0;32m<ipython-input-16-62bdfc11c528>\u001b[0m in \u001b[0;36m<module>\u001b[0;34m()\u001b[0m\n\u001b[1;32m      4\u001b[0m     _normalize_fourier_coefficients(\n\u001b[1;32m      5\u001b[0m         fourier_coefficients[..., np.in1d(group_labels, label)])\n\u001b[0;32m----> 6\u001b[0;31m     for label in labels]\n\u001b[0m",
      "\u001b[0;32m<ipython-input-16-62bdfc11c528>\u001b[0m in \u001b[0;36m<listcomp>\u001b[0;34m(.0)\u001b[0m\n\u001b[1;32m      4\u001b[0m     _normalize_fourier_coefficients(\n\u001b[1;32m      5\u001b[0m         fourier_coefficients[..., np.in1d(group_labels, label)])\n\u001b[0;32m----> 6\u001b[0;31m     for label in labels]\n\u001b[0m",
      "\u001b[0;32m/projectnb/braincom/Jadhav-2016-Data-Analysis/src/spectral/connectivity.py\u001b[0m in \u001b[0;36m_normalize_fourier_coefficients\u001b[0;34m(fourier_coefficients)\u001b[0m\n\u001b[1;32m    939\u001b[0m     '''\n\u001b[1;32m    940\u001b[0m     U, _, V_transpose = np.linalg.svd(\n\u001b[0;32m--> 941\u001b[0;31m         _reshape(fourier_coefficients), full_matrices=False)\n\u001b[0m\u001b[1;32m    942\u001b[0m     \u001b[0;32mreturn\u001b[0m \u001b[0mnp\u001b[0m\u001b[0;34m.\u001b[0m\u001b[0mmatmul\u001b[0m\u001b[0;34m(\u001b[0m\u001b[0mU\u001b[0m\u001b[0;34m,\u001b[0m \u001b[0mV_transpose\u001b[0m\u001b[0;34m)\u001b[0m\u001b[0;34m\u001b[0m\u001b[0m\n\u001b[1;32m    943\u001b[0m \u001b[0;34m\u001b[0m\u001b[0m\n",
      "\u001b[0;32m/usr3/graduate/edeno/.conda/envs/Jadhav-2016-Data-Analysis/lib/python3.5/site-packages/numpy/linalg/linalg.py\u001b[0m in \u001b[0;36msvd\u001b[0;34m(a, full_matrices, compute_uv)\u001b[0m\n\u001b[1;32m   1357\u001b[0m \u001b[0;34m\u001b[0m\u001b[0m\n\u001b[1;32m   1358\u001b[0m         \u001b[0msignature\u001b[0m \u001b[0;34m=\u001b[0m \u001b[0;34m'D->DdD'\u001b[0m \u001b[0;32mif\u001b[0m \u001b[0misComplexType\u001b[0m\u001b[0;34m(\u001b[0m\u001b[0mt\u001b[0m\u001b[0;34m)\u001b[0m \u001b[0;32melse\u001b[0m \u001b[0;34m'd->ddd'\u001b[0m\u001b[0;34m\u001b[0m\u001b[0m\n\u001b[0;32m-> 1359\u001b[0;31m         \u001b[0mu\u001b[0m\u001b[0;34m,\u001b[0m \u001b[0ms\u001b[0m\u001b[0;34m,\u001b[0m \u001b[0mvt\u001b[0m \u001b[0;34m=\u001b[0m \u001b[0mgufunc\u001b[0m\u001b[0;34m(\u001b[0m\u001b[0ma\u001b[0m\u001b[0;34m,\u001b[0m \u001b[0msignature\u001b[0m\u001b[0;34m=\u001b[0m\u001b[0msignature\u001b[0m\u001b[0;34m,\u001b[0m \u001b[0mextobj\u001b[0m\u001b[0;34m=\u001b[0m\u001b[0mextobj\u001b[0m\u001b[0;34m)\u001b[0m\u001b[0;34m\u001b[0m\u001b[0m\n\u001b[0m\u001b[1;32m   1360\u001b[0m         \u001b[0mu\u001b[0m \u001b[0;34m=\u001b[0m \u001b[0mu\u001b[0m\u001b[0;34m.\u001b[0m\u001b[0mastype\u001b[0m\u001b[0;34m(\u001b[0m\u001b[0mresult_t\u001b[0m\u001b[0;34m,\u001b[0m \u001b[0mcopy\u001b[0m\u001b[0;34m=\u001b[0m\u001b[0;32mFalse\u001b[0m\u001b[0;34m)\u001b[0m\u001b[0;34m\u001b[0m\u001b[0m\n\u001b[1;32m   1361\u001b[0m         \u001b[0ms\u001b[0m \u001b[0;34m=\u001b[0m \u001b[0ms\u001b[0m\u001b[0;34m.\u001b[0m\u001b[0mastype\u001b[0m\u001b[0;34m(\u001b[0m\u001b[0m_realType\u001b[0m\u001b[0;34m(\u001b[0m\u001b[0mresult_t\u001b[0m\u001b[0;34m)\u001b[0m\u001b[0;34m,\u001b[0m \u001b[0mcopy\u001b[0m\u001b[0;34m=\u001b[0m\u001b[0;32mFalse\u001b[0m\u001b[0;34m)\u001b[0m\u001b[0;34m\u001b[0m\u001b[0m\n",
      "\u001b[0;32m/usr3/graduate/edeno/.conda/envs/Jadhav-2016-Data-Analysis/lib/python3.5/site-packages/numpy/linalg/linalg.py\u001b[0m in \u001b[0;36m_raise_linalgerror_svd_nonconvergence\u001b[0;34m(err, flag)\u001b[0m\n\u001b[1;32m     97\u001b[0m \u001b[0;34m\u001b[0m\u001b[0m\n\u001b[1;32m     98\u001b[0m \u001b[0;32mdef\u001b[0m \u001b[0m_raise_linalgerror_svd_nonconvergence\u001b[0m\u001b[0;34m(\u001b[0m\u001b[0merr\u001b[0m\u001b[0;34m,\u001b[0m \u001b[0mflag\u001b[0m\u001b[0;34m)\u001b[0m\u001b[0;34m:\u001b[0m\u001b[0;34m\u001b[0m\u001b[0m\n\u001b[0;32m---> 99\u001b[0;31m     \u001b[0;32mraise\u001b[0m \u001b[0mLinAlgError\u001b[0m\u001b[0;34m(\u001b[0m\u001b[0;34m\"SVD did not converge\"\u001b[0m\u001b[0;34m)\u001b[0m\u001b[0;34m\u001b[0m\u001b[0m\n\u001b[0m\u001b[1;32m    100\u001b[0m \u001b[0;34m\u001b[0m\u001b[0m\n\u001b[1;32m    101\u001b[0m \u001b[0;32mdef\u001b[0m \u001b[0mget_linalg_error_extobj\u001b[0m\u001b[0;34m(\u001b[0m\u001b[0mcallback\u001b[0m\u001b[0;34m)\u001b[0m\u001b[0;34m:\u001b[0m\u001b[0;34m\u001b[0m\u001b[0m\n",
      "\u001b[0;31mLinAlgError\u001b[0m: SVD did not converge"
     ]
    }
   ],
   "source": [
    "from src.spectral.connectivity import _normalize_fourier_coefficients\n",
    "\n",
    "normalized_fourier_coefficients = [\n",
    "    _normalize_fourier_coefficients(\n",
    "        fourier_coefficients[..., np.in1d(group_labels, label)])\n",
    "    for label in labels]"
   ]
  },
  {
   "cell_type": "markdown",
   "metadata": {},
   "source": [
    "It still fails"
   ]
  },
  {
   "cell_type": "code",
   "execution_count": 48,
   "metadata": {},
   "outputs": [
    {
     "ename": "LinAlgError",
     "evalue": "SVD did not converge",
     "output_type": "error",
     "traceback": [
      "\u001b[0;31m---------------------------------------------------------------------------\u001b[0m",
      "\u001b[0;31mLinAlgError\u001b[0m                               Traceback (most recent call last)",
      "\u001b[0;32m<ipython-input-48-52b51ebcf09e>\u001b[0m in \u001b[0;36m<module>\u001b[0;34m()\u001b[0m\n\u001b[1;32m      1\u001b[0m \u001b[0mlabel\u001b[0m \u001b[0;34m=\u001b[0m \u001b[0;34m'PFC'\u001b[0m\u001b[0;34m\u001b[0m\u001b[0m\n\u001b[1;32m      2\u001b[0m _normalize_fourier_coefficients(\n\u001b[0;32m----> 3\u001b[0;31m         fourier_coefficients[..., np.in1d(group_labels, label)])\n\u001b[0m",
      "\u001b[0;32m/projectnb/braincom/Jadhav-2016-Data-Analysis/src/spectral/connectivity.py\u001b[0m in \u001b[0;36m_normalize_fourier_coefficients\u001b[0;34m(fourier_coefficients)\u001b[0m\n\u001b[1;32m    939\u001b[0m     '''\n\u001b[1;32m    940\u001b[0m     U, _, V_transpose = np.linalg.svd(\n\u001b[0;32m--> 941\u001b[0;31m         _reshape(fourier_coefficients), full_matrices=False)\n\u001b[0m\u001b[1;32m    942\u001b[0m     \u001b[0;32mreturn\u001b[0m \u001b[0mnp\u001b[0m\u001b[0;34m.\u001b[0m\u001b[0mmatmul\u001b[0m\u001b[0;34m(\u001b[0m\u001b[0mU\u001b[0m\u001b[0;34m,\u001b[0m \u001b[0mV_transpose\u001b[0m\u001b[0;34m)\u001b[0m\u001b[0;34m\u001b[0m\u001b[0m\n\u001b[1;32m    943\u001b[0m \u001b[0;34m\u001b[0m\u001b[0m\n",
      "\u001b[0;32m/usr3/graduate/edeno/.conda/envs/Jadhav-2016-Data-Analysis/lib/python3.5/site-packages/numpy/linalg/linalg.py\u001b[0m in \u001b[0;36msvd\u001b[0;34m(a, full_matrices, compute_uv)\u001b[0m\n\u001b[1;32m   1357\u001b[0m \u001b[0;34m\u001b[0m\u001b[0m\n\u001b[1;32m   1358\u001b[0m         \u001b[0msignature\u001b[0m \u001b[0;34m=\u001b[0m \u001b[0;34m'D->DdD'\u001b[0m \u001b[0;32mif\u001b[0m \u001b[0misComplexType\u001b[0m\u001b[0;34m(\u001b[0m\u001b[0mt\u001b[0m\u001b[0;34m)\u001b[0m \u001b[0;32melse\u001b[0m \u001b[0;34m'd->ddd'\u001b[0m\u001b[0;34m\u001b[0m\u001b[0m\n\u001b[0;32m-> 1359\u001b[0;31m         \u001b[0mu\u001b[0m\u001b[0;34m,\u001b[0m \u001b[0ms\u001b[0m\u001b[0;34m,\u001b[0m \u001b[0mvt\u001b[0m \u001b[0;34m=\u001b[0m \u001b[0mgufunc\u001b[0m\u001b[0;34m(\u001b[0m\u001b[0ma\u001b[0m\u001b[0;34m,\u001b[0m \u001b[0msignature\u001b[0m\u001b[0;34m=\u001b[0m\u001b[0msignature\u001b[0m\u001b[0;34m,\u001b[0m \u001b[0mextobj\u001b[0m\u001b[0;34m=\u001b[0m\u001b[0mextobj\u001b[0m\u001b[0;34m)\u001b[0m\u001b[0;34m\u001b[0m\u001b[0m\n\u001b[0m\u001b[1;32m   1360\u001b[0m         \u001b[0mu\u001b[0m \u001b[0;34m=\u001b[0m \u001b[0mu\u001b[0m\u001b[0;34m.\u001b[0m\u001b[0mastype\u001b[0m\u001b[0;34m(\u001b[0m\u001b[0mresult_t\u001b[0m\u001b[0;34m,\u001b[0m \u001b[0mcopy\u001b[0m\u001b[0;34m=\u001b[0m\u001b[0;32mFalse\u001b[0m\u001b[0;34m)\u001b[0m\u001b[0;34m\u001b[0m\u001b[0m\n\u001b[1;32m   1361\u001b[0m         \u001b[0ms\u001b[0m \u001b[0;34m=\u001b[0m \u001b[0ms\u001b[0m\u001b[0;34m.\u001b[0m\u001b[0mastype\u001b[0m\u001b[0;34m(\u001b[0m\u001b[0m_realType\u001b[0m\u001b[0;34m(\u001b[0m\u001b[0mresult_t\u001b[0m\u001b[0;34m)\u001b[0m\u001b[0;34m,\u001b[0m \u001b[0mcopy\u001b[0m\u001b[0;34m=\u001b[0m\u001b[0;32mFalse\u001b[0m\u001b[0;34m)\u001b[0m\u001b[0;34m\u001b[0m\u001b[0m\n",
      "\u001b[0;32m/usr3/graduate/edeno/.conda/envs/Jadhav-2016-Data-Analysis/lib/python3.5/site-packages/numpy/linalg/linalg.py\u001b[0m in \u001b[0;36m_raise_linalgerror_svd_nonconvergence\u001b[0;34m(err, flag)\u001b[0m\n\u001b[1;32m     97\u001b[0m \u001b[0;34m\u001b[0m\u001b[0m\n\u001b[1;32m     98\u001b[0m \u001b[0;32mdef\u001b[0m \u001b[0m_raise_linalgerror_svd_nonconvergence\u001b[0m\u001b[0;34m(\u001b[0m\u001b[0merr\u001b[0m\u001b[0;34m,\u001b[0m \u001b[0mflag\u001b[0m\u001b[0;34m)\u001b[0m\u001b[0;34m:\u001b[0m\u001b[0;34m\u001b[0m\u001b[0m\n\u001b[0;32m---> 99\u001b[0;31m     \u001b[0;32mraise\u001b[0m \u001b[0mLinAlgError\u001b[0m\u001b[0;34m(\u001b[0m\u001b[0;34m\"SVD did not converge\"\u001b[0m\u001b[0;34m)\u001b[0m\u001b[0;34m\u001b[0m\u001b[0m\n\u001b[0m\u001b[1;32m    100\u001b[0m \u001b[0;34m\u001b[0m\u001b[0m\n\u001b[1;32m    101\u001b[0m \u001b[0;32mdef\u001b[0m \u001b[0mget_linalg_error_extobj\u001b[0m\u001b[0;34m(\u001b[0m\u001b[0mcallback\u001b[0m\u001b[0;34m)\u001b[0m\u001b[0;34m:\u001b[0m\u001b[0;34m\u001b[0m\u001b[0m\n",
      "\u001b[0;31mLinAlgError\u001b[0m: SVD did not converge"
     ]
    }
   ],
   "source": [
    "label = 'PFC'\n",
    "_normalize_fourier_coefficients(\n",
    "        fourier_coefficients[..., np.in1d(group_labels, label)])"
   ]
  },
  {
   "cell_type": "markdown",
   "metadata": {},
   "source": [
    "Check selecting the tetrodes from the correct brain area"
   ]
  },
  {
   "cell_type": "code",
   "execution_count": 20,
   "metadata": {},
   "outputs": [
    {
     "data": {
      "text/plain": [
       "array([ True,  True,  True,  True,  True,  True, False, False, False,\n",
       "       False, False, False, False, False, False, False, False, False,\n",
       "       False, False], dtype=bool)"
      ]
     },
     "execution_count": 20,
     "metadata": {},
     "output_type": "execute_result"
    }
   ],
   "source": [
    "np.in1d(group_labels, label)"
   ]
  },
  {
   "cell_type": "markdown",
   "metadata": {},
   "source": [
    "Check the fourier coefficients"
   ]
  },
  {
   "cell_type": "code",
   "execution_count": 22,
   "metadata": {
    "scrolled": true
   },
   "outputs": [
    {
     "data": {
      "text/plain": [
       "array([[[[[             nan            +nanj,\n",
       "                        nan            +nanj,\n",
       "                        nan            +nanj,\n",
       "                        nan            +nanj,\n",
       "                        nan            +nanj,\n",
       "                        nan            +nanj],\n",
       "          [             nan            +nanj,\n",
       "                        nan            +nanj,\n",
       "                        nan            +nanj,\n",
       "                        nan            +nanj,\n",
       "                        nan            +nanj,\n",
       "                        nan            +nanj],\n",
       "          [             nan            +nanj,\n",
       "                        nan            +nanj,\n",
       "                        nan            +nanj,\n",
       "                        nan            +nanj,\n",
       "                        nan            +nanj,\n",
       "                        nan            +nanj],\n",
       "          ..., \n",
       "          [             nan            +nanj,\n",
       "                        nan            +nanj,\n",
       "                        nan            +nanj,\n",
       "                        nan            +nanj,\n",
       "                        nan            +nanj,\n",
       "                        nan            +nanj],\n",
       "          [             nan            +nanj,\n",
       "                        nan            +nanj,\n",
       "                        nan            +nanj,\n",
       "                        nan            +nanj,\n",
       "                        nan            +nanj,\n",
       "                        nan            +nanj],\n",
       "          [             nan            +nanj,\n",
       "                        nan            +nanj,\n",
       "                        nan            +nanj,\n",
       "                        nan            +nanj,\n",
       "                        nan            +nanj,\n",
       "                        nan            +nanj]]],\n",
       "\n",
       "\n",
       "        [[[  1.28673065e+01 +0.00000000e+00j,\n",
       "             6.55902330e+00 +0.00000000e+00j,\n",
       "             1.63504820e+00 +0.00000000e+00j,\n",
       "            -1.97765602e+00 +0.00000000e+00j,\n",
       "            -3.03130062e+00 +0.00000000e+00j,\n",
       "            -4.05512713e+00 +0.00000000e+00j],\n",
       "          [ -3.38652675e+01 -2.01223841e+01j,\n",
       "            -1.89951796e+01 -1.21059300e+00j,\n",
       "            -8.64106429e+00 -2.77357624e+00j,\n",
       "            -1.58293567e+00 +3.19139603e-01j,\n",
       "            -7.99001031e-01 +1.04099079e+00j,\n",
       "             1.80634823e+00 +5.79723346e-01j],\n",
       "          [  2.60424716e+01 +2.24569005e+00j,\n",
       "             1.13646474e+01 -1.05632026e+01j,\n",
       "             8.83150621e+00 -6.12864129e+00j,\n",
       "             1.56195414e+01 -1.31763086e+01j,\n",
       "             1.73076344e+01 -1.31624708e+01j,\n",
       "             1.69529098e+01 -5.55613224e+00j],\n",
       "          ..., \n",
       "          [  5.16136994e-02 +2.54581425e-02j,\n",
       "            -8.29111867e-02 -2.64081155e-02j,\n",
       "            -4.73213890e-02 -8.55060751e-03j,\n",
       "            -2.56841619e-02 -4.75373362e-02j,\n",
       "             1.62519193e-01 +2.28042440e-02j,\n",
       "            -1.96672548e-03 +3.38398604e-02j],\n",
       "          [ -4.19063324e-02 -2.25944223e-03j,\n",
       "             3.08119279e-02 +3.15653913e-02j,\n",
       "            -2.68633958e-02 -2.06353269e-02j,\n",
       "            -8.91463870e-02 -3.58639673e-02j,\n",
       "            -1.23568791e-01 -5.87249581e-02j,\n",
       "            -4.33928339e-02 -5.57507320e-02j],\n",
       "          [ -1.72845200e-02 +3.35251956e-02j,\n",
       "            -2.90562650e-02 -9.95459204e-04j,\n",
       "             1.10214034e-02 +2.88576600e-02j,\n",
       "            -1.61634741e-02 +8.66289013e-02j,\n",
       "            -5.19057724e-03 +1.25867116e-01j,\n",
       "             1.38154720e-02 +7.07579123e-02j]]],\n",
       "\n",
       "\n",
       "        [[[  4.29282194e+00 +0.00000000e+00j,\n",
       "             4.01402852e+00 +0.00000000e+00j,\n",
       "             7.92070217e+00 +0.00000000e+00j,\n",
       "             4.18311678e+00 +0.00000000e+00j,\n",
       "             2.42096845e+00 +0.00000000e+00j,\n",
       "             3.01818707e+00 +0.00000000e+00j],\n",
       "          [ -5.78650405e+00 -8.35437509e+00j,\n",
       "             1.39741171e-01 -8.16784096e+00j,\n",
       "            -9.57503780e+00 -1.26128489e+01j,\n",
       "            -6.20669621e+00 +1.59293769e+00j,\n",
       "            -1.37911515e+00 -5.58643975e-02j,\n",
       "            -3.17934380e+00 -8.64058822e-01j],\n",
       "          [ -1.20447630e+01 +1.61304350e+01j,\n",
       "            -2.22674926e+01 +1.42984163e+01j,\n",
       "            -1.25788768e+01 +1.70979691e+01j,\n",
       "            -5.22653009e+00 +9.46063514e+00j,\n",
       "            -9.13829717e+00 +8.65967989e+00j,\n",
       "            -5.58369886e+00 +9.14336238e+00j],\n",
       "          ..., \n",
       "          [  7.44340922e-03 +3.13267804e-03j,\n",
       "            -9.87746083e-02 -9.66565382e-02j,\n",
       "             5.38338810e-02 -3.56100260e-02j,\n",
       "             8.79031303e-02 +4.44940364e-02j,\n",
       "             1.41811436e-02 +3.34810645e-02j,\n",
       "            -5.08260042e-02 +2.64147755e-02j],\n",
       "          [ -4.58621091e-02 +2.40227969e-02j,\n",
       "            -2.96952729e-02 +3.87416878e-02j,\n",
       "            -4.68628301e-02 +3.97843339e-02j,\n",
       "             8.46352808e-03 -9.77270075e-03j,\n",
       "             2.80216323e-02 +4.30342116e-02j,\n",
       "             4.78033634e-02 +1.01495876e-01j],\n",
       "          [ -4.02002812e-02 -2.07266403e-02j,\n",
       "             2.61431615e-03 +6.12910720e-02j,\n",
       "            -3.44253132e-02 -3.16194804e-02j,\n",
       "            -9.10186284e-02 +4.94835703e-02j,\n",
       "            -4.90559914e-02 -3.34138956e-02j,\n",
       "            -5.45615280e-02 -7.44492084e-02j]]],\n",
       "\n",
       "\n",
       "        ..., \n",
       "        [[[  3.94964937e-02 +0.00000000e+00j,\n",
       "             3.50633266e+00 +0.00000000e+00j,\n",
       "             1.99480051e+00 +0.00000000e+00j,\n",
       "             5.92117095e-01 +0.00000000e+00j,\n",
       "             2.26440966e+00 +0.00000000e+00j,\n",
       "             1.55822631e+00 +0.00000000e+00j],\n",
       "          [  3.40822796e+00 -5.98781626e-01j,\n",
       "            -3.30190400e+00 -4.21841228e+00j,\n",
       "            -2.08261957e+00 -4.13363564e+00j,\n",
       "            -8.27742565e+00 -1.75824827e+00j,\n",
       "            -9.47610705e+00 -2.83436139e+00j,\n",
       "            -8.95119021e+00 -4.14491986e+00j],\n",
       "          [ -1.17565650e+01 +1.12410730e+01j,\n",
       "            -5.26508882e+00 +9.55540809e+00j,\n",
       "            -4.57059916e+00 +1.01743330e+01j,\n",
       "             1.03931032e+01 +9.03680690e+00j,\n",
       "             7.20863162e+00 +8.63007226e+00j,\n",
       "             6.91276362e+00 +1.06007054e+01j],\n",
       "          ..., \n",
       "          [  7.60402732e-02 -1.42899299e-02j,\n",
       "             5.26005117e-02 -4.95722916e-03j,\n",
       "             8.20428905e-02 -2.10294551e-02j,\n",
       "             1.12125781e-01 -3.62840024e-02j,\n",
       "             4.67756248e-02 -4.77181535e-02j,\n",
       "             5.46625154e-02 -1.66380647e-02j],\n",
       "          [  2.96126563e-02 +3.60583109e-03j,\n",
       "             6.16414486e-02 +1.38773850e-03j,\n",
       "             4.39617232e-02 -3.81315920e-02j,\n",
       "             9.36294298e-02 +5.11196611e-02j,\n",
       "             8.05639899e-02 -2.17563128e-02j,\n",
       "             1.06717225e-01 -3.72140456e-02j],\n",
       "          [  6.01793717e-02 +3.55024608e-02j,\n",
       "             4.89095007e-02 -1.07464626e-02j,\n",
       "             3.87610484e-02 +4.84215976e-02j,\n",
       "             1.11531004e-02 -5.24784233e-02j,\n",
       "             1.66007988e-01 -1.20630724e-02j,\n",
       "            -1.84036228e-02 +5.46842607e-02j]]],\n",
       "\n",
       "\n",
       "        [[[ -2.16573294e+00 +0.00000000e+00j,\n",
       "            -3.52212511e+00 +0.00000000e+00j,\n",
       "            -4.58806450e+00 +0.00000000e+00j,\n",
       "             8.86631709e-01 +0.00000000e+00j,\n",
       "             1.96408185e+00 +0.00000000e+00j,\n",
       "             9.83593336e-01 +0.00000000e+00j],\n",
       "          [  6.87831172e+00 -2.14238013e+01j,\n",
       "             7.90867923e+00 -5.33164486e+00j,\n",
       "             9.52520321e+00 -2.36018804e+00j,\n",
       "             1.50278123e+00 -1.66460442e+00j,\n",
       "            -3.84622555e-01 -5.75079976e-01j,\n",
       "             6.06241352e-01 -1.36298100e+00j],\n",
       "          [ -1.42222414e+01 +1.02465358e+01j,\n",
       "            -5.27918127e+00 +8.00110041e+00j,\n",
       "            -2.69936450e+00 +4.26467227e+00j,\n",
       "            -5.48720668e+00 -4.22595440e+00j,\n",
       "            -6.70217896e+00 -3.73789822e+00j,\n",
       "            -4.27298665e+00 -4.60373724e+00j],\n",
       "          ..., \n",
       "          [ -1.12463744e-03 -5.08094112e-02j,\n",
       "            -9.30229143e-02 -1.86032280e-02j,\n",
       "            -4.21086032e-02 -3.81359153e-02j,\n",
       "             1.22911002e-02 -3.15666818e-02j,\n",
       "             3.29526391e-02 +1.90612244e-02j,\n",
       "             1.22669787e-01 -4.92582005e-02j],\n",
       "          [  3.16346275e-03 +2.91455960e-02j,\n",
       "             1.82909398e-02 -1.65053157e-02j,\n",
       "             1.09876347e-02 +2.54426291e-02j,\n",
       "            -1.70479969e-02 +4.28541416e-02j,\n",
       "            -6.53973041e-02 +5.87001664e-03j,\n",
       "            -2.28101944e-02 +1.00455882e-02j],\n",
       "          [  5.29819753e-02 +2.57330346e-02j,\n",
       "             1.70651244e-02 -1.13389745e-02j,\n",
       "             3.22383746e-02 -2.42061261e-03j,\n",
       "             7.00884345e-02 +2.39664690e-02j,\n",
       "             2.24951687e-02 -1.80653367e-02j,\n",
       "            -4.19653835e-02 +1.17635439e-02j]]],\n",
       "\n",
       "\n",
       "        [[[ -8.42628549e+00 +0.00000000e+00j,\n",
       "            -5.50183437e+00 +0.00000000e+00j,\n",
       "            -5.35099351e+00 +0.00000000e+00j,\n",
       "            -1.74205770e+00 +0.00000000e+00j,\n",
       "            -1.05422823e+00 +0.00000000e+00j,\n",
       "            -3.33100401e-01 +0.00000000e+00j],\n",
       "          [  1.31153501e+01 +7.20754509e+00j,\n",
       "             7.32988004e+00 -2.09626214e+00j,\n",
       "             7.26386287e+00 -1.65702863e+00j,\n",
       "             9.24695804e-02 +4.77696967e+00j,\n",
       "             5.72277050e-01 +3.92303615e+00j,\n",
       "            -4.45702403e-01 +2.12469332e+00j],\n",
       "          [  4.25248019e+00 +8.02614421e-01j,\n",
       "             5.81744090e+00 +4.48036136e+00j,\n",
       "             5.65623786e+00 +5.84019436e+00j,\n",
       "             3.03586019e+00 -1.65702925e+00j,\n",
       "             9.76566087e-02 -8.58605391e-01j,\n",
       "            -1.39627848e+00 -3.59948182e+00j],\n",
       "          ..., \n",
       "          [  6.58280780e-02 -5.94169946e-02j,\n",
       "             1.35236399e-03 -5.20999721e-02j,\n",
       "             2.09596887e-03 -5.06737435e-02j,\n",
       "             2.13876356e-02 -6.64205944e-02j,\n",
       "             9.40303228e-03 +4.88001430e-02j,\n",
       "             1.17257610e-01 -1.88500600e-02j],\n",
       "          [ -1.02096339e-01 -3.12699988e-02j,\n",
       "            -8.36631246e-02 -3.75171014e-03j,\n",
       "            -3.83634449e-02 +3.70753074e-03j,\n",
       "             3.98962340e-02 -3.33591645e-02j,\n",
       "            -4.73988659e-02 -3.50971908e-02j,\n",
       "            -5.55895871e-02 -7.91168927e-03j],\n",
       "          [  4.52195172e-02 +5.06226175e-02j,\n",
       "            -1.55203327e-02 -3.63282623e-02j,\n",
       "            -2.53123917e-02 +1.37929301e-02j,\n",
       "            -3.30922642e-02 +9.34664771e-02j,\n",
       "             3.95518524e-02 +2.18245618e-02j,\n",
       "             7.51398323e-02 +5.24878316e-02j]]]],\n",
       "\n",
       "\n",
       "\n",
       "       [[[[             nan            +nanj,\n",
       "                        nan            +nanj,\n",
       "                        nan            +nanj,\n",
       "                        nan            +nanj,\n",
       "                        nan            +nanj,\n",
       "                        nan            +nanj],\n",
       "          [             nan            +nanj,\n",
       "                        nan            +nanj,\n",
       "                        nan            +nanj,\n",
       "                        nan            +nanj,\n",
       "                        nan            +nanj,\n",
       "                        nan            +nanj],\n",
       "          [             nan            +nanj,\n",
       "                        nan            +nanj,\n",
       "                        nan            +nanj,\n",
       "                        nan            +nanj,\n",
       "                        nan            +nanj,\n",
       "                        nan            +nanj],\n",
       "          ..., \n",
       "          [             nan            +nanj,\n",
       "                        nan            +nanj,\n",
       "                        nan            +nanj,\n",
       "                        nan            +nanj,\n",
       "                        nan            +nanj,\n",
       "                        nan            +nanj],\n",
       "          [             nan            +nanj,\n",
       "                        nan            +nanj,\n",
       "                        nan            +nanj,\n",
       "                        nan            +nanj,\n",
       "                        nan            +nanj,\n",
       "                        nan            +nanj],\n",
       "          [             nan            +nanj,\n",
       "                        nan            +nanj,\n",
       "                        nan            +nanj,\n",
       "                        nan            +nanj,\n",
       "                        nan            +nanj,\n",
       "                        nan            +nanj]]],\n",
       "\n",
       "\n",
       "        [[[  7.98398795e+00 +0.00000000e+00j,\n",
       "             7.81899066e+00 +0.00000000e+00j,\n",
       "             5.16506942e+00 +0.00000000e+00j,\n",
       "             1.37789553e+00 +0.00000000e+00j,\n",
       "             1.01742389e+00 +0.00000000e+00j,\n",
       "             1.33379063e+00 +0.00000000e+00j],\n",
       "          [ -1.80066577e+01 -1.43020804e+01j,\n",
       "            -1.91384647e+01 -8.55031926e+00j,\n",
       "            -1.20360213e+01 -5.42900819e+00j,\n",
       "            -2.20961745e+00 +3.55501614e-01j,\n",
       "            -1.04194790e+00 +1.33370264e+00j,\n",
       "            -7.43318288e-01 +3.61609377e+00j],\n",
       "          [  9.10386221e+00 +9.39500326e+00j,\n",
       "             1.26710826e+01 -2.59072492e-01j,\n",
       "             9.60982552e+00 -8.22583001e+00j,\n",
       "             1.12764681e+00 -5.68657307e+00j,\n",
       "            -6.05114007e-01 -2.88962834e+00j,\n",
       "            -1.35876421e+00 -2.84763560e+00j],\n",
       "          ..., \n",
       "          [ -1.55780244e-02 -6.69561798e-02j,\n",
       "             1.07460758e-01 -3.38832115e-03j,\n",
       "             5.17679255e-02 -2.13162900e-02j,\n",
       "             2.16891374e-02 +1.72399798e-02j,\n",
       "            -9.09995960e-04 -3.44364458e-02j,\n",
       "             3.53136544e-02 +7.82167906e-02j],\n",
       "          [  1.16274993e-01 +9.37697941e-02j,\n",
       "            -4.40432760e-02 +1.54711477e-01j,\n",
       "             2.45773066e-02 +4.22811522e-02j,\n",
       "             7.06782145e-02 +2.13913834e-02j,\n",
       "             8.51986733e-02 +5.26217058e-02j,\n",
       "             2.04892469e-02 -2.75048022e-02j],\n",
       "          [ -5.41466799e-02 -2.23752590e-02j,\n",
       "            -2.04028484e-02 -1.51469238e-01j,\n",
       "            -5.67715975e-02 -3.45828326e-02j,\n",
       "            -1.97318781e-02 +2.14190626e-04j,\n",
       "            -1.98324898e-02 +7.98493280e-03j,\n",
       "             3.26016733e-02 -2.77236084e-02j]]],\n",
       "\n",
       "\n",
       "        [[[ -8.27497227e-01 +0.00000000e+00j,\n",
       "            -2.68862076e+00 +0.00000000e+00j,\n",
       "            -2.13408619e+00 +0.00000000e+00j,\n",
       "            -4.07312896e+00 +0.00000000e+00j,\n",
       "            -4.32054916e+00 +0.00000000e+00j,\n",
       "            -4.95664464e+00 +0.00000000e+00j],\n",
       "          [ -1.61952731e+00 -1.75696189e+01j,\n",
       "             6.38671086e+00 -1.32684449e+01j,\n",
       "             6.55432766e+00 -1.57035298e+01j,\n",
       "             5.33589559e+00 -2.43298139e+01j,\n",
       "             6.46995714e+00 -1.89716020e+01j,\n",
       "             7.24298697e+00 -1.55309634e+01j],\n",
       "          [  7.34394966e+00 +1.11470946e+01j,\n",
       "            -1.62467251e+00 +1.24161915e+01j,\n",
       "            -1.52963008e+00 +1.11055978e+01j,\n",
       "             9.66373499e+00 +1.28672461e+01j,\n",
       "             7.75642956e+00 +1.21594226e+01j,\n",
       "             9.19909232e+00 +1.35083855e+01j],\n",
       "          ..., \n",
       "          [ -3.12684965e-02 -3.68454992e-02j,\n",
       "            -8.34455416e-02 +1.47247740e-02j,\n",
       "            -2.49136839e-02 +2.92352534e-02j,\n",
       "             6.07276070e-02 +6.11806222e-02j,\n",
       "            -5.88395810e-02 -6.27039034e-02j,\n",
       "             3.80380450e-02 -1.12614130e-03j],\n",
       "          [  6.36590685e-02 -4.63566379e-02j,\n",
       "             3.13302257e-02 -1.61175921e-03j,\n",
       "             2.72968515e-02 -3.36545328e-02j,\n",
       "            -1.69083989e-03 -1.81158817e-01j,\n",
       "            -7.62073673e-03 +8.87524726e-02j,\n",
       "             9.41078472e-03 -1.70495795e-02j],\n",
       "          [ -6.42389587e-02 +3.55084999e-02j,\n",
       "            -4.88886853e-02 +5.02098278e-02j,\n",
       "            -1.35393566e-02 +1.53910072e-02j,\n",
       "            -3.18133349e-02 +8.40935966e-02j,\n",
       "            -1.99112938e-02 -1.16961349e-02j,\n",
       "             2.75690881e-02 +4.15660216e-02j]]],\n",
       "\n",
       "\n",
       "        ..., \n",
       "        [[[  1.36594548e-01 +0.00000000e+00j,\n",
       "            -6.51525010e-01 +0.00000000e+00j,\n",
       "             1.71194342e+00 +0.00000000e+00j,\n",
       "             1.07763076e+00 +0.00000000e+00j,\n",
       "             8.40649439e-01 +0.00000000e+00j,\n",
       "             3.96423102e-01 +0.00000000e+00j],\n",
       "          [  1.09010298e+01 -2.29183046e+00j,\n",
       "             9.44630125e+00 -7.41578883e+00j,\n",
       "             4.36114509e+00 -7.28820817e+00j,\n",
       "            -9.30321788e-01 -3.77903757e+00j,\n",
       "             5.52140486e-01 -1.58457035e+00j,\n",
       "            -1.68939595e-03 -4.82354022e-01j],\n",
       "          [ -2.45901845e+01 +2.15071051e+01j,\n",
       "            -1.42827384e+01 +1.20502736e+01j,\n",
       "            -1.44137853e+01 +7.77964447e+00j,\n",
       "            -4.29993567e+00 +1.05305503e+01j,\n",
       "            -4.25720938e+00 +5.44427874e+00j,\n",
       "            -3.60290289e+00 +3.65114096e+00j],\n",
       "          ..., \n",
       "          [ -2.50246136e-03 +1.90069208e-02j,\n",
       "             5.58566570e-02 -2.76318406e-02j,\n",
       "             1.65273759e-02 +4.66424277e-02j,\n",
       "             6.30472414e-02 +1.95886739e-02j,\n",
       "            -6.02105237e-03 -1.68571715e-02j,\n",
       "             6.54484954e-03 -1.33957338e-01j],\n",
       "          [  8.93458244e-02 +2.50035642e-02j,\n",
       "             7.53153395e-02 +3.59136163e-02j,\n",
       "            -1.38813677e-02 -1.94720402e-02j,\n",
       "             5.89896413e-02 -3.10418026e-02j,\n",
       "             6.53205740e-02 -7.83668600e-02j,\n",
       "            -2.79344258e-02 +4.55698897e-02j],\n",
       "          [ -7.35727232e-02 -3.43395752e-02j,\n",
       "            -5.39850506e-02 -8.61761564e-02j,\n",
       "            -4.23153467e-02 +7.62363346e-03j,\n",
       "            -7.25048791e-02 -2.81725974e-02j,\n",
       "            -8.08605179e-02 +3.82957711e-02j,\n",
       "             4.70462013e-03 +4.63553968e-02j]]],\n",
       "\n",
       "\n",
       "        [[[  3.31297712e+00 +0.00000000e+00j,\n",
       "            -2.14741027e+00 +0.00000000e+00j,\n",
       "            -2.62562952e+00 +0.00000000e+00j,\n",
       "            -1.95110435e+00 +0.00000000e+00j,\n",
       "            -3.73524025e-01 +0.00000000e+00j,\n",
       "             5.71142374e-01 +0.00000000e+00j],\n",
       "          [ -6.86930687e+00 +1.95861515e+01j,\n",
       "             9.42887459e+00 +1.38218014e+01j,\n",
       "             1.13326027e+01 +1.17018535e+01j,\n",
       "             1.03131934e+01 +1.23094654e+00j,\n",
       "             5.51760534e+00 +2.59222679e+00j,\n",
       "             3.19358533e+00 +1.22971159e+00j],\n",
       "          [  3.55968041e+00 -1.60989511e+01j,\n",
       "            -1.42484899e+01 -9.88342097e+00j,\n",
       "            -1.34904429e+01 -5.30443670e+00j,\n",
       "            -1.13012742e+01 +1.13471950e+00j,\n",
       "            -8.87095200e+00 -9.93966925e-02j,\n",
       "            -6.48706266e+00 +2.34381239e+00j],\n",
       "          ..., \n",
       "          [ -7.94238568e-02 -7.94088365e-03j,\n",
       "            -6.14829065e-02 -3.16512999e-02j,\n",
       "            -4.26620857e-02 -2.94142237e-02j,\n",
       "            -1.71050549e-02 +4.18534767e-02j,\n",
       "            -9.44613957e-02 -1.62988742e-02j,\n",
       "            -3.59019158e-02 -2.34543294e-02j],\n",
       "          [  4.12645608e-02 -9.13069658e-03j,\n",
       "             6.30951133e-02 +2.02425391e-03j,\n",
       "             7.40116751e-02 -1.33718296e-02j,\n",
       "             7.98453818e-02 +3.57458452e-02j,\n",
       "             6.96506063e-02 -5.12421177e-02j,\n",
       "             3.53773056e-02 -9.52248918e-02j],\n",
       "          [ -3.25287567e-02 -8.75344076e-02j,\n",
       "            -4.81696774e-02 -8.51770925e-02j,\n",
       "            -6.81545354e-02 -3.74783480e-02j,\n",
       "            -6.19915921e-02 -1.25558406e-01j,\n",
       "            -4.58811747e-02 -6.06630690e-02j,\n",
       "            -1.51033545e-03 -1.61765570e-02j]]],\n",
       "\n",
       "\n",
       "        [[[  8.70943314e+00 +0.00000000e+00j,\n",
       "             4.51503800e+00 +0.00000000e+00j,\n",
       "             3.77501396e+00 +0.00000000e+00j,\n",
       "             4.10809933e+00 +0.00000000e+00j,\n",
       "             4.45795999e+00 +0.00000000e+00j,\n",
       "             5.04651384e+00 +0.00000000e+00j],\n",
       "          [ -1.61044781e+01 +8.35959364e+00j,\n",
       "            -7.98377101e+00 +7.58207743e+00j,\n",
       "            -6.98502490e+00 +1.91446838e+00j,\n",
       "            -7.18912601e+00 -1.14995040e+00j,\n",
       "            -6.20136458e+00 -3.55387053e+00j,\n",
       "            -6.19042538e+00 -5.11056338e+00j],\n",
       "          [  1.86519774e+00 -2.58616336e+00j,\n",
       "            -1.57148712e+00 +9.38787590e-01j,\n",
       "             1.18436880e+00 -2.63371033e-01j,\n",
       "             1.96287703e+00 -1.00580087e+01j,\n",
       "            -2.24941544e+00 -6.97639957e+00j,\n",
       "            -1.66366316e+00 -8.55971118e+00j],\n",
       "          ..., \n",
       "          [  7.21518847e-03 -7.76027912e-02j,\n",
       "             2.17587527e-02 -6.58529508e-02j,\n",
       "            -1.06587531e-02 -7.32394073e-02j,\n",
       "             3.39335561e-02 -9.68340309e-02j,\n",
       "             1.01811163e-02 -5.20295556e-02j,\n",
       "            -4.99863144e-02 -5.68167225e-02j],\n",
       "          [  5.06442571e-02 +3.39488285e-02j,\n",
       "            -8.85632699e-03 -2.92225391e-03j,\n",
       "             4.18520998e-02 +2.59441354e-02j,\n",
       "            -3.50803522e-02 +8.93451662e-02j,\n",
       "             7.73128590e-02 +1.89333556e-02j,\n",
       "             1.28674432e-01 +5.24682066e-02j],\n",
       "          [ -1.21032622e-01 +1.39690998e-02j,\n",
       "            -6.07229119e-02 +2.41833739e-02j,\n",
       "            -9.43613754e-02 +2.97794074e-02j,\n",
       "            -3.95670685e-02 +1.42191969e-03j,\n",
       "            -2.41055089e-02 +1.72108487e-02j,\n",
       "            -1.15993768e-01 -2.39837845e-02j]]]],\n",
       "\n",
       "\n",
       "\n",
       "       [[[[ -8.47458303e+00 +0.00000000e+00j,\n",
       "            -1.13221209e+01 +0.00000000e+00j,\n",
       "            -1.18299003e+01 +0.00000000e+00j,\n",
       "            -1.34382746e+01 +0.00000000e+00j,\n",
       "            -1.19095645e+01 +0.00000000e+00j,\n",
       "            -9.06513514e+00 +0.00000000e+00j],\n",
       "          [  6.88712962e+00 -1.61105879e+00j,\n",
       "             1.13630312e+01 +6.54782353e+00j,\n",
       "             1.46025934e+01 +9.85723824e+00j,\n",
       "             2.21130321e+01 +1.31290729e+01j,\n",
       "             1.89963458e+01 +1.21332420e+01j,\n",
       "             1.49703616e+01 +1.22911696e+01j],\n",
       "          [  1.69166034e+01 +5.84718756e+00j,\n",
       "             2.55451842e+01 +8.55379627e+00j,\n",
       "             2.12180365e+01 +7.62853457e+00j,\n",
       "             1.00159014e+01 +5.13234373e+00j,\n",
       "             1.15114889e+01 +6.44116086e+00j,\n",
       "             9.07449109e+00 +3.23203830e+00j],\n",
       "          ..., \n",
       "          [  3.24840306e-02 -7.06807346e-02j,\n",
       "             4.34364023e-02 -5.89538755e-04j,\n",
       "             5.49975425e-03 -3.96985407e-02j,\n",
       "            -4.81262000e-02 -5.11109211e-02j,\n",
       "             1.99055370e-02 -3.86291431e-02j,\n",
       "            -1.37000408e-02 -7.10300197e-02j],\n",
       "          [ -2.26352751e-02 +6.57866192e-02j,\n",
       "             1.31472485e-02 -1.50510593e-02j,\n",
       "            -6.45091671e-03 +3.08803280e-02j,\n",
       "            -2.88889383e-02 +1.17442935e-01j,\n",
       "            -2.55760257e-02 +2.09732302e-02j,\n",
       "            -2.44751401e-02 -1.78432993e-02j],\n",
       "          [ -7.11904540e-02 -3.77145803e-02j,\n",
       "            -7.19104925e-02 +9.84839143e-03j,\n",
       "            -7.18616898e-02 -2.12809144e-02j,\n",
       "            -6.70700518e-03 -4.93209492e-02j,\n",
       "            -2.75784128e-03 -5.50767208e-02j,\n",
       "             6.33192478e-02 +6.08257976e-02j]]],\n",
       "\n",
       "\n",
       "        [[[ -1.97029511e+00 +0.00000000e+00j,\n",
       "             5.36169745e-01 +0.00000000e+00j,\n",
       "            -1.85750367e-01 +0.00000000e+00j,\n",
       "             2.28197419e-01 +0.00000000e+00j,\n",
       "            -6.51905600e-01 +0.00000000e+00j,\n",
       "            -1.34258480e+00 +0.00000000e+00j],\n",
       "          [  4.49252871e+00 -3.79026833e+00j,\n",
       "             4.43921581e-01 -1.72255076e+00j,\n",
       "             1.59927930e+00 -5.20768106e+00j,\n",
       "             1.77091943e+00 -9.44381966e+00j,\n",
       "             2.55355789e+00 -3.38268040e+00j,\n",
       "             4.26230808e+00 -2.91399117e+00j],\n",
       "          [ -1.86151034e-01 -1.88599856e+01j,\n",
       "            -3.25001566e+00 -7.88496998e+00j,\n",
       "            -2.23992439e+00 -3.34421915e+00j,\n",
       "            -7.86173302e+00 +4.14513454e+00j,\n",
       "            -5.57177540e+00 +2.17066087e+00j,\n",
       "            -5.27538370e+00 +1.15548932e+00j],\n",
       "          ..., \n",
       "          [  2.43650819e-02 +1.17121088e-02j,\n",
       "             1.48251583e-02 -2.97049995e-02j,\n",
       "             5.04662483e-02 +3.96150645e-03j,\n",
       "             3.55942215e-02 +7.18748059e-02j,\n",
       "             1.05242551e-02 +1.29211520e-01j,\n",
       "             5.83571871e-02 -5.78032299e-02j],\n",
       "          [ -6.84630217e-03 +3.59488809e-02j,\n",
       "            -8.26739207e-03 -1.99207558e-02j,\n",
       "             1.17145718e-03 -1.69453008e-02j,\n",
       "             6.57412186e-02 -6.12273022e-02j,\n",
       "            -4.04521401e-02 -1.49350305e-01j,\n",
       "             1.98259588e-02 +2.57717669e-02j],\n",
       "          [  1.63179020e-02 -2.37879457e-02j,\n",
       "             3.62761734e-02 -9.34602817e-03j,\n",
       "             1.45120067e-02 -1.72651947e-02j,\n",
       "            -7.87428010e-02 -2.64600854e-02j,\n",
       "             5.88534816e-02 +6.65125611e-02j,\n",
       "            -1.62700778e-02 +2.46762216e-02j]]],\n",
       "\n",
       "\n",
       "        [[[ -5.15187287e+00 +0.00000000e+00j,\n",
       "            -4.56507801e+00 +0.00000000e+00j,\n",
       "            -2.73523178e+00 +0.00000000e+00j,\n",
       "            -2.93848160e+00 +0.00000000e+00j,\n",
       "            -2.80929604e+00 +0.00000000e+00j,\n",
       "            -8.85196621e-01 +0.00000000e+00j],\n",
       "          [  1.49850614e+01 -8.94977356e+00j,\n",
       "             1.11253029e+01 -1.81026899e+01j,\n",
       "             7.33509940e+00 -1.65333997e+01j,\n",
       "             6.30948966e+00 -4.21201706e+00j,\n",
       "             6.57493650e+00 -1.31462877e+00j,\n",
       "             4.84040975e+00 +4.08688700e-01j],\n",
       "          [ -1.31737136e+01 +1.00042115e+01j,\n",
       "            -7.61913109e-01 +1.10254915e+01j,\n",
       "             2.38138752e+00 +1.28570393e+01j,\n",
       "             4.01954322e+00 +1.77866237e+01j,\n",
       "             2.30763457e+00 +1.38778455e+01j,\n",
       "             5.88148906e-01 +1.10163942e+01j],\n",
       "          ..., \n",
       "          [ -3.21587567e-02 +2.23558413e-02j,\n",
       "            -3.06647434e-02 +5.16218984e-02j,\n",
       "            -6.52795252e-02 -1.34435194e-02j,\n",
       "            -5.73335032e-02 -2.81180458e-02j,\n",
       "            -7.69824800e-02 -2.07638889e-02j,\n",
       "            -9.18757762e-02 -2.37638000e-02j],\n",
       "          [ -2.61297804e-02 -5.69752471e-02j,\n",
       "            -7.82237855e-02 -8.31017043e-02j,\n",
       "            -5.06336720e-02 -5.92825380e-02j,\n",
       "            -5.92812627e-02 +7.76820336e-02j,\n",
       "            -6.95871285e-02 -6.25432972e-02j,\n",
       "            -4.94456320e-02 -4.17529402e-02j],\n",
       "          [ -5.47857429e-02 +1.26747471e-02j,\n",
       "            -6.70213702e-02 +3.31097999e-02j,\n",
       "            -8.56504575e-02 +2.28479389e-02j,\n",
       "             1.58819695e-02 -1.88661183e-02j,\n",
       "             4.79214658e-03 -1.46255761e-02j,\n",
       "             1.56041636e-02 +6.86710330e-02j]]],\n",
       "\n",
       "\n",
       "        ..., \n",
       "        [[[  1.90586837e+01 +0.00000000e+00j,\n",
       "             1.13970781e+01 +0.00000000e+00j,\n",
       "             1.17287984e+01 +0.00000000e+00j,\n",
       "             6.66256313e+00 +0.00000000e+00j,\n",
       "             3.31689620e+00 +0.00000000e+00j,\n",
       "             1.36525896e+00 +0.00000000e+00j],\n",
       "          [ -3.58483369e+01 +4.42321675e+00j,\n",
       "            -2.27098103e+01 +8.04342837e+00j,\n",
       "            -2.31951507e+01 -2.14669005e-01j,\n",
       "            -1.23812098e+01 +4.46782617e-01j,\n",
       "            -5.45126468e+00 -1.83091470e+00j,\n",
       "            -1.04684469e+00 -3.77703866e+00j],\n",
       "          [  4.54178660e-01 +2.13790033e+00j,\n",
       "             1.98707562e+00 +1.76793817e+00j,\n",
       "             9.84638697e-01 +7.96987533e+00j,\n",
       "            -1.76012472e+00 +3.56529597e+00j,\n",
       "            -2.71492785e+00 +8.21275708e-01j,\n",
       "            -3.93364470e+00 -8.82626166e-01j],\n",
       "          ..., \n",
       "          [  4.13939062e-03 -4.65193208e-02j,\n",
       "            -6.94932020e-02 +7.56281210e-02j,\n",
       "            -5.07451654e-02 -6.31388919e-02j,\n",
       "            -3.32347038e-02 -1.46130389e-01j,\n",
       "             4.90668018e-02 -9.37301838e-02j,\n",
       "            -3.47212239e-02 +1.27374296e-02j],\n",
       "          [  4.08768706e-02 -3.44859822e-02j,\n",
       "             8.27725787e-02 -4.77632321e-02j,\n",
       "             7.95988829e-02 +6.34846323e-03j,\n",
       "             4.97101571e-02 +7.37010198e-02j,\n",
       "             4.14309375e-02 +2.47102717e-02j,\n",
       "            -5.40155764e-02 -4.27467937e-02j],\n",
       "          [  3.59023911e-03 +3.07962048e-02j,\n",
       "             7.57344765e-03 +2.59618202e-02j,\n",
       "            -2.73551091e-02 +7.24008978e-03j,\n",
       "             5.06615541e-02 -5.18489768e-02j,\n",
       "             2.20573990e-03 -6.29616005e-02j,\n",
       "             1.58671221e-01 +2.56099815e-02j]]],\n",
       "\n",
       "\n",
       "        [[[ -5.46400791e+00 +0.00000000e+00j,\n",
       "             3.73523075e-01 +0.00000000e+00j,\n",
       "             2.20919588e+00 +0.00000000e+00j,\n",
       "             3.49510486e-01 +0.00000000e+00j,\n",
       "            -7.97333741e-01 +0.00000000e+00j,\n",
       "            -1.82016808e+00 +0.00000000e+00j],\n",
       "          [  1.03570005e+01 -1.24806551e+00j,\n",
       "            -1.96926113e+00 +1.70561299e+00j,\n",
       "            -5.37871520e+00 +5.91079040e+00j,\n",
       "             3.65305122e+00 -7.64044807e+00j,\n",
       "             4.87303139e+00 -8.66481306e+00j,\n",
       "             8.00941484e+00 -9.44384591e+00j],\n",
       "          [ -5.33314470e+00 +8.18102304e+00j,\n",
       "            -8.61272524e-01 -1.80858348e+00j,\n",
       "            -2.29843308e+00 -3.44251761e+00j,\n",
       "            -1.69234029e+01 +8.14815429e+00j,\n",
       "            -1.39560516e+01 +5.51823334e+00j,\n",
       "            -1.69166996e+01 +3.24728714e+00j],\n",
       "          ..., \n",
       "          [  4.95662361e-03 -5.54771609e-02j,\n",
       "             3.63165807e-02 -3.40895712e-02j,\n",
       "             1.70121326e-02 -7.60453122e-02j,\n",
       "            -6.22820445e-02 -1.42561084e-02j,\n",
       "             9.33784223e-03 -6.32002461e-02j,\n",
       "            -3.80217210e-02 -6.16270929e-02j],\n",
       "          [  4.75399019e-02 +9.05802059e-02j,\n",
       "             3.41385172e-02 +1.18124391e-01j,\n",
       "             3.67452940e-02 +9.52480638e-02j,\n",
       "            -3.28722310e-02 +3.37130623e-02j,\n",
       "             8.31994911e-02 +8.42583607e-02j,\n",
       "             4.43102177e-02 +4.31379750e-02j],\n",
       "          [  3.73330166e-04 -1.15348593e-02j,\n",
       "            -3.34993726e-03 -4.15408120e-02j,\n",
       "             6.03387256e-03 -2.79116719e-02j,\n",
       "            -4.25740992e-02 +1.09407755e-03j,\n",
       "            -1.39430287e-02 -2.44575185e-03j,\n",
       "            -5.37188326e-02 -5.62756176e-02j]]],\n",
       "\n",
       "\n",
       "        [[[  6.74135056e+00 +0.00000000e+00j,\n",
       "             7.25792853e+00 +0.00000000e+00j,\n",
       "             7.81506286e+00 +0.00000000e+00j,\n",
       "             2.78570801e+00 +0.00000000e+00j,\n",
       "             2.38438693e+00 +0.00000000e+00j,\n",
       "             6.48906747e-01 +0.00000000e+00j],\n",
       "          [ -1.45942920e+01 +9.10335237e+00j,\n",
       "            -1.23819140e+01 +6.29835046e+00j,\n",
       "            -1.31656689e+01 -1.60214247e-01j,\n",
       "            -2.81413959e+00 -3.42071904e+00j,\n",
       "            -2.85634090e+00 -7.73465829e-01j,\n",
       "             9.57540485e-03 +6.65608478e-02j],\n",
       "          [  6.87185779e+00 -9.13998086e+00j,\n",
       "            -3.76949139e+00 -5.75704389e+00j,\n",
       "            -2.36130971e+00 -1.43670404e+00j,\n",
       "             1.41339556e+00 -5.39295554e+00j,\n",
       "             9.96813764e-01 -5.32555476e+00j,\n",
       "             2.46363237e+00 -3.62487923e+00j],\n",
       "          ..., \n",
       "          [ -3.62283576e-02 -9.08941926e-03j,\n",
       "            -7.89435486e-02 -3.81156001e-03j,\n",
       "            -1.60679691e-02 +5.30036501e-04j,\n",
       "            -2.04096095e-02 +6.02325741e-02j,\n",
       "            -1.18867966e-02 +4.05366645e-02j,\n",
       "            -2.58739305e-02 -1.91471366e-02j],\n",
       "          [  5.17724233e-02 +3.45802753e-02j,\n",
       "             6.69425345e-02 +8.90065395e-02j,\n",
       "             5.39926010e-02 +1.92425210e-02j,\n",
       "             8.77415698e-02 -8.33013879e-02j,\n",
       "             4.14831935e-02 +8.61900494e-03j,\n",
       "            -1.27531836e-02 -4.72798935e-02j],\n",
       "          [ -5.03700878e-02 -6.77876541e-03j,\n",
       "            -2.33903864e-02 -2.79800751e-02j,\n",
       "            -2.73680897e-02 +3.05558664e-02j,\n",
       "             6.91633902e-02 +4.30382737e-02j,\n",
       "            -4.51409525e-02 -4.17299030e-03j,\n",
       "             2.24516097e-02 +5.24496870e-02j]]]]])"
      ]
     },
     "execution_count": 22,
     "metadata": {},
     "output_type": "execute_result"
    }
   ],
   "source": [
    "fourier_coefficients[..., np.in1d(group_labels, label)]"
   ]
  },
  {
   "cell_type": "markdown",
   "metadata": {},
   "source": [
    "Check reshaping the fourier coefficients make sense"
   ]
  },
  {
   "cell_type": "code",
   "execution_count": 24,
   "metadata": {},
   "outputs": [
    {
     "name": "stdout",
     "output_type": "stream",
     "text": [
      "(3, 219, 1, 375, 6)\n",
      "(3, 375, 6, 219)\n"
     ]
    }
   ],
   "source": [
    "from src.spectral.connectivity import _reshape\n",
    "\n",
    "f = fourier_coefficients[..., np.in1d(group_labels, label)]\n",
    "print(f.shape)\n",
    "print(_reshape(f).shape)"
   ]
  },
  {
   "cell_type": "markdown",
   "metadata": {},
   "source": [
    "It seems like there are lot of NaNs and this is the reason for the non-converngence"
   ]
  },
  {
   "cell_type": "code",
   "execution_count": 27,
   "metadata": {},
   "outputs": [
    {
     "name": "stdout",
     "output_type": "stream",
     "text": [
      "1478250\n",
      "4500\n"
     ]
    }
   ],
   "source": [
    "print(f.size)\n",
    "print(np.isnan(f).sum())"
   ]
  },
  {
   "cell_type": "markdown",
   "metadata": {},
   "source": [
    "Let's try dropping the ripples with NaNs"
   ]
  },
  {
   "cell_type": "code",
   "execution_count": 30,
   "metadata": {},
   "outputs": [
    {
     "data": {
      "text/plain": [
       "<class 'pandas.core.panel.Panel'>\n",
       "Dimensions: 20 (items) x 2251 (major_axis) x 219 (minor_axis)\n",
       "Items axis: (HPc, 4, 4, 1) to (HPc, 4, 4, 22)\n",
       "Major_axis axis: -1.0 to 0.5\n",
       "Minor_axis axis: (1, 9611.76533333, 9611.802, electric_potential) to (219, 10843.1706667, 10843.2133333, electric_potential)"
      ]
     },
     "execution_count": 30,
     "metadata": {},
     "output_type": "execute_result"
    }
   ],
   "source": [
    "ripple_locked_lfps"
   ]
  },
  {
   "cell_type": "code",
   "execution_count": 33,
   "metadata": {},
   "outputs": [
    {
     "data": {
      "text/plain": [
       "<class 'pandas.core.panel.Panel'>\n",
       "Dimensions: 20 (items) x 2251 (major_axis) x 218 (minor_axis)\n",
       "Items axis: (HPc, 4, 4, 1) to (HPc, 4, 4, 22)\n",
       "Major_axis axis: -1.0 to 0.5\n",
       "Minor_axis axis: (2, 9613.87933333, 9613.93066667, electric_potential) to (219, 10843.1706667, 10843.2133333, electric_potential)"
      ]
     },
     "execution_count": 33,
     "metadata": {},
     "output_type": "execute_result"
    }
   ],
   "source": [
    "ripple_locked_lfps.dropna(axis=2)"
   ]
  },
  {
   "cell_type": "markdown",
   "metadata": {},
   "source": [
    "Now we test if the canonical coherence works"
   ]
  },
  {
   "cell_type": "code",
   "execution_count": 45,
   "metadata": {},
   "outputs": [],
   "source": [
    "m1 = Multitaper(\n",
    "    np.rollaxis(ripple_locked_lfps.dropna(axis=2).values, 0, 3),\n",
    "    **params,\n",
    "    start_time=ripple_locked_lfps.major_axis.min())\n",
    "c1 = Connectivity.from_multitaper(m1)\n",
    "\n",
    "canonical_coherence, area_labels = c1.canonical_coherence(\n",
    "        tetrode_info.area.tolist())"
   ]
  },
  {
   "cell_type": "code",
   "execution_count": 46,
   "metadata": {},
   "outputs": [
    {
     "data": {
      "text/plain": [
       "array(['CA1', 'Ctx', 'PFC'], \n",
       "      dtype='<U3')"
      ]
     },
     "execution_count": 46,
     "metadata": {},
     "output_type": "execute_result"
    }
   ],
   "source": [
    "area_labels"
   ]
  },
  {
   "cell_type": "code",
   "execution_count": 47,
   "metadata": {},
   "outputs": [
    {
     "data": {
      "text/plain": [
       "(3, 375, 3, 3)"
      ]
     },
     "execution_count": 47,
     "metadata": {},
     "output_type": "execute_result"
    }
   ],
   "source": [
    "canonical_coherence.shape"
   ]
  },
  {
   "cell_type": "markdown",
   "metadata": {},
   "source": [
    "Now that we know it works, we want to figure out why there were so many NaNs for those particular ripples"
   ]
  },
  {
   "cell_type": "code",
   "execution_count": 88,
   "metadata": {},
   "outputs": [],
   "source": [
    "bad_ripple = np.isnan(ripple_locked_lfps.values)"
   ]
  },
  {
   "cell_type": "markdown",
   "metadata": {},
   "source": [
    "It seems like the culprit is the first ripple"
   ]
  },
  {
   "cell_type": "code",
   "execution_count": 95,
   "metadata": {},
   "outputs": [
    {
     "data": {
      "text/plain": [
       "array([ True, False, False, False, False, False, False, False, False,\n",
       "       False, False, False, False, False, False, False, False, False,\n",
       "       False, False, False, False, False, False, False, False, False,\n",
       "       False, False, False, False, False, False, False, False, False,\n",
       "       False, False, False, False, False, False, False, False, False,\n",
       "       False, False, False, False, False, False, False, False, False,\n",
       "       False, False, False, False, False, False, False, False, False,\n",
       "       False, False, False, False, False, False, False, False, False,\n",
       "       False, False, False, False, False, False, False, False, False,\n",
       "       False, False, False, False, False, False, False, False, False,\n",
       "       False, False, False, False, False, False, False, False, False,\n",
       "       False, False, False, False, False, False, False, False, False,\n",
       "       False, False, False, False, False, False, False, False, False,\n",
       "       False, False, False, False, False, False, False, False, False,\n",
       "       False, False, False, False, False, False, False, False, False,\n",
       "       False, False, False, False, False, False, False, False, False,\n",
       "       False, False, False, False, False, False, False, False, False,\n",
       "       False, False, False, False, False, False, False, False, False,\n",
       "       False, False, False, False, False, False, False, False, False,\n",
       "       False, False, False, False, False, False, False, False, False,\n",
       "       False, False, False, False, False, False, False, False, False,\n",
       "       False, False, False, False, False, False, False, False, False,\n",
       "       False, False, False, False, False, False, False, False, False,\n",
       "       False, False, False, False, False, False, False, False, False,\n",
       "       False, False, False], dtype=bool)"
      ]
     },
     "execution_count": 95,
     "metadata": {},
     "output_type": "execute_result"
    }
   ],
   "source": [
    "np.any(np.any(bad_ripple, axis=0), axis=0)"
   ]
  },
  {
   "cell_type": "markdown",
   "metadata": {},
   "source": [
    "The first ripple starts within 1 second of the start of the recording session. Here's the start of the session."
   ]
  },
  {
   "cell_type": "code",
   "execution_count": 106,
   "metadata": {},
   "outputs": [
    {
     "data": {
      "text/plain": [
       "9611.482"
      ]
     },
     "execution_count": 106,
     "metadata": {},
     "output_type": "execute_result"
    }
   ],
   "source": [
    "lfps[('HPc', 4, 4, 14)].index[0]"
   ]
  },
  {
   "cell_type": "markdown",
   "metadata": {},
   "source": [
    "And this is the first detected ripple"
   ]
  },
  {
   "cell_type": "code",
   "execution_count": 101,
   "metadata": {},
   "outputs": [
    {
     "data": {
      "text/plain": [
       "(9611.7653333333328, 9611.8019999999997)"
      ]
     },
     "execution_count": 101,
     "metadata": {},
     "output_type": "execute_result"
    }
   ],
   "source": [
    "ripple_times[0]"
   ]
  },
  {
   "cell_type": "markdown",
   "metadata": {},
   "source": [
    "All the NaNs occur at the beginning"
   ]
  },
  {
   "cell_type": "code",
   "execution_count": 115,
   "metadata": {},
   "outputs": [
    {
     "data": {
      "image/png": "[encoded data removed]",
      "text/plain": [
       "<matplotlib.figure.Figure at 0x7f1a868e5860>"
      ]
     },
     "metadata": {},
     "output_type": "display_data"
    }
   ],
   "source": [
    "%matplotlib inline\n",
    "import matplotlib.pyplot as plt \n",
    "\n",
    "plt.plot(ripple_locked_lfps.major_axis, bad_ripple[:, :, 0].sum(axis=0));"
   ]
  },
  {
   "cell_type": "code",
   "execution_count": null,
   "metadata": {
    "collapsed": true
   },
   "outputs": [],
   "source": []
  }
 ],
 "metadata": {
  "anaconda-cloud": {},
  "kernelspec": {
   "display_name": "Python [default]",
   "language": "python",
   "name": "python3"
  },
  "language_info": {
   "codemirror_mode": {
    "name": "ipython",
    "version": 3
   },
   "file_extension": ".py",
   "mimetype": "text/x-python",
   "name": "python",
   "nbconvert_exporter": "python",
   "pygments_lexer": "ipython3",
   "version": "3.5.3"
  }
 },
 "nbformat": 4,
 "nbformat_minor": 2
}
