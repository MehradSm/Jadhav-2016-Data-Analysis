{
 "cells": [
  {
   "cell_type": "code",
   "execution_count": 1,
   "metadata": {
    "collapsed": true
   },
   "outputs": [],
   "source": [
    "%matplotlib inline\n",
    "%reload_ext autoreload\n",
    "%reload_ext line_profiler\n",
    "%load_ext snakeviz\n",
    "%autoreload 2\n",
    "%qtconsole"
   ]
  },
  {
   "cell_type": "code",
   "execution_count": 2,
   "metadata": {
    "collapsed": true
   },
   "outputs": [],
   "source": [
    "import numpy as np\n",
    "import matplotlib.pyplot as plt\n",
    "import seaborn as sns\n",
    "\n",
    "from src.spectral.transforms import Multitaper\n",
    "from src.spectral.connectivity import Connectivity"
   ]
  },
  {
   "cell_type": "code",
   "execution_count": 3,
   "metadata": {
    "collapsed": true
   },
   "outputs": [],
   "source": [
    "def simulate_MVAR(coefficients, noise_covariance=None, n_time_samples=100,\n",
    "                  n_trials=1, n_burnin_samples=100):\n",
    "    '''\n",
    "    Parameters\n",
    "    ----------\n",
    "    coefficients : array, shape (n_time_samples, n_lags, n_signals, n_signals)\n",
    "    noise_covariance : array, shape (n_signals, n_signals)\n",
    "    \n",
    "    Returns\n",
    "    -------\n",
    "    time_series : array, shape (n_time_samples - n_burnin_samples,\n",
    "                                n_trials, n_signals)\n",
    "\n",
    "    '''\n",
    "    n_lags, n_signals, _ = coefficients.shape\n",
    "    if noise_covariance is None:\n",
    "        noise_covariance = np.eye(n_signals)\n",
    "    time_series = np.random.multivariate_normal(\n",
    "        np.zeros((n_signals,)), noise_covariance,\n",
    "        size=(n_time_samples + n_burnin_samples, n_trials))\n",
    "    \n",
    "    for time_ind in np.arange(n_lags, n_time_samples + n_burnin_samples):\n",
    "        for lag_ind in np.arange(n_lags):\n",
    "            time_series[time_ind, ...] += np.matmul(\n",
    "                coefficients[np.newaxis, np.newaxis, lag_ind, ...],\n",
    "                time_series[time_ind - (lag_ind + 1), ..., np.newaxis]).squeeze()\n",
    "    return time_series[n_burnin_samples:, ...]"
   ]
  },
  {
   "cell_type": "code",
   "execution_count": 8,
   "metadata": {
    "collapsed": true
   },
   "outputs": [],
   "source": [
    "def baccala_example4():\n",
    "    '''Baccalá, L.A., and Sameshima, K. (2001). Partial directed coherence:\n",
    "    a new concept in neural structure determination. Biological\n",
    "    Cybernetics 84, 463–474.\n",
    "    '''\n",
    "    sampling_frequency = 200\n",
    "    n_time_samples, n_lags, n_signals = 3000, 2, 5\n",
    "    coefficients = np.zeros((n_lags, n_signals, n_signals))\n",
    "\n",
    "    coefficients[0, 0, 0] = 0.95 * np.sqrt(2)\n",
    "    coefficients[1, 0, 0] = -0.9025\n",
    "    coefficients[0, 1, 0] = -0.50\n",
    "    coefficients[1, 2, 1] = 0.40\n",
    "    coefficients[0, 3, 2] = -0.50\n",
    "    coefficients[0, 3, 3] = 0.25 * np.sqrt(2)\n",
    "    coefficients[0, 3, 4] = 0.25 * np.sqrt(2)\n",
    "    coefficients[0, 4, 3] = -0.25 * np.sqrt(2)\n",
    "    coefficients[0, 4, 4] = 0.25 * np.sqrt(2)\n",
    "\n",
    "    noise_covariance = None\n",
    "\n",
    "    return simulate_MVAR(\n",
    "        coefficients, noise_covariance=noise_covariance, n_time_samples=n_time_samples,\n",
    "        n_trials=500, n_burnin_samples=500), sampling_frequency"
   ]
  },
  {
   "cell_type": "code",
   "execution_count": 9,
   "metadata": {
    "collapsed": true
   },
   "outputs": [],
   "source": [
    "time_series, sampling_frequency = baccala_example4()\n",
    "time_halfbandwidth_product = 2\n",
    "\n",
    "m = Multitaper(time_series,\n",
    "               sampling_frequency=sampling_frequency,\n",
    "               time_halfbandwidth_product=time_halfbandwidth_product,\n",
    "               start_time=0)\n",
    "c = Connectivity.from_multitaper(m)"
   ]
  },
  {
   "cell_type": "code",
   "execution_count": 10,
   "metadata": {},
   "outputs": [
    {
     "name": "stdout",
     "output_type": "stream",
     "text": [
      "(1, 500, 3, 3000, 5)\n",
      "(1, 500, 3, 3000, 5, 5)\n",
      "(1, 3000, 5, 5)\n"
     ]
    }
   ],
   "source": [
    "from src.spectral.minimum_phase_decomposition import minimum_phase_decomposition\n",
    "fourier_coefficients = c.fourier_coefficients\n",
    "cross_spectral_matrix = c._cross_spectral_matrix\n",
    "expected_cross_spectral_matrix = c._expectation(cross_spectral_matrix)\n",
    "\n",
    "print(fourier_coefficients.shape)\n",
    "print(cross_spectral_matrix.shape)\n",
    "print(expected_cross_spectral_matrix.shape)"
   ]
  },
  {
   "cell_type": "code",
   "execution_count": 11,
   "metadata": {},
   "outputs": [
    {
     "name": "stdout",
     "output_type": "stream",
     "text": [
      " \n",
      "*** Profile stats marshalled to file '/var/folders/rt/nhwr2l2937n0f8g854zq3s6w0000gn/T/tmpkc1vshzr'. \n"
     ]
    }
   ],
   "source": [
    "%%snakeviz\n",
    "minimum_phase_factor = minimum_phase_decomposition(expected_cross_spectral_matrix)"
   ]
  },
  {
   "cell_type": "code",
   "execution_count": 20,
   "metadata": {
    "collapsed": true
   },
   "outputs": [],
   "source": [
    "from src.spectral.minimum_phase_decomposition import _get_intial_conditions, _get_linear_predictor, _get_causal_signal\n",
    "\n",
    "n_time_points = expected_cross_spectral_matrix.shape[0]\n",
    "n_signals = expected_cross_spectral_matrix.shape[-1]\n",
    "I = np.eye(n_signals)\n",
    "is_converged = np.zeros(n_time_points, dtype=bool)\n",
    "minimum_phase_factor = np.zeros(expected_cross_spectral_matrix.shape)\n",
    "minimum_phase_factor[..., :, :, :] = _get_intial_conditions(\n",
    "    expected_cross_spectral_matrix)"
   ]
  },
  {
   "cell_type": "code",
   "execution_count": 21,
   "metadata": {},
   "outputs": [
    {
     "data": {
      "text/plain": [
       "(1, 3000, 5, 5)"
      ]
     },
     "execution_count": 21,
     "metadata": {},
     "output_type": "execute_result"
    }
   ],
   "source": [
    "minimum_phase_factor.shape"
   ]
  },
  {
   "cell_type": "code",
   "execution_count": 22,
   "metadata": {
    "collapsed": true
   },
   "outputs": [],
   "source": [
    "iteration = 0"
   ]
  },
  {
   "cell_type": "code",
   "execution_count": 24,
   "metadata": {
    "collapsed": true
   },
   "outputs": [],
   "source": [
    "old_minimum_phase_factor = minimum_phase_factor.copy()\n",
    "linear_predictor = _get_linear_predictor(\n",
    "    minimum_phase_factor, expected_cross_spectral_matrix, I)"
   ]
  },
  {
   "cell_type": "code",
   "execution_count": 25,
   "metadata": {},
   "outputs": [
    {
     "data": {
      "text/plain": [
       "(1, 3000, 5, 5)"
      ]
     },
     "execution_count": 25,
     "metadata": {},
     "output_type": "execute_result"
    }
   ],
   "source": [
    "linear_predictor.shape"
   ]
  },
  {
   "cell_type": "code",
   "execution_count": 27,
   "metadata": {},
   "outputs": [
    {
     "data": {
      "text/plain": [
       "array([[[ 1.16524030 +0.00000000e+00j, -0.07732229 +0.00000000e+00j,\n",
       "         -0.15809898 +0.00000000e+00j,  0.16823778 +0.00000000e+00j,\n",
       "         -0.03468379 +0.00000000e+00j],\n",
       "        [-0.07732229 +0.00000000e+00j,  1.45478822 +0.00000000e+00j,\n",
       "          0.17067192 +0.00000000e+00j, -0.11268733 +0.00000000e+00j,\n",
       "          0.11759439 +0.00000000e+00j],\n",
       "        [-0.15809898 +0.00000000e+00j,  0.17067192 +0.00000000e+00j,\n",
       "          1.64488043 +0.00000000e+00j, -0.29674803 +0.00000000e+00j,\n",
       "          0.18882200 +0.00000000e+00j],\n",
       "        [ 0.16823778 +0.00000000e+00j, -0.11268733 +0.00000000e+00j,\n",
       "         -0.29674803 +0.00000000e+00j,  1.90260400 +0.00000000e+00j,\n",
       "         -0.07378509 +0.00000000e+00j],\n",
       "        [-0.03468379 +0.00000000e+00j,  0.11759439 +0.00000000e+00j,\n",
       "          0.18882200 +0.00000000e+00j, -0.07378509 +0.00000000e+00j,\n",
       "          1.90131507 +0.00000000e+00j]],\n",
       "\n",
       "       [[ 1.17656884 +9.35758708e-19j, -0.08048302 -1.45945151e-02j,\n",
       "         -0.17868577 -9.83297215e-03j,  0.17337113 +7.76833807e-03j,\n",
       "         -0.03647455 -1.19364209e-02j],\n",
       "        [-0.08048302 +1.45945151e-02j,  1.45215668 -5.00433398e-19j,\n",
       "          0.18018856 -1.57030016e-02j, -0.10902757 -4.28581399e-03j,\n",
       "          0.12337212 -1.06958294e-03j],\n",
       "        [-0.17868577 +9.83297215e-03j,  0.18018856 +1.57030016e-02j,\n",
       "          1.68013994 -4.12485396e-20j, -0.32612591 -4.37294494e-03j,\n",
       "          0.20012255 -5.92401884e-03j],\n",
       "        [ 0.17337113 -7.76833807e-03j, -0.10902757 +4.28581399e-03j,\n",
       "         -0.32612591 +4.37294494e-03j,  1.93808369 -1.45603534e-19j,\n",
       "         -0.07423129 -3.34781264e-02j],\n",
       "        [-0.03647455 +1.19364209e-02j,  0.12337212 +1.06958294e-03j,\n",
       "          0.20012255 +5.92401884e-03j, -0.07423129 +3.34781264e-02j,\n",
       "          1.88556579 +0.00000000e+00j]],\n",
       "\n",
       "       [[ 1.24128117 -9.35758708e-19j, -0.10758501 -1.51984402e-02j,\n",
       "         -0.24940258 -1.52268321e-02j,  0.24076346 +6.99460657e-03j,\n",
       "         -0.05611032 -1.81217081e-02j],\n",
       "        [-0.10758501 +1.51984402e-02j,  1.62609526 +5.00433398e-19j,\n",
       "          0.24644776 -1.22920844e-02j, -0.16068554 -1.04218902e-02j,\n",
       "          0.16691338 -1.46531220e-03j],\n",
       "        [-0.24940258 +1.52268321e-02j,  0.24644776 +1.22920844e-02j,\n",
       "          1.94335562 +0.00000000e+00j, -0.45365010 +9.31134814e-03j,\n",
       "          0.29559514 +4.44791744e-03j],\n",
       "        [ 0.24076346 -6.99460657e-03j, -0.16068554 +1.04218902e-02j,\n",
       "         -0.45365010 -9.31134814e-03j,  2.29146736 +0.00000000e+00j,\n",
       "         -0.11497856 -4.84715354e-02j],\n",
       "        [-0.05611032 +1.81217081e-02j,  0.16691338 +1.46531220e-03j,\n",
       "          0.29559514 -4.44791744e-03j, -0.11497856 +4.84715354e-02j,\n",
       "          2.27202189 +0.00000000e+00j]],\n",
       "\n",
       "       ..., \n",
       "       [[ 1.25016673 -9.35758708e-19j, -0.11186896 +1.04230176e-02j,\n",
       "         -0.26124515 +6.71352829e-03j,  0.24220724 -1.45567057e-02j,\n",
       "         -0.07130130 +1.49901086e-02j],\n",
       "        [-0.11186896 -1.04230176e-02j,  1.64814893 +1.00086680e-18j,\n",
       "          0.26480911 +2.25826719e-02j, -0.15366522 +1.78698758e-02j,\n",
       "          0.16848447 -1.65857909e-03j],\n",
       "        [-0.26124515 -6.71352829e-03j,  0.26480911 -2.25826719e-02j,\n",
       "          1.96626526 +2.06242698e-20j, -0.47601000 +2.21392999e-03j,\n",
       "          0.32555677 +6.79823113e-03j],\n",
       "        [ 0.24220724 +1.45567057e-02j, -0.15366522 -1.78698758e-02j,\n",
       "         -0.47601000 -2.21392999e-03j,  2.35562137 +0.00000000e+00j,\n",
       "         -0.11584860 +5.09672324e-02j],\n",
       "        [-0.07130130 -1.49901086e-02j,  0.16848447 +1.65857909e-03j,\n",
       "          0.32555677 -6.79823113e-03j, -0.11584860 -5.09672324e-02j,\n",
       "          2.34844542 +0.00000000e+00j]],\n",
       "\n",
       "       [[ 1.24128117 +9.35758708e-19j, -0.10758501 +1.51984402e-02j,\n",
       "         -0.24940258 +1.52268321e-02j,  0.24076346 -6.99460657e-03j,\n",
       "         -0.05611032 +1.81217081e-02j],\n",
       "        [-0.10758501 -1.51984402e-02j,  1.62609526 -5.00433398e-19j,\n",
       "          0.24644776 +1.22920844e-02j, -0.16068554 +1.04218902e-02j,\n",
       "          0.16691338 +1.46531220e-03j],\n",
       "        [-0.24940258 -1.52268321e-02j,  0.24644776 -1.22920844e-02j,\n",
       "          1.94335562 +0.00000000e+00j, -0.45365010 -9.31134814e-03j,\n",
       "          0.29559514 -4.44791744e-03j],\n",
       "        [ 0.24076346 +6.99460657e-03j, -0.16068554 -1.04218902e-02j,\n",
       "         -0.45365010 +9.31134814e-03j,  2.29146736 +0.00000000e+00j,\n",
       "         -0.11497856 +4.84715354e-02j],\n",
       "        [-0.05611032 -1.81217081e-02j,  0.16691338 -1.46531220e-03j,\n",
       "          0.29559514 +4.44791744e-03j, -0.11497856 -4.84715354e-02j,\n",
       "          2.27202189 +0.00000000e+00j]],\n",
       "\n",
       "       [[ 1.17656884 -9.35758708e-19j, -0.08048302 +1.45945151e-02j,\n",
       "         -0.17868577 +9.83297215e-03j,  0.17337113 -7.76833807e-03j,\n",
       "         -0.03647455 +1.19364209e-02j],\n",
       "        [-0.08048302 -1.45945151e-02j,  1.45215668 +5.00433398e-19j,\n",
       "          0.18018856 +1.57030016e-02j, -0.10902757 +4.28581399e-03j,\n",
       "          0.12337212 +1.06958294e-03j],\n",
       "        [-0.17868577 -9.83297215e-03j,  0.18018856 -1.57030016e-02j,\n",
       "          1.68013994 +4.12485396e-20j, -0.32612591 +4.37294494e-03j,\n",
       "          0.20012255 +5.92401884e-03j],\n",
       "        [ 0.17337113 +7.76833807e-03j, -0.10902757 -4.28581399e-03j,\n",
       "         -0.32612591 -4.37294494e-03j,  1.93808369 +1.45603534e-19j,\n",
       "         -0.07423129 +3.34781264e-02j],\n",
       "        [-0.03647455 -1.19364209e-02j,  0.12337212 -1.06958294e-03j,\n",
       "          0.20012255 -5.92401884e-03j, -0.07423129 -3.34781264e-02j,\n",
       "          1.88556579 +0.00000000e+00j]]])"
      ]
     },
     "execution_count": 27,
     "metadata": {},
     "output_type": "execute_result"
    }
   ],
   "source": [
    "linear_predictor.squeeze()"
   ]
  },
  {
   "cell_type": "code",
   "execution_count": 28,
   "metadata": {
    "collapsed": true
   },
   "outputs": [],
   "source": [
    "causal_signal = _get_causal_signal(linear_predictor)"
   ]
  },
  {
   "cell_type": "code",
   "execution_count": 29,
   "metadata": {},
   "outputs": [
    {
     "data": {
      "text/plain": [
       "(1, 3000, 5, 5)"
      ]
     },
     "execution_count": 29,
     "metadata": {},
     "output_type": "execute_result"
    }
   ],
   "source": [
    "causal_signal.shape"
   ]
  },
  {
   "cell_type": "code",
   "execution_count": 39,
   "metadata": {},
   "outputs": [
    {
     "name": "stdout",
     "output_type": "stream",
     "text": [
      "10.3 ms ± 1.31 ms per loop (mean ± std. dev. of 7 runs, 100 loops each)\n"
     ]
    }
   ],
   "source": [
    "%timeit np.matmul(minimum_phase_factor, _get_causal_signal(linear_predictor))"
   ]
  },
  {
   "cell_type": "code",
   "execution_count": 40,
   "metadata": {},
   "outputs": [
    {
     "name": "stdout",
     "output_type": "stream",
     "text": [
      "8.73 ms ± 242 µs per loop (mean ± std. dev. of 7 runs, 100 loops each)\n"
     ]
    }
   ],
   "source": [
    "%timeit np.matmul(minimum_phase_factor.squeeze(), _get_causal_signal(linear_predictor).squeeze())"
   ]
  },
  {
   "cell_type": "code",
   "execution_count": 38,
   "metadata": {},
   "outputs": [
    {
     "name": "stdout",
     "output_type": "stream",
     "text": [
      "5.19 ms ± 122 µs per loop (mean ± std. dev. of 7 runs, 100 loops each)\n"
     ]
    }
   ],
   "source": [
    "%timeit np.matmul(minimum_phase_factor, causal_signal)"
   ]
  },
  {
   "cell_type": "code",
   "execution_count": 37,
   "metadata": {},
   "outputs": [
    {
     "name": "stdout",
     "output_type": "stream",
     "text": [
      "5.06 ms ± 147 µs per loop (mean ± std. dev. of 7 runs, 100 loops each)\n"
     ]
    }
   ],
   "source": [
    "%timeit np.matmul(minimum_phase_factor.squeeze(), causal_signal.squeeze())"
   ]
  },
  {
   "cell_type": "code",
   "execution_count": 42,
   "metadata": {},
   "outputs": [
    {
     "data": {
      "text/plain": [
       "array([ True, False, False, False], dtype=bool)"
      ]
     },
     "execution_count": 42,
     "metadata": {},
     "output_type": "execute_result"
    }
   ],
   "source": [
    "np.array(minimum_phase_factor.shape) == 1"
   ]
  },
  {
   "cell_type": "code",
   "execution_count": 55,
   "metadata": {
    "collapsed": true
   },
   "outputs": [],
   "source": [
    "import dask.array as da\n",
    "\n",
    "e = da.from_array(expected_cross_spectral_matrix, chunks=(1000))"
   ]
  },
  {
   "cell_type": "code",
   "execution_count": 50,
   "metadata": {},
   "outputs": [
    {
     "name": "stdout",
     "output_type": "stream",
     "text": [
      "742 ms ± 79.8 ms per loop (mean ± std. dev. of 7 runs, 1 loop each)\n"
     ]
    }
   ],
   "source": [
    "%timeit minimum_phase_decomposition(expected_cross_spectral_matrix)"
   ]
  },
  {
   "cell_type": "code",
   "execution_count": 56,
   "metadata": {},
   "outputs": [
    {
     "name": "stdout",
     "output_type": "stream",
     "text": [
      "918 ms ± 67.2 ms per loop (mean ± std. dev. of 7 runs, 1 loop each)\n"
     ]
    }
   ],
   "source": [
    "%timeit minimum_phase_decomposition(e)"
   ]
  },
  {
   "cell_type": "code",
   "execution_count": 53,
   "metadata": {},
   "outputs": [
    {
     "data": {
      "text/plain": [
       "(1, 3000, 5, 5)"
      ]
     },
     "execution_count": 53,
     "metadata": {},
     "output_type": "execute_result"
    }
   ],
   "source": [
    "f = minimum_phase_decomposition(e)\n",
    "f.shape"
   ]
  },
  {
   "cell_type": "code",
   "execution_count": null,
   "metadata": {
    "collapsed": true
   },
   "outputs": [],
   "source": []
  }
 ],
 "metadata": {
  "anaconda-cloud": {},
  "kernelspec": {
   "display_name": "Python [conda env:Jadhav-2016-Data-Analysis]",
   "language": "python",
   "name": "conda-env-Jadhav-2016-Data-Analysis-py"
  },
  "language_info": {
   "codemirror_mode": {
    "name": "ipython",
    "version": 3
   },
   "file_extension": ".py",
   "mimetype": "text/x-python",
   "name": "python",
   "nbconvert_exporter": "python",
   "pygments_lexer": "ipython3",
   "version": "3.5.3"
  }
 },
 "nbformat": 4,
 "nbformat_minor": 2
}
