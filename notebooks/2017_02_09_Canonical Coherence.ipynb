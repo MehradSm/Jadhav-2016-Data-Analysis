{
 "cells": [
  {
   "cell_type": "code",
   "execution_count": 16,
   "metadata": {},
   "outputs": [
    {
     "name": "stdout",
     "output_type": "stream",
     "text": [
      "The snakeviz extension is already loaded. To reload it, use:\n",
      "  %reload_ext snakeviz\n",
      "                                     area  depth descrip\n",
      "animal day epoch_ind tetrode_number                     \n",
      "HPa    8   2         1                CA1    113  riptet\n",
      "                     2                CA1    121     NaN\n",
      "                     4                CA1    116  riptet\n",
      "                     5                CA1    116  riptet\n",
      "                     6                CA1    110  riptet\n",
      "                     7                CA1    114  riptet\n",
      "                     8               iCA1    114  riptet\n",
      "                     9               iCA1    100  riptet\n",
      "                     10              iCA1     96     NaN\n",
      "                     11              iCA1    106  riptet\n",
      "                     12              iCA1    114  riptet\n",
      "                     13              iCA1    120     NaN\n",
      "                     14              iCA1    105  riptet\n",
      "                     15               PFC     93     NaN\n",
      "                     16               PFC     90     NaN\n",
      "                     17               PFC     90     NaN\n",
      "                     18               PFC     90     NaN\n",
      "                     19               PFC    130     NaN\n",
      "                     20               PFC    109     NaN\n"
     ]
    }
   ],
   "source": [
    "%matplotlib inline\n",
    "%reload_ext autoreload\n",
    "%autoreload 2\n",
    "%qtconsole\n",
    "%load_ext snakeviz\n",
    "import sys\n",
    "import collections\n",
    "import itertools\n",
    "import copy\n",
    "import numpy as np\n",
    "import matplotlib.pyplot as plt\n",
    "import seaborn as sns\n",
    "import pandas as pd\n",
    "\n",
    "sys.path.append('../src/')\n",
    "import data_processing\n",
    "import ripple_detection\n",
    "import spectral\n",
    "\n",
    "Animal = collections.namedtuple('Animal', {'directory', 'short_name'})\n",
    "animals = {'HPa': Animal(directory='HPa_direct', short_name='HPa')}\n",
    "epoch_index = ('HPa', 8, 2)\n",
    "sampling_frequency = 1500\n",
    "tetrode_info = data_processing.make_tetrode_dataframe(animals)[epoch_index]\n",
    "tetrode_info = tetrode_info[~tetrode_info.descrip.str.endswith('Ref').fillna(False)]\n",
    "print(tetrode_info.loc[:, ['area', 'depth', 'descrip']])\n",
    "lfps = {index: data_processing.get_LFP_dataframe(index, animals)\n",
    "        for index in tetrode_info.index}"
   ]
  },
  {
   "cell_type": "code",
   "execution_count": 17,
   "metadata": {},
   "outputs": [
    {
     "data": {
      "text/plain": [
       "[('CA1', 'iCA1'), ('CA1', 'PFC'), ('iCA1', 'PFC')]"
      ]
     },
     "execution_count": 17,
     "metadata": {},
     "output_type": "execute_result"
    }
   ],
   "source": [
    "area_pairs = list(itertools.combinations(tetrode_info.area.unique(), 2))\n",
    "area_pairs"
   ]
  },
  {
   "cell_type": "code",
   "execution_count": 18,
   "metadata": {},
   "outputs": [
    {
     "name": "stdout",
     "output_type": "stream",
     "text": [
      "\n",
      "Detecting ripples for Animal HPa, Day 8, Epoch #2...\n",
      "\n"
     ]
    }
   ],
   "source": [
    "ripple_times = ripple_detection.get_epoch_ripples(\n",
    "        epoch_index, animals, sampling_frequency=sampling_frequency)\n",
    "reshaped_lfps = {key: data_processing.reshape_to_segments(\n",
    "            lfps[key], ripple_times,\n",
    "            sampling_frequency=sampling_frequency,\n",
    "            window_offset=(-2.100, 2.100), concat_axis=1).dropna()\n",
    "            for key in lfps}"
   ]
  },
  {
   "cell_type": "code",
   "execution_count": 19,
   "metadata": {},
   "outputs": [],
   "source": [
    "area1, area2 = area_pairs[0]\n",
    "\n",
    "def get_lfps_by_area(area, tetrode_info, lfps):\n",
    "    return [lfps[index] for index in tetrode_info[tetrode_info.area == area].index]\n",
    "\n",
    "area1_lfps = get_lfps_by_area(area1, tetrode_info, reshaped_lfps)\n",
    "area2_lfps = get_lfps_by_area(area2, tetrode_info, reshaped_lfps)"
   ]
  },
  {
   "cell_type": "code",
   "execution_count": 20,
   "metadata": {},
   "outputs": [
    {
     "data": {
      "text/plain": [
       "(4438, 147)"
      ]
     },
     "execution_count": 20,
     "metadata": {},
     "output_type": "execute_result"
    }
   ],
   "source": [
    "area1_lfps[0].shape"
   ]
  },
  {
   "cell_type": "code",
   "execution_count": 21,
   "metadata": {},
   "outputs": [
    {
     "data": {
      "text/plain": [
       "(4438, 147)"
      ]
     },
     "execution_count": 21,
     "metadata": {},
     "output_type": "execute_result"
    }
   ],
   "source": [
    "area2_lfps[0].shape"
   ]
  },
  {
   "cell_type": "code",
   "execution_count": 24,
   "metadata": {
    "collapsed": true
   },
   "outputs": [],
   "source": [
    "gamma_frequency_params = dict(\n",
    "    sampling_frequency=sampling_frequency,\n",
    "    time_window_duration=0.600,\n",
    "    time_window_step=0.600,\n",
    "    desired_frequencies=[20, 100],\n",
    "    time_halfbandwidth_product=3,\n",
    "    window_of_interest=(-1.800, 1.800)\n",
    ")"
   ]
  },
  {
   "cell_type": "code",
   "execution_count": 26,
   "metadata": {},
   "outputs": [],
   "source": [
    "tapers, number_of_fft_samples, frequencies, freq_ind = spectral._set_default_multitaper_parameters(\n",
    "    n_time_samples=area1_lfps[0].shape[0],\n",
    "    sampling_frequency=gamma_frequency_params['sampling_frequency'],\n",
    "    time_halfbandwidth_product=gamma_frequency_params['time_halfbandwidth_product'],\n",
    "    desired_frequencies=gamma_frequency_params['desired_frequencies'])"
   ]
  },
  {
   "cell_type": "code",
   "execution_count": 27,
   "metadata": {},
   "outputs": [],
   "source": [
    "data1 = [spectral._center_data(datum.values) for datum in area1_lfps]\n",
    "complex_spectra1 = [spectral._multitaper_fft(tapers, datum, number_of_fft_samples, sampling_frequency)\n",
    "                   for datum in data1]"
   ]
  },
  {
   "cell_type": "code",
   "execution_count": 28,
   "metadata": {
    "collapsed": true
   },
   "outputs": [],
   "source": [
    "data2 = [spectral._center_data(datum.values) for datum in area2_lfps]\n",
    "complex_spectra2 = [spectral._multitaper_fft(tapers, datum, number_of_fft_samples, sampling_frequency)\n",
    "                   for datum in data2]"
   ]
  },
  {
   "cell_type": "code",
   "execution_count": 29,
   "metadata": {
    "collapsed": true
   },
   "outputs": [],
   "source": [
    "complex_spectra1 = np.concatenate([spectra[np.newaxis, ...] for spectra in complex_spectra1])\n",
    "complex_spectra2 = np.concatenate([spectra[np.newaxis, ...] for spectra in complex_spectra2])"
   ]
  },
  {
   "cell_type": "code",
   "execution_count": 30,
   "metadata": {},
   "outputs": [
    {
     "data": {
      "text/plain": [
       "0.67805185390644584"
      ]
     },
     "execution_count": 30,
     "metadata": {},
     "output_type": "execute_result"
    }
   ],
   "source": [
    "U1, _, V1 = np.linalg.svd(complex_spectra1[:, freq_ind[0], :, :].reshape((complex_spectra1.shape[0], -1)),\n",
    "                          full_matrices=False)\n",
    "U2, _, V2 = np.linalg.svd(complex_spectra2[:, freq_ind[0], :, :].reshape((complex_spectra2.shape[0], -1)),\n",
    "                          full_matrices=False)\n",
    "Q = np.dot(np.dot(U1, V1), np.dot(U2, V2).conj().transpose())\n",
    "_, s, _ = np.linalg.svd(Q, full_matrices=False)\n",
    "s[0]"
   ]
  },
  {
   "cell_type": "markdown",
   "metadata": {},
   "source": [
    "The canonical coherence is biased by the number of members of the group. So three groups with unequal numbers of members in each group are not comparable. One way to compare is to restrict the number of members of each group to the minimum of all the groups and then resample the members so that all the members are included."
   ]
  },
  {
   "cell_type": "code",
   "execution_count": 13,
   "metadata": {},
   "outputs": [],
   "source": [
    "def get_complex_spectra(lfps, tapers, number_of_fft_samples, sampling_frequency):\n",
    "    ''' Returns a numpy array of complex spectra (electrode x frequencies x (trials x tapers))\n",
    "    for input into the canonical coherence\n",
    "    '''\n",
    "    centered_lfps = [spectral._center_data(lfp).values for lfp in lfps]\n",
    "    complex_spectra = [spectral._multitaper_fft(tapers, lfp, number_of_fft_samples, sampling_frequency)\n",
    "                       for lfp in centered_lfps]\n",
    "    complex_spectra = np.concatenate([spectra[np.newaxis, ...] for spectra in complex_spectra])\n",
    "    return complex_spectra.reshape((complex_spectra.shape[0], complex_spectra.shape[1], -1))\n",
    "\n",
    "def compute_canonical(complex_spectra1, complex_spectra2, freq_ind):\n",
    "    U1, _, V1 = np.linalg.svd(complex_spectra1[:, freq_ind, :], full_matrices=False)\n",
    "    U2, _, V2 = np.linalg.svd(complex_spectra2[:, freq_ind, :], full_matrices=False)\n",
    "    Q = np.dot(np.dot(U1, V1), np.dot(U2, V2).conj().transpose())\n",
    "    _, s, _ = np.linalg.svd(Q, full_matrices=False)\n",
    "    return s[0] ** 2"
   ]
  },
  {
   "cell_type": "code",
   "execution_count": 14,
   "metadata": {},
   "outputs": [
    {
     "ename": "ValueError",
     "evalue": "Unable to coerce to DataFrame, shape must be (4493, 151): given (1, 151)",
     "output_type": "error",
     "traceback": [
      "\u001b[0;31m---------------------------------------------------------------------------\u001b[0m",
      "\u001b[0;31mValueError\u001b[0m                                Traceback (most recent call last)",
      "\u001b[0;32m<ipython-input-14-1b19727a1108>\u001b[0m in \u001b[0;36m<module>\u001b[0;34m()\u001b[0m\n\u001b[0;32m----> 1\u001b[0;31m \u001b[0mget_ipython\u001b[0m\u001b[0;34m(\u001b[0m\u001b[0;34m)\u001b[0m\u001b[0;34m.\u001b[0m\u001b[0mrun_cell_magic\u001b[0m\u001b[0;34m(\u001b[0m\u001b[0;34m'snakeviz'\u001b[0m\u001b[0;34m,\u001b[0m \u001b[0;34m''\u001b[0m\u001b[0;34m,\u001b[0m \u001b[0;34m'\\ncomplex_spectra1 = get_complex_spectra(area1_lfps, tapers, number_of_fft_samples, sampling_frequency)\\ncomplex_spectra2 = get_complex_spectra(area2_lfps, tapers, number_of_fft_samples, sampling_frequency)\\n\\ncoh = [compute_canonical(complex_spectra1, complex_spectra2, freq) for freq in freq_ind]'\u001b[0m\u001b[0;34m)\u001b[0m\u001b[0;34m\u001b[0m\u001b[0m\n\u001b[0m",
      "\u001b[0;32m/Users/edeno/anaconda3/envs/Jadhav-2016-Data-Analysis/lib/python3.5/site-packages/IPython/core/interactiveshell.py\u001b[0m in \u001b[0;36mrun_cell_magic\u001b[0;34m(self, magic_name, line, cell)\u001b[0m\n\u001b[1;32m   2113\u001b[0m             \u001b[0mmagic_arg_s\u001b[0m \u001b[0;34m=\u001b[0m \u001b[0mself\u001b[0m\u001b[0;34m.\u001b[0m\u001b[0mvar_expand\u001b[0m\u001b[0;34m(\u001b[0m\u001b[0mline\u001b[0m\u001b[0;34m,\u001b[0m \u001b[0mstack_depth\u001b[0m\u001b[0;34m)\u001b[0m\u001b[0;34m\u001b[0m\u001b[0m\n\u001b[1;32m   2114\u001b[0m             \u001b[0;32mwith\u001b[0m \u001b[0mself\u001b[0m\u001b[0;34m.\u001b[0m\u001b[0mbuiltin_trap\u001b[0m\u001b[0;34m:\u001b[0m\u001b[0;34m\u001b[0m\u001b[0m\n\u001b[0;32m-> 2115\u001b[0;31m                 \u001b[0mresult\u001b[0m \u001b[0;34m=\u001b[0m \u001b[0mfn\u001b[0m\u001b[0;34m(\u001b[0m\u001b[0mmagic_arg_s\u001b[0m\u001b[0;34m,\u001b[0m \u001b[0mcell\u001b[0m\u001b[0;34m)\u001b[0m\u001b[0;34m\u001b[0m\u001b[0m\n\u001b[0m\u001b[1;32m   2116\u001b[0m             \u001b[0;32mreturn\u001b[0m \u001b[0mresult\u001b[0m\u001b[0;34m\u001b[0m\u001b[0m\n\u001b[1;32m   2117\u001b[0m \u001b[0;34m\u001b[0m\u001b[0m\n",
      "\u001b[0;32m/Users/edeno/anaconda3/envs/Jadhav-2016-Data-Analysis/lib/python3.5/site-packages/snakeviz/ipymagic.py\u001b[0m in \u001b[0;36msnakeviz_magic\u001b[0;34m(line, cell)\u001b[0m\n\u001b[1;32m     22\u001b[0m \u001b[0;34m\u001b[0m\u001b[0m\n\u001b[1;32m     23\u001b[0m     \u001b[0;32mif\u001b[0m \u001b[0mcell\u001b[0m\u001b[0;34m:\u001b[0m\u001b[0;34m\u001b[0m\u001b[0m\n\u001b[0;32m---> 24\u001b[0;31m         \u001b[0mip\u001b[0m\u001b[0;34m.\u001b[0m\u001b[0mrun_cell_magic\u001b[0m\u001b[0;34m(\u001b[0m\u001b[0;34m'prun'\u001b[0m\u001b[0;34m,\u001b[0m \u001b[0mline\u001b[0m\u001b[0;34m,\u001b[0m \u001b[0mcell\u001b[0m\u001b[0;34m)\u001b[0m\u001b[0;34m\u001b[0m\u001b[0m\n\u001b[0m\u001b[1;32m     25\u001b[0m     \u001b[0;32melse\u001b[0m\u001b[0;34m:\u001b[0m\u001b[0;34m\u001b[0m\u001b[0m\n\u001b[1;32m     26\u001b[0m         \u001b[0mip\u001b[0m\u001b[0;34m.\u001b[0m\u001b[0mrun_line_magic\u001b[0m\u001b[0;34m(\u001b[0m\u001b[0;34m'prun'\u001b[0m\u001b[0;34m,\u001b[0m \u001b[0mline\u001b[0m\u001b[0;34m)\u001b[0m\u001b[0;34m\u001b[0m\u001b[0m\n",
      "\u001b[0;32m/Users/edeno/anaconda3/envs/Jadhav-2016-Data-Analysis/lib/python3.5/site-packages/IPython/core/interactiveshell.py\u001b[0m in \u001b[0;36mrun_cell_magic\u001b[0;34m(self, magic_name, line, cell)\u001b[0m\n\u001b[1;32m   2113\u001b[0m             \u001b[0mmagic_arg_s\u001b[0m \u001b[0;34m=\u001b[0m \u001b[0mself\u001b[0m\u001b[0;34m.\u001b[0m\u001b[0mvar_expand\u001b[0m\u001b[0;34m(\u001b[0m\u001b[0mline\u001b[0m\u001b[0;34m,\u001b[0m \u001b[0mstack_depth\u001b[0m\u001b[0;34m)\u001b[0m\u001b[0;34m\u001b[0m\u001b[0m\n\u001b[1;32m   2114\u001b[0m             \u001b[0;32mwith\u001b[0m \u001b[0mself\u001b[0m\u001b[0;34m.\u001b[0m\u001b[0mbuiltin_trap\u001b[0m\u001b[0;34m:\u001b[0m\u001b[0;34m\u001b[0m\u001b[0m\n\u001b[0;32m-> 2115\u001b[0;31m                 \u001b[0mresult\u001b[0m \u001b[0;34m=\u001b[0m \u001b[0mfn\u001b[0m\u001b[0;34m(\u001b[0m\u001b[0mmagic_arg_s\u001b[0m\u001b[0;34m,\u001b[0m \u001b[0mcell\u001b[0m\u001b[0;34m)\u001b[0m\u001b[0;34m\u001b[0m\u001b[0m\n\u001b[0m\u001b[1;32m   2116\u001b[0m             \u001b[0;32mreturn\u001b[0m \u001b[0mresult\u001b[0m\u001b[0;34m\u001b[0m\u001b[0m\n\u001b[1;32m   2117\u001b[0m \u001b[0;34m\u001b[0m\u001b[0m\n",
      "\u001b[0;32m<decorator-gen-53>\u001b[0m in \u001b[0;36mprun\u001b[0;34m(self, parameter_s, cell)\u001b[0m\n",
      "\u001b[0;32m/Users/edeno/anaconda3/envs/Jadhav-2016-Data-Analysis/lib/python3.5/site-packages/IPython/core/magic.py\u001b[0m in \u001b[0;36m<lambda>\u001b[0;34m(f, *a, **k)\u001b[0m\n\u001b[1;32m    186\u001b[0m     \u001b[0;31m# but it's overkill for just that one bit of state.\u001b[0m\u001b[0;34m\u001b[0m\u001b[0;34m\u001b[0m\u001b[0m\n\u001b[1;32m    187\u001b[0m     \u001b[0;32mdef\u001b[0m \u001b[0mmagic_deco\u001b[0m\u001b[0;34m(\u001b[0m\u001b[0marg\u001b[0m\u001b[0;34m)\u001b[0m\u001b[0;34m:\u001b[0m\u001b[0;34m\u001b[0m\u001b[0m\n\u001b[0;32m--> 188\u001b[0;31m         \u001b[0mcall\u001b[0m \u001b[0;34m=\u001b[0m \u001b[0;32mlambda\u001b[0m \u001b[0mf\u001b[0m\u001b[0;34m,\u001b[0m \u001b[0;34m*\u001b[0m\u001b[0ma\u001b[0m\u001b[0;34m,\u001b[0m \u001b[0;34m**\u001b[0m\u001b[0mk\u001b[0m\u001b[0;34m:\u001b[0m \u001b[0mf\u001b[0m\u001b[0;34m(\u001b[0m\u001b[0;34m*\u001b[0m\u001b[0ma\u001b[0m\u001b[0;34m,\u001b[0m \u001b[0;34m**\u001b[0m\u001b[0mk\u001b[0m\u001b[0;34m)\u001b[0m\u001b[0;34m\u001b[0m\u001b[0m\n\u001b[0m\u001b[1;32m    189\u001b[0m \u001b[0;34m\u001b[0m\u001b[0m\n\u001b[1;32m    190\u001b[0m         \u001b[0;32mif\u001b[0m \u001b[0mcallable\u001b[0m\u001b[0;34m(\u001b[0m\u001b[0marg\u001b[0m\u001b[0;34m)\u001b[0m\u001b[0;34m:\u001b[0m\u001b[0;34m\u001b[0m\u001b[0m\n",
      "\u001b[0;32m/Users/edeno/anaconda3/envs/Jadhav-2016-Data-Analysis/lib/python3.5/site-packages/IPython/core/magics/execution.py\u001b[0m in \u001b[0;36mprun\u001b[0;34m(self, parameter_s, cell)\u001b[0m\n\u001b[1;32m    279\u001b[0m             \u001b[0marg_str\u001b[0m \u001b[0;34m+=\u001b[0m \u001b[0;34m'\\n'\u001b[0m \u001b[0;34m+\u001b[0m \u001b[0mcell\u001b[0m\u001b[0;34m\u001b[0m\u001b[0m\n\u001b[1;32m    280\u001b[0m         \u001b[0marg_str\u001b[0m \u001b[0;34m=\u001b[0m \u001b[0mself\u001b[0m\u001b[0;34m.\u001b[0m\u001b[0mshell\u001b[0m\u001b[0;34m.\u001b[0m\u001b[0minput_splitter\u001b[0m\u001b[0;34m.\u001b[0m\u001b[0mtransform_cell\u001b[0m\u001b[0;34m(\u001b[0m\u001b[0marg_str\u001b[0m\u001b[0;34m)\u001b[0m\u001b[0;34m\u001b[0m\u001b[0m\n\u001b[0;32m--> 281\u001b[0;31m         \u001b[0;32mreturn\u001b[0m \u001b[0mself\u001b[0m\u001b[0;34m.\u001b[0m\u001b[0m_run_with_profiler\u001b[0m\u001b[0;34m(\u001b[0m\u001b[0marg_str\u001b[0m\u001b[0;34m,\u001b[0m \u001b[0mopts\u001b[0m\u001b[0;34m,\u001b[0m \u001b[0mself\u001b[0m\u001b[0;34m.\u001b[0m\u001b[0mshell\u001b[0m\u001b[0;34m.\u001b[0m\u001b[0muser_ns\u001b[0m\u001b[0;34m)\u001b[0m\u001b[0;34m\u001b[0m\u001b[0m\n\u001b[0m\u001b[1;32m    282\u001b[0m \u001b[0;34m\u001b[0m\u001b[0m\n\u001b[1;32m    283\u001b[0m     \u001b[0;32mdef\u001b[0m \u001b[0m_run_with_profiler\u001b[0m\u001b[0;34m(\u001b[0m\u001b[0mself\u001b[0m\u001b[0;34m,\u001b[0m \u001b[0mcode\u001b[0m\u001b[0;34m,\u001b[0m \u001b[0mopts\u001b[0m\u001b[0;34m,\u001b[0m \u001b[0mnamespace\u001b[0m\u001b[0;34m)\u001b[0m\u001b[0;34m:\u001b[0m\u001b[0;34m\u001b[0m\u001b[0m\n",
      "\u001b[0;32m/Users/edeno/anaconda3/envs/Jadhav-2016-Data-Analysis/lib/python3.5/site-packages/IPython/core/magics/execution.py\u001b[0m in \u001b[0;36m_run_with_profiler\u001b[0;34m(self, code, opts, namespace)\u001b[0m\n\u001b[1;32m    301\u001b[0m         \u001b[0mprof\u001b[0m \u001b[0;34m=\u001b[0m \u001b[0mprofile\u001b[0m\u001b[0;34m.\u001b[0m\u001b[0mProfile\u001b[0m\u001b[0;34m(\u001b[0m\u001b[0;34m)\u001b[0m\u001b[0;34m\u001b[0m\u001b[0m\n\u001b[1;32m    302\u001b[0m         \u001b[0;32mtry\u001b[0m\u001b[0;34m:\u001b[0m\u001b[0;34m\u001b[0m\u001b[0m\n\u001b[0;32m--> 303\u001b[0;31m             \u001b[0mprof\u001b[0m \u001b[0;34m=\u001b[0m \u001b[0mprof\u001b[0m\u001b[0;34m.\u001b[0m\u001b[0mrunctx\u001b[0m\u001b[0;34m(\u001b[0m\u001b[0mcode\u001b[0m\u001b[0;34m,\u001b[0m \u001b[0mnamespace\u001b[0m\u001b[0;34m,\u001b[0m \u001b[0mnamespace\u001b[0m\u001b[0;34m)\u001b[0m\u001b[0;34m\u001b[0m\u001b[0m\n\u001b[0m\u001b[1;32m    304\u001b[0m             \u001b[0msys_exit\u001b[0m \u001b[0;34m=\u001b[0m \u001b[0;34m''\u001b[0m\u001b[0;34m\u001b[0m\u001b[0m\n\u001b[1;32m    305\u001b[0m         \u001b[0;32mexcept\u001b[0m \u001b[0mSystemExit\u001b[0m\u001b[0;34m:\u001b[0m\u001b[0;34m\u001b[0m\u001b[0m\n",
      "\u001b[0;32m/Users/edeno/anaconda3/envs/Jadhav-2016-Data-Analysis/lib/python3.5/cProfile.py\u001b[0m in \u001b[0;36mrunctx\u001b[0;34m(self, cmd, globals, locals)\u001b[0m\n\u001b[1;32m     98\u001b[0m         \u001b[0mself\u001b[0m\u001b[0;34m.\u001b[0m\u001b[0menable\u001b[0m\u001b[0;34m(\u001b[0m\u001b[0;34m)\u001b[0m\u001b[0;34m\u001b[0m\u001b[0m\n\u001b[1;32m     99\u001b[0m         \u001b[0;32mtry\u001b[0m\u001b[0;34m:\u001b[0m\u001b[0;34m\u001b[0m\u001b[0m\n\u001b[0;32m--> 100\u001b[0;31m             \u001b[0mexec\u001b[0m\u001b[0;34m(\u001b[0m\u001b[0mcmd\u001b[0m\u001b[0;34m,\u001b[0m \u001b[0mglobals\u001b[0m\u001b[0;34m,\u001b[0m \u001b[0mlocals\u001b[0m\u001b[0;34m)\u001b[0m\u001b[0;34m\u001b[0m\u001b[0m\n\u001b[0m\u001b[1;32m    101\u001b[0m         \u001b[0;32mfinally\u001b[0m\u001b[0;34m:\u001b[0m\u001b[0;34m\u001b[0m\u001b[0m\n\u001b[1;32m    102\u001b[0m             \u001b[0mself\u001b[0m\u001b[0;34m.\u001b[0m\u001b[0mdisable\u001b[0m\u001b[0;34m(\u001b[0m\u001b[0;34m)\u001b[0m\u001b[0;34m\u001b[0m\u001b[0m\n",
      "\u001b[0;32m<string>\u001b[0m in \u001b[0;36m<module>\u001b[0;34m()\u001b[0m\n",
      "\u001b[0;32m<ipython-input-13-477783986e34>\u001b[0m in \u001b[0;36mget_complex_spectra\u001b[0;34m(lfps, tapers, number_of_fft_samples, sampling_frequency)\u001b[0m\n\u001b[1;32m      3\u001b[0m     \u001b[0;32mfor\u001b[0m \u001b[0minput\u001b[0m \u001b[0minto\u001b[0m \u001b[0mthe\u001b[0m \u001b[0mcanonical\u001b[0m \u001b[0mcoherence\u001b[0m\u001b[0;34m\u001b[0m\u001b[0m\n\u001b[1;32m      4\u001b[0m     '''\n\u001b[0;32m----> 5\u001b[0;31m     \u001b[0mcentered_lfps\u001b[0m \u001b[0;34m=\u001b[0m \u001b[0;34m[\u001b[0m\u001b[0mspectral\u001b[0m\u001b[0;34m.\u001b[0m\u001b[0m_center_data\u001b[0m\u001b[0;34m(\u001b[0m\u001b[0mlfp\u001b[0m\u001b[0;34m)\u001b[0m\u001b[0;34m.\u001b[0m\u001b[0mvalues\u001b[0m \u001b[0;32mfor\u001b[0m \u001b[0mlfp\u001b[0m \u001b[0;32min\u001b[0m \u001b[0mlfps\u001b[0m\u001b[0;34m]\u001b[0m\u001b[0;34m\u001b[0m\u001b[0m\n\u001b[0m\u001b[1;32m      6\u001b[0m     complex_spectra = [spectral._multitaper_fft(tapers, lfp, number_of_fft_samples, sampling_frequency)\n\u001b[1;32m      7\u001b[0m                        for lfp in centered_lfps]\n",
      "\u001b[0;32m<ipython-input-13-477783986e34>\u001b[0m in \u001b[0;36m<listcomp>\u001b[0;34m(.0)\u001b[0m\n\u001b[1;32m      3\u001b[0m     \u001b[0;32mfor\u001b[0m \u001b[0minput\u001b[0m \u001b[0minto\u001b[0m \u001b[0mthe\u001b[0m \u001b[0mcanonical\u001b[0m \u001b[0mcoherence\u001b[0m\u001b[0;34m\u001b[0m\u001b[0m\n\u001b[1;32m      4\u001b[0m     '''\n\u001b[0;32m----> 5\u001b[0;31m     \u001b[0mcentered_lfps\u001b[0m \u001b[0;34m=\u001b[0m \u001b[0;34m[\u001b[0m\u001b[0mspectral\u001b[0m\u001b[0;34m.\u001b[0m\u001b[0m_center_data\u001b[0m\u001b[0;34m(\u001b[0m\u001b[0mlfp\u001b[0m\u001b[0;34m)\u001b[0m\u001b[0;34m.\u001b[0m\u001b[0mvalues\u001b[0m \u001b[0;32mfor\u001b[0m \u001b[0mlfp\u001b[0m \u001b[0;32min\u001b[0m \u001b[0mlfps\u001b[0m\u001b[0;34m]\u001b[0m\u001b[0;34m\u001b[0m\u001b[0m\n\u001b[0m\u001b[1;32m      6\u001b[0m     complex_spectra = [spectral._multitaper_fft(tapers, lfp, number_of_fft_samples, sampling_frequency)\n\u001b[1;32m      7\u001b[0m                        for lfp in centered_lfps]\n",
      "\u001b[0;32m/Users/edeno/Documents/GitHub/Jadhav-2016-Data-Analysis/src/spectral.py\u001b[0m in \u001b[0;36m_center_data\u001b[0;34m(x, axis)\u001b[0m\n\u001b[1;32m     65\u001b[0m     \u001b[0;32mwith\u001b[0m \u001b[0mwarnings\u001b[0m\u001b[0;34m.\u001b[0m\u001b[0mcatch_warnings\u001b[0m\u001b[0;34m(\u001b[0m\u001b[0;34m)\u001b[0m\u001b[0;34m:\u001b[0m\u001b[0;34m\u001b[0m\u001b[0m\n\u001b[1;32m     66\u001b[0m         \u001b[0mwarnings\u001b[0m\u001b[0;34m.\u001b[0m\u001b[0msimplefilter\u001b[0m\u001b[0;34m(\u001b[0m\u001b[0;34m\"ignore\"\u001b[0m\u001b[0;34m,\u001b[0m \u001b[0mcategory\u001b[0m\u001b[0;34m=\u001b[0m\u001b[0mRuntimeWarning\u001b[0m\u001b[0;34m)\u001b[0m\u001b[0;34m\u001b[0m\u001b[0m\n\u001b[0;32m---> 67\u001b[0;31m         \u001b[0;32mreturn\u001b[0m \u001b[0mx\u001b[0m \u001b[0;34m-\u001b[0m \u001b[0mnp\u001b[0m\u001b[0;34m.\u001b[0m\u001b[0mnanmean\u001b[0m\u001b[0;34m(\u001b[0m\u001b[0mx\u001b[0m\u001b[0;34m,\u001b[0m \u001b[0maxis\u001b[0m\u001b[0;34m=\u001b[0m\u001b[0maxis\u001b[0m\u001b[0;34m,\u001b[0m \u001b[0mkeepdims\u001b[0m\u001b[0;34m=\u001b[0m\u001b[0;32mTrue\u001b[0m\u001b[0;34m)\u001b[0m\u001b[0;34m\u001b[0m\u001b[0m\n\u001b[0m\u001b[1;32m     68\u001b[0m \u001b[0;34m\u001b[0m\u001b[0m\n\u001b[1;32m     69\u001b[0m \u001b[0;34m\u001b[0m\u001b[0m\n",
      "\u001b[0;32m/Users/edeno/anaconda3/envs/Jadhav-2016-Data-Analysis/lib/python3.5/site-packages/pandas/core/ops.py\u001b[0m in \u001b[0;36mf\u001b[0;34m(self, other, axis, level, fill_value)\u001b[0m\n\u001b[1;32m   1216\u001b[0m     \u001b[0;32mdef\u001b[0m \u001b[0mf\u001b[0m\u001b[0;34m(\u001b[0m\u001b[0mself\u001b[0m\u001b[0;34m,\u001b[0m \u001b[0mother\u001b[0m\u001b[0;34m,\u001b[0m \u001b[0maxis\u001b[0m\u001b[0;34m=\u001b[0m\u001b[0mdefault_axis\u001b[0m\u001b[0;34m,\u001b[0m \u001b[0mlevel\u001b[0m\u001b[0;34m=\u001b[0m\u001b[0;32mNone\u001b[0m\u001b[0;34m,\u001b[0m \u001b[0mfill_value\u001b[0m\u001b[0;34m=\u001b[0m\u001b[0;32mNone\u001b[0m\u001b[0;34m)\u001b[0m\u001b[0;34m:\u001b[0m\u001b[0;34m\u001b[0m\u001b[0m\n\u001b[1;32m   1217\u001b[0m \u001b[0;34m\u001b[0m\u001b[0m\n\u001b[0;32m-> 1218\u001b[0;31m         \u001b[0mother\u001b[0m \u001b[0;34m=\u001b[0m \u001b[0m_align_method_FRAME\u001b[0m\u001b[0;34m(\u001b[0m\u001b[0mself\u001b[0m\u001b[0;34m,\u001b[0m \u001b[0mother\u001b[0m\u001b[0;34m,\u001b[0m \u001b[0maxis\u001b[0m\u001b[0;34m)\u001b[0m\u001b[0;34m\u001b[0m\u001b[0m\n\u001b[0m\u001b[1;32m   1219\u001b[0m \u001b[0;34m\u001b[0m\u001b[0m\n\u001b[1;32m   1220\u001b[0m         \u001b[0;32mif\u001b[0m \u001b[0misinstance\u001b[0m\u001b[0;34m(\u001b[0m\u001b[0mother\u001b[0m\u001b[0;34m,\u001b[0m \u001b[0mpd\u001b[0m\u001b[0;34m.\u001b[0m\u001b[0mDataFrame\u001b[0m\u001b[0;34m)\u001b[0m\u001b[0;34m:\u001b[0m  \u001b[0;31m# Another DataFrame\u001b[0m\u001b[0;34m\u001b[0m\u001b[0m\n",
      "\u001b[0;32m/Users/edeno/anaconda3/envs/Jadhav-2016-Data-Analysis/lib/python3.5/site-packages/pandas/core/ops.py\u001b[0m in \u001b[0;36m_align_method_FRAME\u001b[0;34m(left, right, axis)\u001b[0m\n\u001b[1;32m   1152\u001b[0m                 msg = (\"Unable to coerce to DataFrame, \"\n\u001b[1;32m   1153\u001b[0m                        \"shape must be {0}: given {1}\")\n\u001b[0;32m-> 1154\u001b[0;31m                 \u001b[0;32mraise\u001b[0m \u001b[0mValueError\u001b[0m\u001b[0;34m(\u001b[0m\u001b[0mmsg\u001b[0m\u001b[0;34m.\u001b[0m\u001b[0mformat\u001b[0m\u001b[0;34m(\u001b[0m\u001b[0mleft\u001b[0m\u001b[0;34m.\u001b[0m\u001b[0mshape\u001b[0m\u001b[0;34m,\u001b[0m \u001b[0mright\u001b[0m\u001b[0;34m.\u001b[0m\u001b[0mshape\u001b[0m\u001b[0;34m)\u001b[0m\u001b[0;34m)\u001b[0m\u001b[0;34m\u001b[0m\u001b[0m\n\u001b[0m\u001b[1;32m   1155\u001b[0m \u001b[0;34m\u001b[0m\u001b[0m\n\u001b[1;32m   1156\u001b[0m             right = left._constructor(right, index=left.index,\n",
      "\u001b[0;31mValueError\u001b[0m: Unable to coerce to DataFrame, shape must be (4493, 151): given (1, 151)"
     ]
    }
   ],
   "source": [
    "%%snakeviz\n",
    "\n",
    "complex_spectra1 = get_complex_spectra(area1_lfps, tapers, number_of_fft_samples, sampling_frequency)\n",
    "complex_spectra2 = get_complex_spectra(area2_lfps, tapers, number_of_fft_samples, sampling_frequency)\n",
    "\n",
    "coh = [compute_canonical(complex_spectra1, complex_spectra2, freq) for freq in freq_ind]"
   ]
  },
  {
   "cell_type": "code",
   "execution_count": 15,
   "metadata": {},
   "outputs": [
    {
     "ename": "NameError",
     "evalue": "name 'coh' is not defined",
     "output_type": "error",
     "traceback": [
      "\u001b[0;31m---------------------------------------------------------------------------\u001b[0m",
      "\u001b[0;31mNameError\u001b[0m                                 Traceback (most recent call last)",
      "\u001b[0;32m<ipython-input-15-34bb4bedefc8>\u001b[0m in \u001b[0;36m<module>\u001b[0;34m()\u001b[0m\n\u001b[0;32m----> 1\u001b[0;31m \u001b[0mplt\u001b[0m\u001b[0;34m.\u001b[0m\u001b[0mplot\u001b[0m\u001b[0;34m(\u001b[0m\u001b[0mfrequencies\u001b[0m\u001b[0;34m,\u001b[0m \u001b[0mcoh\u001b[0m\u001b[0;34m)\u001b[0m\u001b[0;34m\u001b[0m\u001b[0m\n\u001b[0m\u001b[1;32m      2\u001b[0m \u001b[0mplt\u001b[0m\u001b[0;34m.\u001b[0m\u001b[0mtitle\u001b[0m\u001b[0;34m(\u001b[0m\u001b[0;34m'{} - {}'\u001b[0m\u001b[0;34m.\u001b[0m\u001b[0mformat\u001b[0m\u001b[0;34m(\u001b[0m\u001b[0marea1\u001b[0m\u001b[0;34m,\u001b[0m \u001b[0marea2\u001b[0m\u001b[0;34m)\u001b[0m\u001b[0;34m)\u001b[0m\u001b[0;34m\u001b[0m\u001b[0m\n\u001b[1;32m      3\u001b[0m \u001b[0mplt\u001b[0m\u001b[0;34m.\u001b[0m\u001b[0mxlabel\u001b[0m\u001b[0;34m(\u001b[0m\u001b[0;34m'Frequencies (Hz)'\u001b[0m\u001b[0;34m)\u001b[0m\u001b[0;34m\u001b[0m\u001b[0m\n\u001b[1;32m      4\u001b[0m \u001b[0mplt\u001b[0m\u001b[0;34m.\u001b[0m\u001b[0mylabel\u001b[0m\u001b[0;34m(\u001b[0m\u001b[0;34m'Canonical Coherence'\u001b[0m\u001b[0;34m)\u001b[0m\u001b[0;34m\u001b[0m\u001b[0m\n",
      "\u001b[0;31mNameError\u001b[0m: name 'coh' is not defined"
     ]
    }
   ],
   "source": [
    "plt.plot(frequencies, coh)\n",
    "plt.title('{} - {}'.format(area1, area2))\n",
    "plt.xlabel('Frequencies (Hz)')\n",
    "plt.ylabel('Canonical Coherence')"
   ]
  },
  {
   "cell_type": "code",
   "execution_count": null,
   "metadata": {},
   "outputs": [],
   "source": [
    "fig, axes = plt.subplots(1, 3, sharex=True, sharey=True, figsize=(12,9))\n",
    "\n",
    "for pair_ind, (area1, area2) in enumerate(area_pairs):\n",
    "    area1_lfps = get_lfps_by_area(area1, tetrode_info, reshaped_lfps)\n",
    "    area2_lfps = get_lfps_by_area(area2, tetrode_info, reshaped_lfps)\n",
    "    complex_spectra1 = get_complex_spectra(area1_lfps, tapers, number_of_fft_samples, sampling_frequency)\n",
    "    complex_spectra2 = get_complex_spectra(area2_lfps, tapers, number_of_fft_samples, sampling_frequency)\n",
    "    coh = [compute_canonical(complex_spectra1, complex_spectra2, freq) for freq in freq_ind]\n",
    "    axes[pair_ind].plot(frequencies, coh)\n",
    "    axes[pair_ind].set_title('{area1} - {area2}'.format(area1=area1, area2=area2))\n",
    "    axes[pair_ind].set_xlabel('Frequencies (Hz)')\n",
    "    axes[pair_ind].set_ylabel('Canonical Coherence')\n",
    "    \n",
    "plt.tight_layout()"
   ]
  },
  {
   "cell_type": "markdown",
   "metadata": {},
   "source": [
    "## Coherogram"
   ]
  },
  {
   "cell_type": "code",
   "execution_count": null,
   "metadata": {},
   "outputs": [],
   "source": [
    "time_window_duration = gamma_frequency_params['time_window_duration']\n",
    "time_window_step = gamma_frequency_params['time_window_step']\n",
    "time_halfbandwidth_product = gamma_frequency_params['time_halfbandwidth_product']\n",
    "desired_frequencies = gamma_frequency_params['desired_frequencies']\n",
    "pad = 0\n",
    "number_of_tapers=None\n",
    "tapers=None\n",
    "\n",
    "time_step_length, time_window_length = spectral._get_window_lengths(\n",
    "        time_window_duration,\n",
    "        sampling_frequency,\n",
    "        time_window_step)\n",
    "tapers, number_of_fft_samples, frequencies, freq_ind = spectral._set_default_multitaper_parameters(\n",
    "    number_of_time_samples=time_window_length,\n",
    "    sampling_frequency=sampling_frequency,\n",
    "    time_window_duration=time_window_duration,\n",
    "    time_window_step=time_window_duration,\n",
    "    tapers=tapers,\n",
    "    number_of_tapers=number_of_tapers,\n",
    "    time_halfbandwidth_product=time_halfbandwidth_product,\n",
    "    desired_frequencies=desired_frequencies,\n",
    "    pad=pad)\n",
    "\n",
    "data = [area1_lfps, area2_lfps]\n",
    "time = reshaped_lfps[('HPa', 8, 2, 20)].index"
   ]
  },
  {
   "cell_type": "code",
   "execution_count": null,
   "metadata": {},
   "outputs": [],
   "source": [
    "coherogram = pd.concat(list(spectral._make_sliding_window_dataframe(\n",
    "    spectral.multitaper_canonical_coherence,\n",
    "    data,\n",
    "    time_window_duration,\n",
    "    time_window_step,\n",
    "    time_step_length,\n",
    "    time_window_length,\n",
    "    time,\n",
    "    sampling_frequency=sampling_frequency,\n",
    "    desired_frequencies=desired_frequencies,\n",
    "    time_halfbandwidth_product=time_halfbandwidth_product,\n",
    "    number_of_tapers=number_of_tapers,\n",
    "    pad=pad,\n",
    "    tapers=tapers,\n",
    "    frequencies=frequencies,\n",
    "    freq_ind=freq_ind,\n",
    "    number_of_fft_samples=number_of_fft_samples,\n",
    "))).sort_index()"
   ]
  },
  {
   "cell_type": "code",
   "execution_count": null,
   "metadata": {
    "collapsed": true
   },
   "outputs": [],
   "source": [
    "def _get_window_array(data, time_window_start_ind, time_window_end_ind, axis=0):\n",
    "    '''Returns the data for a given start and end index'''\n",
    "    slc = [slice(None)] * len(data[0].shape)\n",
    "    slc[axis] = slice(time_window_start_ind, time_window_end_ind, 1)\n",
    "    window_array = [datum[slc] for datum in data]\n",
    "    if len(window_array) == 1:\n",
    "        window_array = window_array[0]\n",
    "    return window_array\n",
    "\n",
    "\n",
    "def _make_sliding_window_dataframe(func, data, time_window_duration, time_window_step,\n",
    "                                   time_step_length, time_window_length, time, axis,\n",
    "                                   **kwargs):\n",
    "    ''' Generator function that returns a transformed dataframe (via func) for each sliding\n",
    "    time window.\n",
    "    '''\n",
    "    time_window_start_ind = 0\n",
    "    while time_window_start_ind + time_window_length <= data[0].shape[axis]:\n",
    "        try:\n",
    "            time_window_end_ind = time_window_start_ind + time_window_length\n",
    "            windowed_arrays = _get_window_array(\n",
    "                data, time_window_start_ind, time_window_end_ind, axis=axis)\n",
    "\n",
    "            yield (func(windowed_arrays, **kwargs)\n",
    "                   .assign(time=time[time_window_start_ind])\n",
    "                   .set_index('time', append=True))\n",
    "            time_window_start_ind += time_step_length\n",
    "        except ValueError:\n",
    "            # Not enough data points\n",
    "            raise StopIteration"
   ]
  },
  {
   "cell_type": "code",
   "execution_count": null,
   "metadata": {},
   "outputs": [],
   "source": [
    "area1, area2 = area_pairs[0]\n",
    "\n",
    "def get_lfps_by_area2(area, tetrode_info, lfps):\n",
    "    return pd.Panel({index: lfps[index] for index in tetrode_info[tetrode_info.area == area].index})\n",
    "\n",
    "area1_lfps = get_lfps_by_area2(area1, tetrode_info, reshaped_lfps)\n",
    "area2_lfps = get_lfps_by_area2(area2, tetrode_info, reshaped_lfps)"
   ]
  },
  {
   "cell_type": "code",
   "execution_count": null,
   "metadata": {},
   "outputs": [],
   "source": [
    "area1_lfps.values.shape"
   ]
  },
  {
   "cell_type": "code",
   "execution_count": null,
   "metadata": {},
   "outputs": [],
   "source": [
    "_get_window_array([area1_lfps.values], 0, 100, axis=1).shape"
   ]
  },
  {
   "cell_type": "code",
   "execution_count": null,
   "metadata": {},
   "outputs": [],
   "source": [
    "data = [area1_lfps.values, area2_lfps.values]\n",
    "axis = 1"
   ]
  },
  {
   "cell_type": "code",
   "execution_count": null,
   "metadata": {},
   "outputs": [],
   "source": [
    "coherogram = pd.concat(list(_make_sliding_window_dataframe(\n",
    "    spectral.multitaper_canonical_coherence,\n",
    "    data,\n",
    "    time_window_duration,\n",
    "    time_window_step,\n",
    "    time_step_length,\n",
    "    time_window_length,\n",
    "    time,\n",
    "    axis,\n",
    "    sampling_frequency=sampling_frequency,\n",
    "    desired_frequencies=desired_frequencies,\n",
    "    time_halfbandwidth_product=time_halfbandwidth_product,\n",
    "    number_of_tapers=number_of_tapers,\n",
    "    pad=pad,\n",
    "    tapers=tapers,\n",
    "    frequencies=frequencies,\n",
    "    freq_ind=freq_ind,\n",
    "    number_of_fft_samples=number_of_fft_samples,\n",
    "))).sort_index()"
   ]
  },
  {
   "cell_type": "code",
   "execution_count": null,
   "metadata": {},
   "outputs": [],
   "source": [
    "spectral.plot_coherogram(coherogram)"
   ]
  },
  {
   "cell_type": "markdown",
   "metadata": {
    "collapsed": true
   },
   "source": [
    "## Testing ripple triggered canonical coherence"
   ]
  },
  {
   "cell_type": "code",
   "execution_count": null,
   "metadata": {},
   "outputs": [],
   "source": [
    "coherence_name='coherence'\n",
    "\n",
    "sampling_frequency = 1500\n",
    "multitaper_params = dict(\n",
    "    sampling_frequency=sampling_frequency,\n",
    "    time_window_duration=0.200,\n",
    "    time_window_step=0.200,\n",
    "    desired_frequencies=(20, 100),\n",
    "    time_halfbandwidth_product=1,\n",
    "    window_of_interest=(-0.200, 0.400)\n",
    ")\n",
    "\n",
    "tetrode_info = data_processing.make_tetrode_dataframe(animals)[epoch_index]\n",
    "tetrode_info = tetrode_info[\n",
    "    ~tetrode_info.descrip.str.endswith('Ref').fillna(False)]\n",
    "print(tetrode_info.loc[:, ['area', 'depth', 'descrip']])\n",
    "lfps = {index: data_processing.get_LFP_dataframe(index, animals)\n",
    "        for index in tetrode_info.index}\n",
    "params = copy.deepcopy(multitaper_params)\n",
    "window_of_interest = params.pop('window_of_interest')\n",
    "\n",
    "reshaped_lfps = {key: data_processing.reshape_to_segments(\n",
    "    lfps[key], ripple_times,\n",
    "    sampling_frequency=params['sampling_frequency'],\n",
    "    window_offset=window_of_interest,\n",
    "    concat_axis=1)\n",
    "    for key in lfps}\n",
    "\n",
    "area_pairs = itertools.combinations(tetrode_info.area.unique(), 2)\n",
    "for area1, area2 in area_pairs:\n",
    "    print('{area1} - {area2}'.format(area1=area1, area2=area2))\n",
    "    area1_lfps = spectral.get_lfps_by_area(area1, tetrode_info, reshaped_lfps)\n",
    "    area2_lfps = spectral.get_lfps_by_area(area2, tetrode_info, reshaped_lfps)\n",
    "    coherogram = spectral.multitaper_canonical_coherogram(\n",
    "            [area1_lfps, area2_lfps], **params)\n",
    "    coherence_baseline = coherogram.xs(coherogram.index.min()[1], level='time')\n",
    "    coherence_change = spectral.power_and_coherence_change(\n",
    "            coherence_baseline, coherogram)"
   ]
  },
  {
   "cell_type": "code",
   "execution_count": null,
   "metadata": {
    "collapsed": true
   },
   "outputs": [],
   "source": []
  }
 ],
 "metadata": {
  "anaconda-cloud": {},
  "kernelspec": {
   "display_name": "Python [conda env:Jadhav-2016-Data-Analysis]",
   "language": "python",
   "name": "conda-env-Jadhav-2016-Data-Analysis-py"
  },
  "language_info": {
   "codemirror_mode": {
    "name": "ipython",
    "version": 3
   },
   "file_extension": ".py",
   "mimetype": "text/x-python",
   "name": "python",
   "nbconvert_exporter": "python",
   "pygments_lexer": "ipython3",
   "version": "3.5.2"
  }
 },
 "nbformat": 4,
 "nbformat_minor": 1
}
