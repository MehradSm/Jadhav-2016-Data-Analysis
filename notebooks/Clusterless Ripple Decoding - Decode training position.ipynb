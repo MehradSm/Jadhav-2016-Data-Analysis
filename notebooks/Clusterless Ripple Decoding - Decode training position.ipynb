{
 "cells": [
  {
   "cell_type": "code",
   "execution_count": 1,
   "metadata": {
    "collapsed": true
   },
   "outputs": [],
   "source": [
    "%matplotlib inline\n",
    "%reload_ext autoreload\n",
    "%autoreload 2\n",
    "%qtconsole\n",
    "%reload_ext snakeviz\n",
    "\n",
    "from collections import namedtuple\n",
    "from functools import partial, wraps\n",
    "\n",
    "import matplotlib.pyplot as plt\n",
    "import numpy as np\n",
    "import pandas as pd\n",
    "import seaborn as sns\n",
    "from tqdm import tqdm_notebook as tqdm\n",
    "from ipywidgets import interact\n",
    "from mpl_toolkits.axes_grid1 import make_axes_locatable\n",
    "\n",
    "from src.data_processing import (get_interpolated_position_dataframe,\n",
    "                                 get_mark_indicator_dataframe,\n",
    "                                 make_tetrode_dataframe, reshape_to_segments)\n",
    "from src.ripple_detection import get_epoch_ripples\n",
    "from src.ripple_decoding import (combined_likelihood,\n",
    "                                 estimate_marked_encoding_model, get_ripple_info,\n",
    "                                 joint_mark_intensity, poisson_mark_likelihood,\n",
    "                                 predict_state, _compute_decision_state_probability,\n",
    "                                 _get_bin_centers, estimate_state_transition,\n",
    "                                 set_initial_conditions, evaluate_mark_space,\n",
    "                                 empirical_movement_transition_matrix)"
   ]
  },
  {
   "cell_type": "code",
   "execution_count": 2,
   "metadata": {
    "collapsed": true
   },
   "outputs": [],
   "source": [
    "Animal = namedtuple('Animal', {'directory', 'short_name'})\n",
    "num_days = 8\n",
    "days = range(1, num_days + 1)\n",
    "animals = {'HPa': Animal(directory='HPa_direct', short_name='HPa')}"
   ]
  },
  {
   "cell_type": "code",
   "execution_count": 3,
   "metadata": {
    "collapsed": false
   },
   "outputs": [
    {
     "name": "stdout",
     "output_type": "stream",
     "text": [
      "\n",
      "Decoding ripples for Animal HPa, Day 8, Epoch #2:\n"
     ]
    }
   ],
   "source": [
    "epoch_index = ('HPa', 8, 2)\n",
    "print('\\nDecoding ripples for Animal {0}, Day {1}, Epoch #{2}:'.format(\n",
    "    *epoch_index))"
   ]
  },
  {
   "cell_type": "code",
   "execution_count": 4,
   "metadata": {
    "collapsed": true
   },
   "outputs": [],
   "source": [
    "n_place_bins = 61\n",
    "place_std_deviation = None"
   ]
  },
  {
   "cell_type": "code",
   "execution_count": 5,
   "metadata": {
    "collapsed": true
   },
   "outputs": [],
   "source": [
    "def _get_place(position_info):\n",
    "    return [position_info.loc[:, 'linear_distance'].values]\n",
    "\n",
    "\n",
    "def _get_place_at_spike(mark_tetrode_data, position_info):\n",
    "    return [mark_tetrode_data.join(position_info).dropna().linear_distance.values]\n",
    "\n",
    "\n",
    "def _get_training_marks(mark_tetrode_data, position_info, mark_variables):\n",
    "    return [mark_tetrode_data.join(position_info).dropna().loc[:, mark_variables].values]"
   ]
  },
  {
   "cell_type": "code",
   "execution_count": 6,
   "metadata": {
    "collapsed": false
   },
   "outputs": [
    {
     "data": {
      "text/html": [
       "<div>\n",
       "<table border=\"1\" class=\"dataframe\">\n",
       "  <thead>\n",
       "    <tr style=\"text-align: right;\">\n",
       "      <th></th>\n",
       "      <th></th>\n",
       "      <th></th>\n",
       "      <th></th>\n",
       "      <th>area</th>\n",
       "      <th>depth</th>\n",
       "      <th>descrip</th>\n",
       "      <th>numcells</th>\n",
       "      <th>animal</th>\n",
       "      <th>day</th>\n",
       "      <th>epoch_ind</th>\n",
       "      <th>tetrode_number</th>\n",
       "      <th>tetrode_id</th>\n",
       "    </tr>\n",
       "    <tr>\n",
       "      <th>animal</th>\n",
       "      <th>day</th>\n",
       "      <th>epoch_ind</th>\n",
       "      <th>tetrode_number</th>\n",
       "      <th></th>\n",
       "      <th></th>\n",
       "      <th></th>\n",
       "      <th></th>\n",
       "      <th></th>\n",
       "      <th></th>\n",
       "      <th></th>\n",
       "      <th></th>\n",
       "      <th></th>\n",
       "    </tr>\n",
       "  </thead>\n",
       "  <tbody>\n",
       "    <tr>\n",
       "      <th rowspan=\"13\" valign=\"top\">HPa</th>\n",
       "      <th rowspan=\"13\" valign=\"top\">8</th>\n",
       "      <th rowspan=\"13\" valign=\"top\">2</th>\n",
       "      <th>1</th>\n",
       "      <td>CA1</td>\n",
       "      <td>113</td>\n",
       "      <td>riptet</td>\n",
       "      <td>12</td>\n",
       "      <td>HPa</td>\n",
       "      <td>8</td>\n",
       "      <td>2</td>\n",
       "      <td>1</td>\n",
       "      <td>HPa821</td>\n",
       "    </tr>\n",
       "    <tr>\n",
       "      <th>2</th>\n",
       "      <td>CA1</td>\n",
       "      <td>121</td>\n",
       "      <td>NaN</td>\n",
       "      <td>0</td>\n",
       "      <td>HPa</td>\n",
       "      <td>8</td>\n",
       "      <td>2</td>\n",
       "      <td>2</td>\n",
       "      <td>HPa822</td>\n",
       "    </tr>\n",
       "    <tr>\n",
       "      <th>4</th>\n",
       "      <td>CA1</td>\n",
       "      <td>116</td>\n",
       "      <td>riptet</td>\n",
       "      <td>15</td>\n",
       "      <td>HPa</td>\n",
       "      <td>8</td>\n",
       "      <td>2</td>\n",
       "      <td>4</td>\n",
       "      <td>HPa824</td>\n",
       "    </tr>\n",
       "    <tr>\n",
       "      <th>5</th>\n",
       "      <td>CA1</td>\n",
       "      <td>116</td>\n",
       "      <td>riptet</td>\n",
       "      <td>0</td>\n",
       "      <td>HPa</td>\n",
       "      <td>8</td>\n",
       "      <td>2</td>\n",
       "      <td>5</td>\n",
       "      <td>HPa825</td>\n",
       "    </tr>\n",
       "    <tr>\n",
       "      <th>6</th>\n",
       "      <td>CA1</td>\n",
       "      <td>110</td>\n",
       "      <td>riptet</td>\n",
       "      <td>0</td>\n",
       "      <td>HPa</td>\n",
       "      <td>8</td>\n",
       "      <td>2</td>\n",
       "      <td>6</td>\n",
       "      <td>HPa826</td>\n",
       "    </tr>\n",
       "    <tr>\n",
       "      <th>7</th>\n",
       "      <td>CA1</td>\n",
       "      <td>114</td>\n",
       "      <td>riptet</td>\n",
       "      <td>0</td>\n",
       "      <td>HPa</td>\n",
       "      <td>8</td>\n",
       "      <td>2</td>\n",
       "      <td>7</td>\n",
       "      <td>HPa827</td>\n",
       "    </tr>\n",
       "    <tr>\n",
       "      <th>8</th>\n",
       "      <td>iCA1</td>\n",
       "      <td>114</td>\n",
       "      <td>riptet</td>\n",
       "      <td>0</td>\n",
       "      <td>HPa</td>\n",
       "      <td>8</td>\n",
       "      <td>2</td>\n",
       "      <td>8</td>\n",
       "      <td>HPa828</td>\n",
       "    </tr>\n",
       "    <tr>\n",
       "      <th>9</th>\n",
       "      <td>iCA1</td>\n",
       "      <td>100</td>\n",
       "      <td>riptet</td>\n",
       "      <td>0</td>\n",
       "      <td>HPa</td>\n",
       "      <td>8</td>\n",
       "      <td>2</td>\n",
       "      <td>9</td>\n",
       "      <td>HPa829</td>\n",
       "    </tr>\n",
       "    <tr>\n",
       "      <th>10</th>\n",
       "      <td>iCA1</td>\n",
       "      <td>96</td>\n",
       "      <td>NaN</td>\n",
       "      <td>0</td>\n",
       "      <td>HPa</td>\n",
       "      <td>8</td>\n",
       "      <td>2</td>\n",
       "      <td>10</td>\n",
       "      <td>HPa8210</td>\n",
       "    </tr>\n",
       "    <tr>\n",
       "      <th>11</th>\n",
       "      <td>iCA1</td>\n",
       "      <td>106</td>\n",
       "      <td>riptet</td>\n",
       "      <td>0</td>\n",
       "      <td>HPa</td>\n",
       "      <td>8</td>\n",
       "      <td>2</td>\n",
       "      <td>11</td>\n",
       "      <td>HPa8211</td>\n",
       "    </tr>\n",
       "    <tr>\n",
       "      <th>12</th>\n",
       "      <td>iCA1</td>\n",
       "      <td>114</td>\n",
       "      <td>riptet</td>\n",
       "      <td>3</td>\n",
       "      <td>HPa</td>\n",
       "      <td>8</td>\n",
       "      <td>2</td>\n",
       "      <td>12</td>\n",
       "      <td>HPa8212</td>\n",
       "    </tr>\n",
       "    <tr>\n",
       "      <th>13</th>\n",
       "      <td>iCA1</td>\n",
       "      <td>120</td>\n",
       "      <td>NaN</td>\n",
       "      <td>0</td>\n",
       "      <td>HPa</td>\n",
       "      <td>8</td>\n",
       "      <td>2</td>\n",
       "      <td>13</td>\n",
       "      <td>HPa8213</td>\n",
       "    </tr>\n",
       "    <tr>\n",
       "      <th>14</th>\n",
       "      <td>iCA1</td>\n",
       "      <td>105</td>\n",
       "      <td>riptet</td>\n",
       "      <td>6</td>\n",
       "      <td>HPa</td>\n",
       "      <td>8</td>\n",
       "      <td>2</td>\n",
       "      <td>14</td>\n",
       "      <td>HPa8214</td>\n",
       "    </tr>\n",
       "  </tbody>\n",
       "</table>\n",
       "</div>"
      ],
      "text/plain": [
       "                                     area  depth descrip  numcells animal  \\\n",
       "animal day epoch_ind tetrode_number                                         \n",
       "HPa    8   2         1                CA1    113  riptet        12    HPa   \n",
       "                     2                CA1    121     NaN         0    HPa   \n",
       "                     4                CA1    116  riptet        15    HPa   \n",
       "                     5                CA1    116  riptet         0    HPa   \n",
       "                     6                CA1    110  riptet         0    HPa   \n",
       "                     7                CA1    114  riptet         0    HPa   \n",
       "                     8               iCA1    114  riptet         0    HPa   \n",
       "                     9               iCA1    100  riptet         0    HPa   \n",
       "                     10              iCA1     96     NaN         0    HPa   \n",
       "                     11              iCA1    106  riptet         0    HPa   \n",
       "                     12              iCA1    114  riptet         3    HPa   \n",
       "                     13              iCA1    120     NaN         0    HPa   \n",
       "                     14              iCA1    105  riptet         6    HPa   \n",
       "\n",
       "                                     day  epoch_ind  tetrode_number tetrode_id  \n",
       "animal day epoch_ind tetrode_number                                             \n",
       "HPa    8   2         1                 8          2               1     HPa821  \n",
       "                     2                 8          2               2     HPa822  \n",
       "                     4                 8          2               4     HPa824  \n",
       "                     5                 8          2               5     HPa825  \n",
       "                     6                 8          2               6     HPa826  \n",
       "                     7                 8          2               7     HPa827  \n",
       "                     8                 8          2               8     HPa828  \n",
       "                     9                 8          2               9     HPa829  \n",
       "                     10                8          2              10    HPa8210  \n",
       "                     11                8          2              11    HPa8211  \n",
       "                     12                8          2              12    HPa8212  \n",
       "                     13                8          2              13    HPa8213  \n",
       "                     14                8          2              14    HPa8214  "
      ]
     },
     "execution_count": 6,
     "metadata": {},
     "output_type": "execute_result"
    }
   ],
   "source": [
    "tetrode_info = make_tetrode_dataframe(animals)[\n",
    "    epoch_index]\n",
    "\n",
    "tetrode_info.loc[\n",
    "    tetrode_info.area.isin(['CA1', 'iCA1']) &\n",
    "    (tetrode_info.descrip != 'CA1Ref'), :]"
   ]
  },
  {
   "cell_type": "code",
   "execution_count": 7,
   "metadata": {
    "collapsed": false
   },
   "outputs": [],
   "source": [
    "mark_variables = ['channel_1_max', 'channel_2_max', 'channel_3_max',\n",
    "                  'channel_4_max']\n",
    "tetrode_marks = [(get_mark_indicator_dataframe(tetrode_index, animals)\n",
    "                  .loc[:, mark_variables])\n",
    "                 for tetrode_index in tetrode_info.loc[\n",
    "    tetrode_info.area.isin(['CA1', 'iCA1']) &\n",
    "    (tetrode_info.descrip != 'CA1Ref'), :].index]\n",
    "\n",
    "position_variables = ['linear_distance', 'trajectory_direction',\n",
    "                      'speed']\n",
    "position_info = get_interpolated_position_dataframe(\n",
    "    epoch_index, animals)"
   ]
  },
  {
   "cell_type": "code",
   "execution_count": 8,
   "metadata": {
    "collapsed": false
   },
   "outputs": [],
   "source": [
    "train_position_info = position_info.query('speed > 4')\n",
    "\n",
    "place = _get_place(train_position_info)\n",
    "place_at_spike = [_get_place_at_spike(mark_tetrode_data,\n",
    "                                      train_position_info)\n",
    "                  for mark_tetrode_data in tetrode_marks]\n",
    "training_marks = [_get_training_marks(mark_tetrode_data,\n",
    "                                      train_position_info,\n",
    "                                      mark_variables)\n",
    "                  for mark_tetrode_data in tetrode_marks]\n",
    "\n",
    "place_bin_edges = np.linspace(\n",
    "    np.floor(position_info.linear_distance.min()),\n",
    "    np.ceil(position_info.linear_distance.max()),\n",
    "    n_place_bins + 1)\n",
    "place_bin_centers = _get_bin_centers(place_bin_edges)\n",
    "\n",
    "if place_std_deviation is None:\n",
    "    place_std_deviation = place_bin_edges[1] - place_bin_edges[0]\n",
    "\n",
    "(place_occupancy, ground_process_intensity, place_field_estimator,\n",
    " training_marks) = estimate_marked_encoding_model(\n",
    "    place_bin_centers, place, place_at_spike, training_marks,\n",
    "    place_std_deviation=place_std_deviation)\n",
    "\n",
    "mark_std_deviation = 20\n",
    "\n",
    "fixed_joint_mark_intensity = partial(\n",
    "    joint_mark_intensity, place_field_estimator=place_field_estimator,\n",
    "    place_occupancy=place_occupancy, training_marks=training_marks,\n",
    "    mark_std_deviation=mark_std_deviation)\n",
    "\n",
    "combined_likelihood_kwargs = dict(\n",
    "    likelihood_function=poisson_mark_likelihood,\n",
    "    likelihood_kwargs=dict(\n",
    "        joint_mark_intensity=fixed_joint_mark_intensity,\n",
    "        ground_process_intensity=ground_process_intensity)\n",
    ")"
   ]
  },
  {
   "cell_type": "code",
   "execution_count": 9,
   "metadata": {
    "collapsed": true
   },
   "outputs": [],
   "source": [
    "state_transition = empirical_movement_transition_matrix(\n",
    "        train_position_info.linear_distance.values,\n",
    "        place_bin_edges)"
   ]
  },
  {
   "cell_type": "code",
   "execution_count": 10,
   "metadata": {
    "collapsed": true
   },
   "outputs": [],
   "source": [
    "initial_conditions = np.ones(place_bin_centers.shape[0]) / place_bin_centers.shape[0]"
   ]
  },
  {
   "cell_type": "code",
   "execution_count": 11,
   "metadata": {
    "collapsed": true
   },
   "outputs": [],
   "source": [
    "decoder_kwargs = dict(\n",
    "    initial_conditions=initial_conditions,\n",
    "    state_transition=state_transition,\n",
    "    likelihood_function=combined_likelihood,\n",
    "    likelihood_kwargs=combined_likelihood_kwargs\n",
    ")"
   ]
  },
  {
   "cell_type": "code",
   "execution_count": 12,
   "metadata": {
    "collapsed": true
   },
   "outputs": [],
   "source": [
    "def _get_marks(tetrode_marks, position_info, mark_variables, trial_number):\n",
    "    return np.stack([(position_info\n",
    "                     .loc[position_info.trial_number == trial_number, :]\n",
    "                     .join(mark_tetrode_data)\n",
    "                     .loc[:, mark_variables].values)\n",
    "    for mark_tetrode_data in tetrode_marks], axis=1)\n",
    "\n",
    "trials = position_info.trial_number.unique()\n",
    "test_marks = [_get_marks(\n",
    "            tetrode_marks, position_info, mark_variables, trial_number)\n",
    "              for trial_number in trials]"
   ]
  },
  {
   "cell_type": "code",
   "execution_count": 13,
   "metadata": {
    "collapsed": false
   },
   "outputs": [
    {
     "name": "stderr",
     "output_type": "stream",
     "text": [
      "Widget Javascript not detected.  It may not be installed properly. Did you enable the widgetsnbextension? If not, then run \"jupyter nbextension enable --py --sys-prefix widgetsnbextension\"\n",
      "/Users/edeno/anaconda3/envs/Jadhav-2016-Data-Analysis/lib/python3.5/site-packages/scipy/stats/_distn_infrastructure.py:872: RuntimeWarning: invalid value encountered in greater_equal\n",
      "  return (self.a <= x) & (x <= self.b)\n",
      "/Users/edeno/anaconda3/envs/Jadhav-2016-Data-Analysis/lib/python3.5/site-packages/scipy/stats/_distn_infrastructure.py:872: RuntimeWarning: invalid value encountered in less_equal\n",
      "  return (self.a <= x) & (x <= self.b)\n"
     ]
    },
    {
     "name": "stdout",
     "output_type": "stream",
     "text": [
      "\n"
     ]
    }
   ],
   "source": [
    "posterior_density = [predict_state(ripple_marks, **decoder_kwargs, debug=True)\n",
    "                     for ripple_marks in tqdm(test_marks[199:202])]"
   ]
  },
  {
   "cell_type": "code",
   "execution_count": 25,
   "metadata": {
    "collapsed": false
   },
   "outputs": [
    {
     "data": {
      "text/plain": [
       "<matplotlib.text.Text at 0x1d9a9bb70>"
      ]
     },
     "execution_count": 25,
     "metadata": {},
     "output_type": "execute_result"
    },
    {
     "data": {
      "image/png": "[encoded data removed]",
      "text/plain": [
       "<matplotlib.figure.Figure at 0x11bc9c860>"
      ]
     },
     "metadata": {},
     "output_type": "display_data"
    }
   ],
   "source": [
    "time = position_info[position_info.trial_number == 200].index.values\n",
    "[time_grid, place_bins] = np.meshgrid(time, place_bin_centers)\n",
    "plt.pcolormesh(time_grid, place_bins, posterior_density[0][0].T, cmap='viridis', vmin=0, vmax=0.1)\n",
    "position_info[position_info.trial_number == 200].linear_distance.plot(color='red')\n",
    "plt.ylabel('Linear Distance')"
   ]
  },
  {
   "cell_type": "code",
   "execution_count": null,
   "metadata": {
    "collapsed": true
   },
   "outputs": [],
   "source": []
  }
 ],
 "metadata": {
  "anaconda-cloud": {},
  "kernelspec": {
   "display_name": "Python [Jadhav-2016-Data-Analysis]",
   "language": "python",
   "name": "Python [Jadhav-2016-Data-Analysis]"
  },
  "language_info": {
   "codemirror_mode": {
    "name": "ipython",
    "version": 3
   },
   "file_extension": ".py",
   "mimetype": "text/x-python",
   "name": "python",
   "nbconvert_exporter": "python",
   "pygments_lexer": "ipython3",
   "version": "3.5.2"
  },
  "widgets": {
   "state": {
    "fa42f2e4494f42c4862b56cfd70b0566": {
     "views": [
      {
       "cell_index": 12
      }
     ]
    }
   },
   "version": "1.2.0"
  }
 },
 "nbformat": 4,
 "nbformat_minor": 0
}
