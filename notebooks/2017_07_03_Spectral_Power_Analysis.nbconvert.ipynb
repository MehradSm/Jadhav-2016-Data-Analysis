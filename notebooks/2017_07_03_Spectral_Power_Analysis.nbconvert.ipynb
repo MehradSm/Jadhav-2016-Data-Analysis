{
 "cells": [
  {
   "cell_type": "code",
   "execution_count": null,
   "metadata": {
    "collapsed": true
   },
   "outputs": [],
   "source": [
    "%matplotlib inline\n",
    "%reload_ext autoreload\n",
    "%autoreload 2"
   ]
  },
  {
   "cell_type": "code",
   "execution_count": null,
   "metadata": {},
   "outputs": [],
   "source": [
    "from IPython.display import HTML\n",
    "\n",
    "HTML('''<script>\n",
    "code_show=true; \n",
    "function code_toggle() {\n",
    " if (code_show){\n",
    " $('div.input').hide();\n",
    " $('div.output_stderr').hide();\n",
    " } else {\n",
    " $('div.input').show();\n",
    " $('div.output_stderr').show();\n",
    " }\n",
    " code_show = !code_show\n",
    "} \n",
    "$( document ).ready(code_toggle);\n",
    "</script>\n",
    "<form action='javascript:code_toggle()'><input STYLE='color: #4286f4' type='submit' value='Click here to toggle on/off the raw code.'></form>''')"
   ]
  },
  {
   "cell_type": "markdown",
   "metadata": {},
   "source": [
    "# Purpose\n",
    "This notebook is for the spectral analysis with our confidence of the ripple state classification >= 0.7."
   ]
  },
  {
   "cell_type": "code",
   "execution_count": null,
   "metadata": {
    "collapsed": true
   },
   "outputs": [],
   "source": [
    "import numpy as np\n",
    "import matplotlib.pyplot as plt\n",
    "import seaborn as sns\n",
    "import pandas as pd\n",
    "import xarray as xr\n",
    "\n",
    "from src.data_processing import read_netcdfs\n",
    "\n",
    "import warnings\n",
    "warnings.filterwarnings('ignore', 'numpy equal will not check object identity in the future')"
   ]
  },
  {
   "cell_type": "code",
   "execution_count": null,
   "metadata": {
    "collapsed": true
   },
   "outputs": [],
   "source": [
    "from matplotlib.colors import LogNorm\n",
    "\n",
    "def plot_power(path, group, brain_area, transform_func=None, figsize=(15, 5), vmin=(1/2), vmax=2):\n",
    "    ds = read_netcdfs(path, dim='session', group=group, transform_func=transform_func)\n",
    "    baseline = ds.isel(time=0).mean(['session', 'tetrode']).power\n",
    "    raw_measure = ds.mean(['session', 'tetrode']).power\n",
    "    diff_from_baseline = (ds / ds.isel(time=0)).mean(['session', 'tetrode']).power\n",
    "\n",
    "    fig, axes = plt.subplots(1, 3, figsize=figsize)\n",
    "    baseline.plot(ax=axes[0]);\n",
    "    axes[0].set_title('Baseline Power')\n",
    "    raw_measure.plot(x='time', y='frequency', ax=axes[1]);\n",
    "    axes[1].set_title('Raw power')\n",
    "    diff_from_baseline.plot(\n",
    "        x='time', y='frequency', ax=axes[2],\n",
    "        norm=LogNorm(vmin=vmin, vmax=vmax), cmap='RdBu_r',\n",
    "        vmin=vmin, vmax=vmax);\n",
    "    axes[2].set_title('Difference from baseline power')\n",
    "    \n",
    "    for ax in axes[1:]:\n",
    "        ax.axvline(0, color='black', linestyle='--')\n",
    "    \n",
    "    plt.tight_layout()\n",
    "    plt.suptitle(brain_area, fontsize=18, fontweight='bold')\n",
    "    plt.subplots_adjust(top=0.85)"
   ]
  },
  {
   "cell_type": "markdown",
   "metadata": {},
   "source": [
    "## All Ripples - All Animals\n",
    "\n",
    "### Low Frequencies - 2 Hz Frequency Resolution"
   ]
  },
  {
   "cell_type": "code",
   "execution_count": null,
   "metadata": {},
   "outputs": [],
   "source": [
    "frequency = slice(0, 30)\n",
    "path = '../Processed-Data/*.nc'\n",
    "group = '2Hz_Resolution/all_ripples/power'\n",
    "transform_func = lambda ds: ds.sel(\n",
    "    tetrode=ds.tetrode[ds.brain_area==brain_area],\n",
    "    frequency=frequency\n",
    ")\n",
    "brain_areas = ['CA1', 'iCA1', 'PFC']\n",
    "\n",
    "for brain_area in brain_areas:\n",
    "    plot_power(path, group, brain_area, transform_func=transform_func)"
   ]
  },
  {
   "cell_type": "markdown",
   "metadata": {},
   "source": [
    "### Low Frequencies - 4 Hz Frequency Resolution"
   ]
  },
  {
   "cell_type": "code",
   "execution_count": null,
   "metadata": {},
   "outputs": [],
   "source": [
    "frequency = slice(0, 30)\n",
    "path = '../Processed-Data/*.nc'\n",
    "group = '4Hz_Resolution/all_ripples/power'\n",
    "transform_func = lambda ds: ds.sel(\n",
    "    tetrode=ds.tetrode[ds.brain_area==brain_area],\n",
    "    frequency=frequency\n",
    ")\n",
    "brain_areas = ['CA1', 'iCA1', 'PFC']\n",
    "\n",
    "for brain_area in brain_areas:\n",
    "    plot_power(path, group, brain_area, transform_func=transform_func)"
   ]
  },
  {
   "cell_type": "markdown",
   "metadata": {},
   "source": [
    "### Low Frequencies - 10 Hz Frequency Resolution"
   ]
  },
  {
   "cell_type": "code",
   "execution_count": null,
   "metadata": {},
   "outputs": [],
   "source": [
    "frequency = slice(0, 30)\n",
    "path = '../Processed-Data/*.nc'\n",
    "group = '10Hz_Resolution/all_ripples/power'\n",
    "transform_func = lambda ds: ds.sel(\n",
    "    tetrode=ds.tetrode[ds.brain_area==brain_area],\n",
    "    frequency=frequency\n",
    ")\n",
    "brain_areas = ['CA1', 'iCA1', 'PFC']\n",
    "\n",
    "for brain_area in brain_areas:\n",
    "    plot_power(path, group, brain_area, transform_func=transform_func)"
   ]
  },
  {
   "cell_type": "markdown",
   "metadata": {},
   "source": [
    "### Gamma Frequencies - 4 Hz Frequency Resolution"
   ]
  },
  {
   "cell_type": "code",
   "execution_count": null,
   "metadata": {},
   "outputs": [],
   "source": [
    "frequency = slice(20, 125)\n",
    "path = '../Processed-Data/*.nc'\n",
    "group = '4Hz_Resolution/all_ripples/power'\n",
    "transform_func = lambda ds: ds.sel(\n",
    "    tetrode=ds.tetrode[ds.brain_area==brain_area],\n",
    "    frequency=frequency\n",
    ")\n",
    "brain_areas = ['CA1', 'iCA1', 'PFC']\n",
    "\n",
    "for brain_area in brain_areas:\n",
    "    plot_power(path, group, brain_area, transform_func=transform_func)"
   ]
  },
  {
   "cell_type": "markdown",
   "metadata": {},
   "source": [
    "### Gamma Frequencies - 10 Hz Frequency Resolution"
   ]
  },
  {
   "cell_type": "code",
   "execution_count": null,
   "metadata": {},
   "outputs": [],
   "source": [
    "frequency = slice(20, 125)\n",
    "path = '../Processed-Data/*.nc'\n",
    "group = '10Hz_Resolution/all_ripples/power'\n",
    "transform_func = lambda ds: ds.sel(\n",
    "    tetrode=ds.tetrode[ds.brain_area==brain_area],\n",
    "    frequency=frequency\n",
    ")\n",
    "brain_areas = ['CA1', 'iCA1', 'PFC']\n",
    "\n",
    "for brain_area in brain_areas:\n",
    "    plot_power(path, group, brain_area, transform_func=transform_func)"
   ]
  },
  {
   "cell_type": "markdown",
   "metadata": {},
   "source": [
    "### Gamma Frequencies - 20 Hz Frequency Resolution"
   ]
  },
  {
   "cell_type": "code",
   "execution_count": null,
   "metadata": {},
   "outputs": [],
   "source": [
    "frequency = slice(20, 125)\n",
    "path = '../Processed-Data/*.nc'\n",
    "group = '20Hz_Resolution/all_ripples/power'\n",
    "transform_func = lambda ds: ds.sel(\n",
    "    tetrode=ds.tetrode[ds.brain_area==brain_area],\n",
    "    frequency=frequency\n",
    ")\n",
    "brain_areas = ['CA1', 'iCA1', 'PFC']\n",
    "\n",
    "for brain_area in brain_areas:\n",
    "    plot_power(path, group, brain_area, transform_func=transform_func)"
   ]
  },
  {
   "cell_type": "markdown",
   "metadata": {},
   "source": [
    "### Ripple Frequencies - 10 Hz Frequency Resolution"
   ]
  },
  {
   "cell_type": "code",
   "execution_count": null,
   "metadata": {},
   "outputs": [],
   "source": [
    "frequency = slice(100, 300)\n",
    "path = '../Processed-Data/*.nc'\n",
    "group = '10Hz_Resolution/all_ripples/power'\n",
    "transform_func = lambda ds: ds.sel(\n",
    "    tetrode=ds.tetrode[ds.brain_area==brain_area],\n",
    "    frequency=frequency\n",
    ")\n",
    "brain_areas = ['CA1', 'iCA1', 'PFC']\n",
    "\n",
    "for brain_area in brain_areas:\n",
    "    plot_power(path, group, brain_area, transform_func=transform_func)"
   ]
  },
  {
   "cell_type": "markdown",
   "metadata": {},
   "source": [
    "### Ripple Frequencies - 20 Hz Frequency Resolution"
   ]
  },
  {
   "cell_type": "code",
   "execution_count": null,
   "metadata": {},
   "outputs": [],
   "source": [
    "frequency = slice(100, 300)\n",
    "path = '../Processed-Data/*.nc'\n",
    "group = '20Hz_Resolution/all_ripples/power'\n",
    "transform_func = lambda ds: ds.sel(\n",
    "    tetrode=ds.tetrode[ds.brain_area==brain_area],\n",
    "    frequency=frequency\n",
    ")\n",
    "brain_areas = ['CA1', 'iCA1', 'PFC']\n",
    "\n",
    "for brain_area in brain_areas:\n",
    "    plot_power(path, group, brain_area, transform_func=transform_func)"
   ]
  },
  {
   "cell_type": "markdown",
   "metadata": {},
   "source": [
    "### Ripple Frequencies - 50 Hz Frequency Resolution"
   ]
  },
  {
   "cell_type": "code",
   "execution_count": null,
   "metadata": {},
   "outputs": [],
   "source": [
    "frequency = slice(100, 300)\n",
    "path = '../Processed-Data/*.nc'\n",
    "group = '50Hz_Resolution/all_ripples/power'\n",
    "transform_func = lambda ds: ds.sel(\n",
    "    tetrode=ds.tetrode[ds.brain_area==brain_area],\n",
    "    frequency=frequency\n",
    ")\n",
    "brain_areas = ['CA1', 'iCA1', 'PFC']\n",
    "\n",
    "for brain_area in brain_areas:\n",
    "    plot_power(path, group, brain_area, transform_func=transform_func)"
   ]
  },
  {
   "cell_type": "code",
   "execution_count": null,
   "metadata": {
    "collapsed": true
   },
   "outputs": [],
   "source": []
  }
 ],
 "metadata": {
  "anaconda-cloud": {},
  "kernelspec": {
   "display_name": "Python [default]",
   "language": "python",
   "name": "python3"
  },
  "language_info": {
   "codemirror_mode": {
    "name": "ipython",
    "version": 3
   },
   "file_extension": ".py",
   "mimetype": "text/x-python",
   "name": "python",
   "nbconvert_exporter": "python",
   "pygments_lexer": "ipython3",
   "version": "3.5.3"
  }
 },
 "nbformat": 4,
 "nbformat_minor": 2
}
