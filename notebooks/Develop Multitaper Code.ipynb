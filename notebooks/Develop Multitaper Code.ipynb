{
 "cells": [
  {
   "cell_type": "code",
   "execution_count": 1,
   "metadata": {
    "collapsed": true
   },
   "outputs": [],
   "source": [
    "%matplotlib inline\n",
    "%reload_ext autoreload\n",
    "%autoreload 2\n",
    "%qtconsole\n",
    "import os\n",
    "import sys\n",
    "import scipy.fftpack\n",
    "import scipy.signal\n",
    "import numpy as np\n",
    "import matplotlib.pyplot as plt\n",
    "import matplotlib.colors as clr\n",
    "import matplotlib.patches as patches\n",
    "import seaborn as sns\n",
    "import pandas as pd\n",
    "import tqdm\n",
    "import nitime.algorithms.spectral\n",
    "\n",
    "sys.path.append('../src/')\n",
    "import data_filter as df\n",
    "import ripples\n",
    "import spectral"
   ]
  },
  {
   "cell_type": "code",
   "execution_count": 128,
   "metadata": {
    "collapsed": false
   },
   "outputs": [
    {
     "name": "stdout",
     "output_type": "stream",
     "text": [
      "257\n",
      "(0.0, 500.0)\n",
      "\n",
      "\n",
      "52\n",
      "(0.0, 99.609375)\n",
      "\n",
      "\n",
      "257\n",
      "(0.0, 500.0)\n"
     ]
    }
   ],
   "source": [
    "def _get_frequencies(sampling_frequency, number_of_fft_samples, desired_frequencies=None):\n",
    "    ''' Returns the frequencies and frequency index. Desired frequencies is a two element\n",
    "    tuple that defines the range of frequencies returned. If unset, all frequencies from 0\n",
    "    to the Nyquist (sampling_frequency / 2) are returned.\n",
    "    '''\n",
    "    if desired_frequencies is None:\n",
    "        desired_frequencies = [0, sampling_frequency / 2]\n",
    "    frequency_step = sampling_frequency / number_of_fft_samples\n",
    "    frequencies = np.arange(0, sampling_frequency + frequency_step, frequency_step)\n",
    "    frequencies = frequencies[:number_of_fft_samples]\n",
    "    frequency_ind = np.where((desired_frequencies[0] <= frequencies) &\n",
    "                             (frequencies <= desired_frequencies[1]))[0]\n",
    "    return frequencies[frequency_ind], frequency_ind\n",
    "\n",
    "frequencies, ind = _get_frequencies(1000, 512)\n",
    "print(len(ind))\n",
    "print((frequencies.min(), frequencies.max()))\n",
    "frequencies, ind = _get_frequencies(1000, 512, desired_frequencies=(0, 100))\n",
    "print('\\n')\n",
    "print(len(ind))\n",
    "print((frequencies.min(), frequencies.max()))\n",
    "frequencies, ind = _get_frequencies(1000, 512, desired_frequencies=(0, 500))\n",
    "print('\\n')\n",
    "print(len(ind))\n",
    "print((frequencies.min(), frequencies.max()))"
   ]
  },
  {
   "cell_type": "code",
   "execution_count": 64,
   "metadata": {
    "collapsed": false
   },
   "outputs": [
    {
     "data": {
      "text/plain": [
       "(5, 200)"
      ]
     },
     "execution_count": 64,
     "metadata": {},
     "output_type": "execute_result"
    }
   ],
   "source": [
    "def _dpss(time_series_length, sampling_frequency, time_halfbandwidth_product, number_of_tapers):\n",
    "    tapers, _ = nitime.algorithms.spectral.dpss_windows(time_series_length,\n",
    "                                            time_halfbandwidth_product,\n",
    "                                            number_of_tapers)\n",
    "    return tapers * np.sqrt(sampling_frequency)\n",
    "\n",
    "\n",
    "tapers = _dpss(200, 1000, 3, 5)\n",
    "tapers.shape"
   ]
  },
  {
   "cell_type": "code",
   "execution_count": 132,
   "metadata": {
    "collapsed": false
   },
   "outputs": [
    {
     "data": {
      "text/plain": [
       "[<matplotlib.lines.Line2D at 0x11939bfd0>]"
      ]
     },
     "execution_count": 132,
     "metadata": {},
     "output_type": "execute_result"
    },
    {
     "data": {
      "image/png": "[encoded data removed]",
      "text/plain": [
       "<matplotlib.figure.Figure at 0x119acd630>"
      ]
     },
     "metadata": {},
     "output_type": "display_data"
    }
   ],
   "source": [
    "def _multitaper_fft(tapers, data, number_of_fft_samples, sampling_frequency):\n",
    "    return scipy.fftpack.fft(tapers * data, n=number_of_fft_samples, axis=-1) / sampling_frequency\n",
    "\n",
    "def _nextpower2(n):\n",
    "    \"\"\"Return the next integral power of two greater than the given number.\n",
    "    Specifically, return m such that\n",
    "        m >= n\n",
    "        m == 2**x\n",
    "    where x is an integer.\n",
    "    This is useful for ensuring fast FFT sizes.\n",
    "    \"\"\"\n",
    "    return int(2**np.ceil(np.log2(n)))\n",
    "\n",
    "    \n",
    "def multitaper_spectrum(data, sampling_frequency, desired_frequencies=None,\n",
    "                        time_halfbandwidth_product=3, number_of_tapers=None, pad=0):\n",
    "    if number_of_tapers is None:\n",
    "        number_of_tapers = np.floor(2 * time_halfbandwidth_product - 1)\n",
    "    if pad is None:\n",
    "        pad = -1\n",
    "    time_series_length = data.shape[0]\n",
    "    number_of_fft_samples = max(_nextpower2(time_series_length) + pad, time_series_length)\n",
    "\n",
    "    frequencies, freq_ind = _get_frequencies(sampling_frequency, number_of_fft_samples,\n",
    "                                             desired_frequencies=desired_frequencies)\n",
    "    tapers = _dpss(time_series_length, sampling_frequency, time_halfbandwidth_product, number_of_tapers)\n",
    "    complex_spectrum = _multitaper_fft(tapers, data, number_of_fft_samples, sampling_frequency)\n",
    "    return complex_spectrum, frequencies, freq_ind\n",
    "\n",
    "def multitaper_power_spectral_density(data, sampling_frequency, desired_frequencies=None,\n",
    "                        time_halfbandwidth_product=3, number_of_tapers=None, pad=0):\n",
    "    complex_spectrum, frequencies, freq_ind = multitaper_spectrum(data, sampling_frequency,\n",
    "                                                                  desired_frequencies=desired_frequencies,\n",
    "                                                                  time_halfbandwidth_product=time_halfbandwidth_product,\n",
    "                                                                  number_of_tapers=number_of_tapers)\n",
    "    psd = np.real(np.conj(complex_spectrum[:, freq_ind]) * complex_spectrum[:, freq_ind])\n",
    "    return np.mean(psd, axis=0).squeeze(), frequencies\n",
    "\n",
    "# Test Signal\n",
    "fs = 10e3\n",
    "N = 1e5\n",
    "amp = 2*np.sqrt(2)\n",
    "freq = 1234.0\n",
    "noise_power = 0.001 * fs / 2\n",
    "time = np.arange(N) / fs\n",
    "x = amp*np.sin(2*np.pi*freq*time)\n",
    "x += np.random.normal(scale=np.sqrt(noise_power), size=time.shape)\n",
    "psd, frequencies = multitaper_power_spectral_density(x, fs)\n",
    "plt.plot(frequencies, psd)"
   ]
  },
  {
   "cell_type": "code",
   "execution_count": 161,
   "metadata": {
    "collapsed": false
   },
   "outputs": [
    {
     "data": {
      "text/plain": [
       "[<matplotlib.lines.Line2D at 0x11c03fb38>]"
      ]
     },
     "execution_count": 161,
     "metadata": {},
     "output_type": "execute_result"
    },
    {
     "data": {
      "image/png": "[encoded data removed]",
      "text/plain": [
       "<matplotlib.figure.Figure at 0x11eaf5f98>"
      ]
     },
     "metadata": {},
     "output_type": "display_data"
    }
   ],
   "source": [
    "fs = 10e3\n",
    "N = 1e5\n",
    "amp = 20\n",
    "freq = 1234.0\n",
    "noise_power = 0.001 * fs / 2\n",
    "time = np.arange(N) / fs\n",
    "b, a = scipy.signal.butter(2, 0.25, 'low')\n",
    "x = np.random.normal(scale=np.sqrt(noise_power), size=time.shape)\n",
    "y = scipy.signal.lfilter(b, a, x)\n",
    "x += amp*np.sin(2*np.pi*freq*time)\n",
    "y += np.random.normal(scale=0.1*np.sqrt(noise_power), size=time.shape)\n",
    "\n",
    "mag, angle, freq = spectral.multitaper_coherency(x, y, fs)\n",
    "\n",
    "fig = plt.figure()\n",
    "\n",
    "ax1 = fig.add_subplot(131)\n",
    "ax1.semilogy(freq, mag)\n",
    "\n",
    "ax2 = fig.add_subplot(132)\n",
    "psd, frequencies = multitaper_power_spectral_density(x, fs)\n",
    "ax2.semilogy(frequencies, psd)\n",
    "\n",
    "ax3 = fig.add_subplot(133)\n",
    "psd, frequencies = multitaper_power_spectral_density(y, fs)\n",
    "ax3.semilogy(frequencies, psd)"
   ]
  },
  {
   "cell_type": "code",
   "execution_count": null,
   "metadata": {
    "collapsed": true
   },
   "outputs": [],
   "source": []
  }
 ],
 "metadata": {
  "anaconda-cloud": {},
  "kernelspec": {
   "display_name": "Python [Jadhav-2016-Data-Analysis]",
   "language": "python",
   "name": "Python [Jadhav-2016-Data-Analysis]"
  },
  "language_info": {
   "codemirror_mode": {
    "name": "ipython",
    "version": 3
   },
   "file_extension": ".py",
   "mimetype": "text/x-python",
   "name": "python",
   "nbconvert_exporter": "python",
   "pygments_lexer": "ipython3",
   "version": "3.5.2"
  }
 },
 "nbformat": 4,
 "nbformat_minor": 0
}
